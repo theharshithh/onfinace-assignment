{
  "cells": [
    {
      "cell_type": "markdown",
      "metadata": {
        "id": "view-in-github",
        "colab_type": "text"
      },
      "source": [
        "<a href=\"https://colab.research.google.com/github/theharshithh/onfinace-assignment/blob/main/cohere_embeds4_.ipynb\" target=\"_parent\"><img src=\"https://colab.research.google.com/assets/colab-badge.svg\" alt=\"Open In Colab\"/></a>"
      ]
    },
    {
      "cell_type": "code",
      "execution_count": 1,
      "metadata": {
        "id": "cA__z7w124oE"
      },
      "outputs": [],
      "source": [
        "import os"
      ]
    },
    {
      "cell_type": "code",
      "execution_count": 2,
      "metadata": {
        "id": "E16GzrTO24oF",
        "colab": {
          "base_uri": "https://localhost:8080/"
        },
        "outputId": "39aa441e-216d-4a49-d082-9374a3cb46bc"
      },
      "outputs": [
        {
          "output_type": "stream",
          "name": "stdout",
          "text": [
            "\u001b[2K     \u001b[90m━━━━━━━━━━━━━━━━━━━━━━━━━━━━━━━━━━━━━━━━\u001b[0m \u001b[32m817.7/817.7 kB\u001b[0m \u001b[31m12.2 MB/s\u001b[0m eta \u001b[36m0:00:00\u001b[0m\n",
            "\u001b[2K     \u001b[90m━━━━━━━━━━━━━━━━━━━━━━━━━━━━━━━━━━━━━━━━\u001b[0m \u001b[32m268.3/268.3 kB\u001b[0m \u001b[31m23.1 MB/s\u001b[0m eta \u001b[36m0:00:00\u001b[0m\n",
            "\u001b[2K     \u001b[90m━━━━━━━━━━━━━━━━━━━━━━━━━━━━━━━━━━━━━━━━\u001b[0m \u001b[32m1.8/1.8 MB\u001b[0m \u001b[31m50.9 MB/s\u001b[0m eta \u001b[36m0:00:00\u001b[0m\n",
            "\u001b[2K     \u001b[90m━━━━━━━━━━━━━━━━━━━━━━━━━━━━━━━━━━━━━━━━\u001b[0m \u001b[32m525.5/525.5 kB\u001b[0m \u001b[31m37.0 MB/s\u001b[0m eta \u001b[36m0:00:00\u001b[0m\n",
            "\u001b[2K     \u001b[90m━━━━━━━━━━━━━━━━━━━━━━━━━━━━━━━━━━━━━━━━\u001b[0m \u001b[32m1.9/1.9 MB\u001b[0m \u001b[31m57.7 MB/s\u001b[0m eta \u001b[36m0:00:00\u001b[0m\n",
            "\u001b[2K     \u001b[90m━━━━━━━━━━━━━━━━━━━━━━━━━━━━━━━━━━━━━━━━\u001b[0m \u001b[32m287.5/287.5 kB\u001b[0m \u001b[31m29.4 MB/s\u001b[0m eta \u001b[36m0:00:00\u001b[0m\n",
            "\u001b[2K     \u001b[90m━━━━━━━━━━━━━━━━━━━━━━━━━━━━━━━━━━━━━━━━\u001b[0m \u001b[32m111.5/111.5 kB\u001b[0m \u001b[31m10.6 MB/s\u001b[0m eta \u001b[36m0:00:00\u001b[0m\n",
            "\u001b[2K     \u001b[90m━━━━━━━━━━━━━━━━━━━━━━━━━━━━━━━━━━━━━━━━\u001b[0m \u001b[32m75.6/75.6 kB\u001b[0m \u001b[31m9.0 MB/s\u001b[0m eta \u001b[36m0:00:00\u001b[0m\n",
            "\u001b[2K     \u001b[90m━━━━━━━━━━━━━━━━━━━━━━━━━━━━━━━━━━━━━━━━\u001b[0m \u001b[32m2.4/2.4 MB\u001b[0m \u001b[31m32.9 MB/s\u001b[0m eta \u001b[36m0:00:00\u001b[0m\n",
            "\u001b[2K     \u001b[90m━━━━━━━━━━━━━━━━━━━━━━━━━━━━━━━━━━━━━━━━\u001b[0m \u001b[32m91.9/91.9 kB\u001b[0m \u001b[31m11.3 MB/s\u001b[0m eta \u001b[36m0:00:00\u001b[0m\n",
            "\u001b[2K     \u001b[90m━━━━━━━━━━━━━━━━━━━━━━━━━━━━━━━━━━━━━━━━\u001b[0m \u001b[32m60.8/60.8 kB\u001b[0m \u001b[31m8.1 MB/s\u001b[0m eta \u001b[36m0:00:00\u001b[0m\n",
            "\u001b[2K     \u001b[90m━━━━━━━━━━━━━━━━━━━━━━━━━━━━━━━━━━━━━━━━\u001b[0m \u001b[32m41.3/41.3 kB\u001b[0m \u001b[31m5.2 MB/s\u001b[0m eta \u001b[36m0:00:00\u001b[0m\n",
            "\u001b[2K     \u001b[90m━━━━━━━━━━━━━━━━━━━━━━━━━━━━━━━━━━━━━━━━\u001b[0m \u001b[32m5.4/5.4 MB\u001b[0m \u001b[31m74.5 MB/s\u001b[0m eta \u001b[36m0:00:00\u001b[0m\n",
            "\u001b[2K     \u001b[90m━━━━━━━━━━━━━━━━━━━━━━━━━━━━━━━━━━━━━━━━\u001b[0m \u001b[32m6.8/6.8 MB\u001b[0m \u001b[31m102.1 MB/s\u001b[0m eta \u001b[36m0:00:00\u001b[0m\n",
            "\u001b[2K     \u001b[90m━━━━━━━━━━━━━━━━━━━━━━━━━━━━━━━━━━━━━━━━\u001b[0m \u001b[32m60.1/60.1 kB\u001b[0m \u001b[31m6.3 MB/s\u001b[0m eta \u001b[36m0:00:00\u001b[0m\n",
            "\u001b[2K     \u001b[90m━━━━━━━━━━━━━━━━━━━━━━━━━━━━━━━━━━━━━━━━\u001b[0m \u001b[32m106.1/106.1 kB\u001b[0m \u001b[31m14.3 MB/s\u001b[0m eta \u001b[36m0:00:00\u001b[0m\n",
            "\u001b[2K     \u001b[90m━━━━━━━━━━━━━━━━━━━━━━━━━━━━━━━━━━━━━━━━\u001b[0m \u001b[32m67.3/67.3 kB\u001b[0m \u001b[31m9.0 MB/s\u001b[0m eta \u001b[36m0:00:00\u001b[0m\n",
            "\u001b[?25h  Installing build dependencies ... \u001b[?25l\u001b[?25hdone\n",
            "  Getting requirements to build wheel ... \u001b[?25l\u001b[?25hdone\n",
            "  Preparing metadata (pyproject.toml) ... \u001b[?25l\u001b[?25hdone\n",
            "\u001b[2K     \u001b[90m━━━━━━━━━━━━━━━━━━━━━━━━━━━━━━━━━━━━━━━━\u001b[0m \u001b[32m698.9/698.9 kB\u001b[0m \u001b[31m37.3 MB/s\u001b[0m eta \u001b[36m0:00:00\u001b[0m\n",
            "\u001b[2K     \u001b[90m━━━━━━━━━━━━━━━━━━━━━━━━━━━━━━━━━━━━━━━━\u001b[0m \u001b[32m1.6/1.6 MB\u001b[0m \u001b[31m48.3 MB/s\u001b[0m eta \u001b[36m0:00:00\u001b[0m\n",
            "\u001b[2K     \u001b[90m━━━━━━━━━━━━━━━━━━━━━━━━━━━━━━━━━━━━━━━━\u001b[0m \u001b[32m67.6/67.6 kB\u001b[0m \u001b[31m7.4 MB/s\u001b[0m eta \u001b[36m0:00:00\u001b[0m\n",
            "\u001b[2K     \u001b[90m━━━━━━━━━━━━━━━━━━━━━━━━━━━━━━━━━━━━━━━━\u001b[0m \u001b[32m144.8/144.8 kB\u001b[0m \u001b[31m14.5 MB/s\u001b[0m eta \u001b[36m0:00:00\u001b[0m\n",
            "\u001b[2K     \u001b[90m━━━━━━━━━━━━━━━━━━━━━━━━━━━━━━━━━━━━━━━━\u001b[0m \u001b[32m49.4/49.4 kB\u001b[0m \u001b[31m5.6 MB/s\u001b[0m eta \u001b[36m0:00:00\u001b[0m\n",
            "\u001b[2K     \u001b[90m━━━━━━━━━━━━━━━━━━━━━━━━━━━━━━━━━━━━━━━━\u001b[0m \u001b[32m71.9/71.9 kB\u001b[0m \u001b[31m8.8 MB/s\u001b[0m eta \u001b[36m0:00:00\u001b[0m\n",
            "\u001b[2K     \u001b[90m━━━━━━━━━━━━━━━━━━━━━━━━━━━━━━━━━━━━━━━━\u001b[0m \u001b[32m77.9/77.9 kB\u001b[0m \u001b[31m9.6 MB/s\u001b[0m eta \u001b[36m0:00:00\u001b[0m\n",
            "\u001b[2K     \u001b[90m━━━━━━━━━━━━━━━━━━━━━━━━━━━━━━━━━━━━━━━━\u001b[0m \u001b[32m58.3/58.3 kB\u001b[0m \u001b[31m7.5 MB/s\u001b[0m eta \u001b[36m0:00:00\u001b[0m\n",
            "\u001b[2K     \u001b[90m━━━━━━━━━━━━━━━━━━━━━━━━━━━━━━━━━━━━━━━━\u001b[0m \u001b[32m53.0/53.0 kB\u001b[0m \u001b[31m6.5 MB/s\u001b[0m eta \u001b[36m0:00:00\u001b[0m\n",
            "\u001b[2K     \u001b[90m━━━━━━━━━━━━━━━━━━━━━━━━━━━━━━━━━━━━━━━━\u001b[0m \u001b[32m46.0/46.0 kB\u001b[0m \u001b[31m5.6 MB/s\u001b[0m eta \u001b[36m0:00:00\u001b[0m\n",
            "\u001b[2K     \u001b[90m━━━━━━━━━━━━━━━━━━━━━━━━━━━━━━━━━━━━━━━━\u001b[0m \u001b[32m50.8/50.8 kB\u001b[0m \u001b[31m7.0 MB/s\u001b[0m eta \u001b[36m0:00:00\u001b[0m\n",
            "\u001b[2K     \u001b[90m━━━━━━━━━━━━━━━━━━━━━━━━━━━━━━━━━━━━━━━━\u001b[0m \u001b[32m341.4/341.4 kB\u001b[0m \u001b[31m33.3 MB/s\u001b[0m eta \u001b[36m0:00:00\u001b[0m\n",
            "\u001b[2K     \u001b[90m━━━━━━━━━━━━━━━━━━━━━━━━━━━━━━━━━━━━━━━━\u001b[0m \u001b[32m3.4/3.4 MB\u001b[0m \u001b[31m68.6 MB/s\u001b[0m eta \u001b[36m0:00:00\u001b[0m\n",
            "\u001b[2K     \u001b[90m━━━━━━━━━━━━━━━━━━━━━━━━━━━━━━━━━━━━━━━━\u001b[0m \u001b[32m1.3/1.3 MB\u001b[0m \u001b[31m76.7 MB/s\u001b[0m eta \u001b[36m0:00:00\u001b[0m\n",
            "\u001b[2K     \u001b[90m━━━━━━━━━━━━━━━━━━━━━━━━━━━━━━━━━━━━━━━━\u001b[0m \u001b[32m130.2/130.2 kB\u001b[0m \u001b[31m14.0 MB/s\u001b[0m eta \u001b[36m0:00:00\u001b[0m\n",
            "\u001b[2K     \u001b[90m━━━━━━━━━━━━━━━━━━━━━━━━━━━━━━━━━━━━━━━━\u001b[0m \u001b[32m86.8/86.8 kB\u001b[0m \u001b[31m11.1 MB/s\u001b[0m eta \u001b[36m0:00:00\u001b[0m\n",
            "\u001b[?25h  Building wheel for pypika (pyproject.toml) ... \u001b[?25l\u001b[?25hdone\n"
          ]
        }
      ],
      "source": [
        "!pip -q install langchain openai tiktoken chromadb langchain_openai"
      ]
    },
    {
      "cell_type": "code",
      "source": [
        "!pip install langchain_cohere"
      ],
      "metadata": {
        "id": "SRxYbAOrK4em"
      },
      "execution_count": null,
      "outputs": []
    },
    {
      "cell_type": "code",
      "execution_count": 13,
      "metadata": {
        "id": "aC_PvcOz24oG"
      },
      "outputs": [],
      "source": [
        "from langchain.vectorstores import Chroma\n",
        "from langchain.embeddings import OpenAIEmbeddings\n",
        "from langchain.text_splitter import RecursiveCharacterTextSplitter\n",
        "from langchain_openai import ChatOpenAI\n",
        "from langchain.chains import RetrievalQA\n",
        "from langchain.document_loaders import TextLoader\n",
        "from langchain.document_loaders import PyPDFDirectoryLoader\n",
        "from langchain_cohere import CohereEmbeddings\n",
        "\n",
        "\n",
        "def read_doc(dir):\n",
        "    file_loader = PyPDFDirectoryLoader(dir)\n",
        "    docs = file_loader.load()\n",
        "    return docs"
      ]
    },
    {
      "cell_type": "markdown",
      "metadata": {
        "id": "fHIxTEVm24oG"
      },
      "source": [
        "loading data to /dataset dir"
      ]
    },
    {
      "cell_type": "code",
      "source": [
        "!pip install pypdf sentence_transformers"
      ],
      "metadata": {
        "id": "SaT9Zf4W4hy4"
      },
      "execution_count": null,
      "outputs": []
    },
    {
      "cell_type": "code",
      "execution_count": null,
      "metadata": {
        "id": "S5fL2M3j24oG"
      },
      "outputs": [],
      "source": [
        "primary_data = read_doc('dataset/')\n",
        "primary_data"
      ]
    },
    {
      "cell_type": "markdown",
      "metadata": {
        "id": "jPppZ8Nc24oH"
      },
      "source": [
        "creating chunks for the `primary_data`"
      ]
    },
    {
      "cell_type": "code",
      "execution_count": 6,
      "metadata": {
        "id": "oSdzvCZB24oH"
      },
      "outputs": [],
      "source": [
        "text_splitter = RecursiveCharacterTextSplitter(chunk_size=1000, chunk_overlap=200)\n",
        "spilit_texts = text_splitter.split_documents(primary_data)"
      ]
    },
    {
      "cell_type": "code",
      "source": [
        "!pip install cohere"
      ],
      "metadata": {
        "id": "EJbJhIQAIpwH"
      },
      "execution_count": null,
      "outputs": []
    },
    {
      "cell_type": "markdown",
      "metadata": {
        "id": "ii2pgiH024oH"
      },
      "source": [
        "## create the embeddings using hf ede by baai"
      ]
    },
    {
      "cell_type": "code",
      "execution_count": 11,
      "metadata": {
        "id": "D5EsshWq24oH"
      },
      "outputs": [],
      "source": [
        "# #hugging face bge embeddings\n",
        "# model_name = \"Cohere/Cohere-embed-english-v3.0\"\n",
        "# encode_kwargs = {'normalize_embeddings': True} # set True to compute cosine similarity\n",
        "\n",
        "# model_norm = HuggingFaceBgeEmbeddings(\n",
        "#     model_name=model_name,\n",
        "#     model_kwargs={'device': 'cuda'},\n",
        "#     encode_kwargs=encode_kwargs\n",
        "# )"
      ]
    },
    {
      "cell_type": "markdown",
      "metadata": {
        "id": "_ni2y9GD24oH"
      },
      "source": [
        "change of embeddings from `OpenAIEmbeddings()` to bge-embeddings"
      ]
    },
    {
      "cell_type": "code",
      "execution_count": 17,
      "metadata": {
        "id": "h-1iqLhz24oH"
      },
      "outputs": [],
      "source": [
        "persist_directory = 'db-cohere'\n",
        "from google.colab import userdata\n",
        "cohere_api_key = userdata.get('COHERE_API_KEY')\n",
        "\n",
        "#cohere embeddings -> converts texts to vecs\n",
        "embedding = CohereEmbeddings(cohere_api_key=cohere_api_key,model=\"embed-english-v3.0\")\n",
        "\n",
        "#load the spilt chunk vectors into the vectordb\n",
        "vectordb = Chroma.from_documents(documents=spilit_texts, embedding=embedding, persist_directory=persist_directory)\n",
        "vectordb.persist()\n",
        "vectordb = None\n",
        "vectordb = Chroma(persist_directory=persist_directory, embedding_function=embedding)"
      ]
    },
    {
      "cell_type": "code",
      "execution_count": 18,
      "metadata": {
        "id": "lMP5adFc24oI"
      },
      "outputs": [],
      "source": [
        "vectordb = Chroma(persist_directory=persist_directory, embedding_function=embedding)"
      ]
    },
    {
      "cell_type": "code",
      "execution_count": 19,
      "metadata": {
        "id": "3trCy_oI24oI"
      },
      "outputs": [],
      "source": [
        "\n",
        "user_query = 'Considering 2 wheeler demand, who seems to be the segment winner?'"
      ]
    },
    {
      "cell_type": "code",
      "execution_count": 20,
      "metadata": {
        "colab": {
          "base_uri": "https://localhost:8080/"
        },
        "id": "vvH_lysS24oI",
        "outputId": "f4637d61-14a9-4855-f740-3041582a51db"
      },
      "outputs": [
        {
          "output_type": "execute_result",
          "data": {
            "text/plain": [
              "[Document(page_content='5% YoY , largely due to  the impact of  unseasonal rains and low yield s for key \\ncrops  such as oni on. In Mar’23, overall wholesale volumes for \\nPV/CV/tractor/3Ws are estimated to grow by 1%/ 1.5%/1 %/8% YoY, while 2Ws \\nare likely to decline 4% YoY.  \\n\\uf06e 2Ws:  Retails are expected to grow 4-6% YoY in Mar ’23 since urban demand is \\nsteady and inquiries have improved in certain states during the ongoing Navratri \\nseason . However, overall sales  are still do wn by 15 -17% v /s the pre-Covid  level \\nas rural demand remain s weak.  Enquiry levels during the key festival s (Gudi \\nPadwa and Ugadi) varied greatly among  states.  We have noted 2-6% YoY growth \\nin enquiry levels in states like Gujarat, Delhi and Karnataka , while  the same \\ndeclined by 4-8% in other key states like UP, Bihar  and Maharashtra . The i nitial \\nresponse to HMCL’ s new launch Xoom (110 cc scooter) has been positi ve as it has \\naccounted for 25-30% of the overall enquiries in Mar’23 . Xoom currently has a', metadata={'page': 0, 'source': 'dataset/sample_data.pdf'}),\n",
              " Document(page_content='this, retails for both MHCV and 2Ws are expected to grow while PV volume \\ngrowth is expected to  remain flattish.  We note  that most of the OEMs have \\nalready announced price hikes for their OBD -2 norm -compliant vehicles , with \\nCVs leading the pack  (up to 5%  hike ). We expect 2W retails to grow 4 -6% YoY in \\nMar’23, with  enquiry levels during festival s (Gudi Padwa and Ugadi ) varying \\ngreatly among states. On the other hand, PV retail  growth is  expected to remain \\nflattish (0 -2% YoY) . We note that Fronx and Jimn y have received bookings of \\nover 40k units so far. Demand momentum for MHCVs remain robust resulti ng in \\nretail growth of 10 -12% YoY while LCV volumes are expected to decline 8 -10% \\nYoY led by weak momentum in rural . For tractors, w e expect retails  to decline 3-\\n5% YoY , largely due to  the impact of  unseasonal rains and low yield s for key \\ncrops  such as oni on. In Mar’23, overall wholesale volumes for', metadata={'page': 0, 'source': 'dataset/sample_data.pdf'}),\n",
              " Document(page_content='Jinesh Gandhi  – Research Analyst  (Jinesh@MotilalOswal.com)  \\nResearch Analyst : Amber  Shukla  (Amber.Shukla@ Motilal Oswal.com ) | Aniket Desai (Aniket .Desai @MotilalOswal.com)  \\n \\nInvestors are advised to refer through important disclosures made at the last page of the Research Report.  \\nMotilal Oswal research is available on www.motilaloswal.com/Institutional -Equities, Bloomberg, Thomson Reuters, Factset and S&P Capital.  \\n @ \\n \\n \\nMHCV likely to outperform despite multiple challenges  \\nInitial signs of demand moderati on in PV; expect 2W volumes to grow YoY  \\n\\uf06e Our interaction with leading channel partners indicate s some moderation in \\ndemand  due to erratic rainfall during the month , especially in key Northern and \\ncentral regions and lower enquiries  during the ongoing festive season.  Despite \\nthis, retails for both MHCV and 2Ws are expected to grow while PV volume \\ngrowth is expected to  remain flattish.  We note  that most of the OEMs have', metadata={'page': 0, 'source': 'dataset/sample_data.pdf'}),\n",
              " Document(page_content='Motorcycles  1,37,970  1,60,522  -14.0  1,26,243  9.3 17,29,976  17,31,459  -0.1 \\nScooters  1,05,785  94,747  11.6  1,04,825  0.9 12,97,275  9,21,939  40.7  \\nMopeds  38,352  37,649  1.9 35,958  6.7 4,60,251  4,84,305  -5.0 \\nThree -Wheelers  10,070  15,036  -33.0  9,124  10.4  1,69,591  1,71,875  -1.3 \\nDomestic  2,35,861  1,98,230  19.0  2,22,745  5.9 26,07,757  20,56,387  26.8  \\nExports  56,315  1,09,724  -48.7  53,405  5.4 10,49,335  12,53,191  -16.3  \\nEicher Motors          Royal Enfield  74,155  67,670  9.6 71,544  3.6 8,36,815  6,02,268  38.9  \\nVECV  9,125  8,793  3.8 7,289  25.2  76,821  57,067  34.6  \\nEscorts Kubota  10,195  10,074  1.2 7,811  30.5  1,03,180  94,228  9.5', metadata={'page': 2, 'source': 'dataset/sample_data.pdf'})]"
            ]
          },
          "metadata": {},
          "execution_count": 20
        }
      ],
      "source": [
        "retriever = vectordb.as_retriever()\n",
        "docs = retriever.get_relevant_documents(user_query)\n",
        "#getting the relevant docs for the user query\n",
        "docs"
      ]
    },
    {
      "cell_type": "code",
      "execution_count": 21,
      "metadata": {
        "id": "BGxEISZu24oI"
      },
      "outputs": [],
      "source": [
        "retriever = vectordb.as_retriever(search_kwargs={\"k\": 5})"
      ]
    },
    {
      "cell_type": "code",
      "source": [
        "from google.colab import userdata\n",
        "openai_api_key = userdata.get('OPENAI_API_KEY')"
      ],
      "metadata": {
        "id": "dkq6dF1860EN"
      },
      "execution_count": 22,
      "outputs": []
    },
    {
      "cell_type": "markdown",
      "metadata": {
        "id": "9KscvzPA24oI"
      },
      "source": [
        "### LLM chain"
      ]
    },
    {
      "cell_type": "code",
      "execution_count": 23,
      "metadata": {
        "id": "6MSnUSES24oI"
      },
      "outputs": [],
      "source": [
        "# create the chain to answer questions\n",
        "qa_chain = RetrievalQA.from_chain_type(llm=ChatOpenAI(openai_api_key=openai_api_key,model=\"gpt-4-turbo\", temperature=1.2 ), chain_type=\"stuff\", retriever=retriever, return_source_documents=True)"
      ]
    },
    {
      "cell_type": "code",
      "execution_count": 24,
      "metadata": {
        "id": "lpGoJ7qn24oI"
      },
      "outputs": [],
      "source": [
        "def process_llm_response(llm_response):\n",
        "    print(\"Decision:\")\n",
        "    print(llm_response['result'])\n",
        "\n",
        "    print(\"\\n Source Documents:\")\n",
        "    for source in llm_response[\"source_documents\"]:\n",
        "        print(\"- \" + source.metadata['source'])\n",
        "\n",
        "    print(\"\\nRelevant Data:\")\n",
        "    for source in llm_response[\"source_documents\"]:\n",
        "        print(source.page_content)"
      ]
    },
    {
      "cell_type": "code",
      "execution_count": 25,
      "metadata": {
        "colab": {
          "base_uri": "https://localhost:8080/"
        },
        "id": "QoW-KIN724oI",
        "outputId": "86e28b52-d6d7-4192-e488-bb9a28c8bd05"
      },
      "outputs": [
        {
          "output_type": "stream",
          "name": "stderr",
          "text": [
            "/usr/local/lib/python3.10/dist-packages/langchain_core/_api/deprecation.py:117: LangChainDeprecationWarning: The function `__call__` was deprecated in LangChain 0.1.0 and will be removed in 0.2.0. Use invoke instead.\n",
            "  warn_deprecated(\n"
          ]
        },
        {
          "output_type": "stream",
          "name": "stdout",
          "text": [
            "Decision:\n",
            "Based on the data provided for 2-wheeler segments from various manufacturers for the specified period:\n",
            "\n",
            "1. **Hero MotoCorp** shows positive year-on-year growth with units sold increasing from 49,44,148 to 52,43,369 (a **6.1%** increase). This indicates resilient demand, positioning Hero MotoCorp strongly in terms of sales volume in the 2-wheeler segment.\n",
            "\n",
            "2. **TVS Motor** similarly demonstrated substantial growth. They showed an especially strong performance in scooters, with numbers increasing from 9,21,939 to 12,97,275, exhibiting an impressive **40.7%** year-on-year growth. Motorcycle sales remained almost flat while mopeds decreased by **-5.0%**. However, due to the strong scooter numbers, TVS Motor allows for considerable brand perception and growth.\n",
            "\n",
            "3. **Bajaj Auto**, on the other hand, experienced a decrease in 2-wheeler sales, dropping from 43,08,433 to 39,16,077, marking a drop of **-9.1%** year-on-year which indicates a relatively weaker market position in comparison.\n",
            "\n",
            "In the context mentioned and focusing purely on recent market performance and growth in numbers, **TVS Motor** especially shines in the scooter segment, which highlights them as a potential segment winner, closely followed by Hero MotoCorp due to its large volume and overall positive growth in this document period. Bajaj Auto appears to struggle compared to the other two in this specific period evaluated.\n",
            "\n",
            "If more granular data or preliminary company insights are required, please consult for detailed financial metrics or specific market circumstances not covered by the present data set.\n",
            "\n",
            " Source Documents:\n",
            "- dataset/sample_data.pdf\n",
            "- dataset/sample_data.pdf\n",
            "- dataset/sample_data.pdf\n",
            "- dataset/sample_data.pdf\n",
            "- dataset/sample_data.pdf\n",
            "\n",
            "Relevant Data:\n",
            "Jinesh Gandhi  – Research Analyst  (Jinesh@MotilalOswal.com)  \n",
            "Research Analyst : Amber  Shukla  (Amber.Shukla@ Motilal Oswal.com ) | Aniket Desai (Aniket .Desai @MotilalOswal.com)  \n",
            " \n",
            "Investors are advised to refer through important disclosures made at the last page of the Research Report.  \n",
            "Motilal Oswal research is available on www.motilaloswal.com/Institutional -Equities, Bloomberg, Thomson Reuters, Factset and S&P Capital.  \n",
            " @ \n",
            " \n",
            " \n",
            "MHCV likely to outperform despite multiple challenges  \n",
            "Initial signs of demand moderati on in PV; expect 2W volumes to grow YoY  \n",
            " Our interaction with leading channel partners indicate s some moderation in \n",
            "demand  due to erratic rainfall during the month , especially in key Northern and \n",
            "central regions and lower enquiries  during the ongoing festive season.  Despite \n",
            "this, retails for both MHCV and 2Ws are expected to grow while PV volume \n",
            "growth is expected to  remain flattish.  We note  that most of the OEMs have\n",
            "this, retails for both MHCV and 2Ws are expected to grow while PV volume \n",
            "growth is expected to  remain flattish.  We note  that most of the OEMs have \n",
            "already announced price hikes for their OBD -2 norm -compliant vehicles , with \n",
            "CVs leading the pack  (up to 5%  hike ). We expect 2W retails to grow 4 -6% YoY in \n",
            "Mar’23, with  enquiry levels during festival s (Gudi Padwa and Ugadi ) varying \n",
            "greatly among states. On the other hand, PV retail  growth is  expected to remain \n",
            "flattish (0 -2% YoY) . We note that Fronx and Jimn y have received bookings of \n",
            "over 40k units so far. Demand momentum for MHCVs remain robust resulti ng in \n",
            "retail growth of 10 -12% YoY while LCV volumes are expected to decline 8 -10% \n",
            "YoY led by weak momentum in rural . For tractors, w e expect retails  to decline 3-\n",
            "5% YoY , largely due to  the impact of  unseasonal rains and low yield s for key \n",
            "crops  such as oni on. In Mar’23, overall wholesale volumes for\n",
            "5% YoY , largely due to  the impact of  unseasonal rains and low yield s for key \n",
            "crops  such as oni on. In Mar’23, overall wholesale volumes for \n",
            "PV/CV/tractor/3Ws are estimated to grow by 1%/ 1.5%/1 %/8% YoY, while 2Ws \n",
            "are likely to decline 4% YoY.  \n",
            " 2Ws:  Retails are expected to grow 4-6% YoY in Mar ’23 since urban demand is \n",
            "steady and inquiries have improved in certain states during the ongoing Navratri \n",
            "season . However, overall sales  are still do wn by 15 -17% v /s the pre-Covid  level \n",
            "as rural demand remain s weak.  Enquiry levels during the key festival s (Gudi \n",
            "Padwa and Ugadi) varied greatly among  states.  We have noted 2-6% YoY growth \n",
            "in enquiry levels in states like Gujarat, Delhi and Karnataka , while  the same \n",
            "declined by 4-8% in other key states like UP, Bihar  and Maharashtra . The i nitial \n",
            "response to HMCL’ s new launch Xoom (110 cc scooter) has been positi ve as it has \n",
            "accounted for 25-30% of the overall enquiries in Mar’23 . Xoom currently has a\n",
            "UV's  29,171  28,099  3.8 28,796  1.3 3,63,332  2,27,506  59.7  \n",
            "Hero MotoCorp  4,34,165  4,50,170  -3.6 3,94,460  10.1  52,43,369  49,44,148  6.1 \n",
            "Bajaj Auto  2,81,922  2,97,188  -5.1 2,80,226  0.6 39,16,077  43,08,433  -9.1 \n",
            "  Two -Wheelers  2,33,703  2,56,324  -8.8 2,35,356  -0.7 34,27,405  38,36,856  -10.7  \n",
            "  Three -Wheelers  48,219  40,864  18.0  44,870  7.5 4,88,672  4,71,577  3.6 \n",
            "Domestic  1,64,775  1,26,752  30.0  1,53,291  7.5 20,82,735  18,01,807  15.6  \n",
            "Exports  1,17,146  1,70,436  -31.3  1,26,935  -7.7 18,33,341  25,06,626  -26.9  \n",
            "Ashok Leyland  20,894  20,123  3.8 18,571  12.5  1,89,173  1,28,326  47.4  \n",
            "M&HCV  14,197  13,990  1.5 12,668  12.1  1,21,533  73,885  64.5  \n",
            "LCV  6,697  6,133  9.2 5,903  13.5  67,640  54,441  24 \n",
            "TVS Motor  2,92,177  3,07,954  -5.1 2,76,150  5.8 36,57,093  33,09,578  10.5  \n",
            "Motorcycles  1,37,970  1,60,522  -14.0  1,26,243  9.3 17,29,976  17,31,459  -0.1 \n",
            "Scooters  1,05,785  94,747  11.6  1,04,825  0.9 12,97,275  9,21,939  40.7\n",
            "Motorcycles  1,37,970  1,60,522  -14.0  1,26,243  9.3 17,29,976  17,31,459  -0.1 \n",
            "Scooters  1,05,785  94,747  11.6  1,04,825  0.9 12,97,275  9,21,939  40.7  \n",
            "Mopeds  38,352  37,649  1.9 35,958  6.7 4,60,251  4,84,305  -5.0 \n",
            "Three -Wheelers  10,070  15,036  -33.0  9,124  10.4  1,69,591  1,71,875  -1.3 \n",
            "Domestic  2,35,861  1,98,230  19.0  2,22,745  5.9 26,07,757  20,56,387  26.8  \n",
            "Exports  56,315  1,09,724  -48.7  53,405  5.4 10,49,335  12,53,191  -16.3  \n",
            "Eicher Motors          Royal Enfield  74,155  67,670  9.6 71,544  3.6 8,36,815  6,02,268  38.9  \n",
            "VECV  9,125  8,793  3.8 7,289  25.2  76,821  57,067  34.6  \n",
            "Escorts Kubota  10,195  10,074  1.2 7,811  30.5  1,03,180  94,228  9.5\n"
          ]
        }
      ],
      "source": [
        "behaviour = '''Think like an expert finance consultant from a top tier firm. Do all the research and analysis for this document.'''\n",
        "prompt_template = 'Keep the answer crisp. Give me as much numbers as you can. Every Statement of yours should be backed with data'\n",
        "stop_prompt = f'Dont hallucinate, if u dont know the answer, tell you dont know'\n",
        "query = f\"Here is the user query : {user_query}. Remember this: {behaviour}. Give me the answers like this: {prompt_template}. Keep this in mind - {stop_prompt}\"\n",
        "llm_response = qa_chain(query)\n",
        "# llm_response\n",
        "process_llm_response(llm_response)"
      ]
    }
  ],
  "metadata": {
    "kernelspec": {
      "display_name": "Python 3",
      "name": "python3"
    },
    "language_info": {
      "codemirror_mode": {
        "name": "ipython",
        "version": 3
      },
      "file_extension": ".py",
      "mimetype": "text/x-python",
      "name": "python",
      "nbconvert_exporter": "python",
      "pygments_lexer": "ipython3",
      "version": "3.10.12"
    },
    "colab": {
      "provenance": [],
      "gpuType": "T4",
      "include_colab_link": true
    },
    "accelerator": "GPU"
  },
  "nbformat": 4,
  "nbformat_minor": 0
}
