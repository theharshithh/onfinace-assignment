{
  "cells": [
    {
      "cell_type": "markdown",
      "metadata": {
        "id": "view-in-github",
        "colab_type": "text"
      },
      "source": [
        "<a href=\"https://colab.research.google.com/github/theharshithh/onfinace-assignment/blob/main/connectors.ipynb\" target=\"_parent\"><img src=\"https://colab.research.google.com/assets/colab-badge.svg\" alt=\"Open In Colab\"/></a>"
      ]
    },
    {
      "cell_type": "markdown",
      "source": [
        "# tldr 07\n",
        "1. use cohere's connectors and induced.ai api + yfinance to feed the raw updated data -> https://docs.cohere.com/docs/connectors?_gl=1*1h90opw*_gcl_au*MTM5OTE1Mzc2NC4xNzEyOTQ0NTU1*_ga*NzgyODYyMzI3LjE3MTI5NDQ1OTk.*_ga_CRGS116RZS*MTcxMzAyNjc0NS4zLjEuMTcxMzAyNzIwMy42MC4wLjA.\n",
        "2. trying for an alternative of fine-tuning\n",
        "\n",
        "suggestions\n",
        "2. use LLaVA or CLIP to decode images n parse it\n",
        "1. better table conversations ref : https://github.com/FullStackRetrieval-com/RetrievalTutorials/blob/main/tutorials/LevelsOfTextSplitting/5_Levels_Of_Text_Splitting.ipynb\n",
        "\n",
        "and https://github.com/langchain-ai/langchain/blob/master/cookbook/Multi_modal_RAG.ipynb\n"
      ],
      "metadata": {
        "id": "vvtCKQaH49u6"
      }
    },
    {
      "cell_type": "code",
      "execution_count": 3,
      "metadata": {
        "id": "E16GzrTO24oF"
      },
      "outputs": [],
      "source": [
        "!pip --quiet install langchain openai tiktoken chromadb langchain_openai"
      ]
    },
    {
      "cell_type": "code",
      "source": [
        "!pip --quiet install langchain_cohere cohere pypdf"
      ],
      "metadata": {
        "id": "SRxYbAOrK4em",
        "colab": {
          "base_uri": "https://localhost:8080/"
        },
        "outputId": "ef3a2827-3c98-42af-d224-13506dba6fa5"
      },
      "execution_count": 9,
      "outputs": [
        {
          "output_type": "stream",
          "name": "stdout",
          "text": [
            "\u001b[?25l     \u001b[90m━━━━━━━━━━━━━━━━━━━━━━━━━━━━━━━━━━━━━━━━\u001b[0m \u001b[32m0.0/290.4 kB\u001b[0m \u001b[31m?\u001b[0m eta \u001b[36m-:--:--\u001b[0m\r\u001b[2K     \u001b[91m━━━━\u001b[0m\u001b[90m╺\u001b[0m\u001b[90m━━━━━━━━━━━━━━━━━━━━━━━━━━━━━━━━━━━\u001b[0m \u001b[32m30.7/290.4 kB\u001b[0m \u001b[31m951.7 kB/s\u001b[0m eta \u001b[36m0:00:01\u001b[0m\r\u001b[2K     \u001b[91m━━━━━━━━━━━━\u001b[0m\u001b[91m╸\u001b[0m\u001b[90m━━━━━━━━━━━━━━━━━━━━━━━━━━━\u001b[0m \u001b[32m92.2/290.4 kB\u001b[0m \u001b[31m1.2 MB/s\u001b[0m eta \u001b[36m0:00:01\u001b[0m\r\u001b[2K     \u001b[91m━━━━━━━━━━━━━━━━━━━━━━━━━━━━\u001b[0m\u001b[90m╺\u001b[0m\u001b[90m━━━━━━━━━━━\u001b[0m \u001b[32m204.8/290.4 kB\u001b[0m \u001b[31m1.9 MB/s\u001b[0m eta \u001b[36m0:00:01\u001b[0m\r\u001b[2K     \u001b[90m━━━━━━━━━━━━━━━━━━━━━━━━━━━━━━━━━━━━━━━━\u001b[0m \u001b[32m290.4/290.4 kB\u001b[0m \u001b[31m2.0 MB/s\u001b[0m eta \u001b[36m0:00:00\u001b[0m\n",
            "\u001b[?25h"
          ]
        }
      ]
    },
    {
      "cell_type": "code",
      "execution_count": 32,
      "metadata": {
        "id": "aC_PvcOz24oG"
      },
      "outputs": [],
      "source": [
        "from langchain.vectorstores import Chroma\n",
        "from langchain.embeddings import OpenAIEmbeddings\n",
        "from langchain.text_splitter import RecursiveCharacterTextSplitter\n",
        "from langchain_openai import ChatOpenAI\n",
        "from langchain.chains import RetrievalQA\n",
        "from langchain.document_loaders import TextLoader, PyPDFLoader\n",
        "from langchain.document_loaders import PyPDFDirectoryLoader\n",
        "# from langchain_cohere import CohereEmbeddings\n",
        "import cohere\n",
        "from google.colab import userdata\n",
        "cohere_api_key = userdata.get('COHERE_API_KEY')\n",
        "openai_api_key = userdata.get('OPENAI_API_KEY')\n",
        "from langchain.prompts.example_selector import (\n",
        "    MaxMarginalRelevanceExampleSelector,\n",
        "    SemanticSimilarityExampleSelector,\n",
        ")\n",
        "\n",
        "co = cohere.Client(cohere_api_key)\n",
        "from langchain_community.document_transformers import (\n",
        "    LongContextReorder,\n",
        ")\n"
      ]
    },
    {
      "cell_type": "code",
      "source": [
        "# def read_doc(dir):\n",
        "#     file_loader = PyPDFDirectoryLoader(dir)\n",
        "#     docs = file_loader.load()\n",
        "#     return docs\n",
        "\n",
        "file_loader = PyPDFLoader('dataset/sample_data.pdf')\n",
        "docs = file_loader.load()\n",
        "docs"
      ],
      "metadata": {
        "id": "Z1ax0E2Y05IH",
        "colab": {
          "base_uri": "https://localhost:8080/"
        },
        "outputId": "091b06ff-378b-48e7-b1ea-7dac86f0d411"
      },
      "execution_count": 10,
      "outputs": [
        {
          "output_type": "stream",
          "name": "stderr",
          "text": [
            "WARNING:pypdf._reader:XRef object at 694418 can not be read, some object may be missing\n",
            "WARNING:pypdf._reader:Previous trailer can not be read (\"'NumberObject' object is not subscriptable\",)\n",
            "WARNING:pypdf._reader:Object 1 0 found\n",
            "WARNING:pypdf._reader:Object 2 0 found\n",
            "WARNING:pypdf._reader:Object 3 0 found\n",
            "WARNING:pypdf._reader:Object 35 0 found\n",
            "WARNING:pypdf._reader:Object 38 0 found\n",
            "WARNING:pypdf._reader:Object 40 0 found\n",
            "WARNING:pypdf._reader:Object 43 0 found\n",
            "WARNING:pypdf._reader:Object 45 0 found\n",
            "WARNING:pypdf._reader:Object 5 0 found\n",
            "WARNING:pypdf._reader:Object 2337 0 found\n",
            "WARNING:pypdf._reader:Object 9 0 found\n",
            "WARNING:pypdf._reader:Object 2341 0 found\n",
            "WARNING:pypdf._reader:Object 11 0 found\n",
            "WARNING:pypdf._reader:Object 2338 0 found\n",
            "WARNING:pypdf._reader:Object 12 0 found\n",
            "WARNING:pypdf._reader:Object 13 0 found\n",
            "WARNING:pypdf._reader:Object 2340 0 found\n",
            "WARNING:pypdf._reader:Object 18 0 found\n",
            "WARNING:pypdf._reader:Object 2342 0 found\n",
            "WARNING:pypdf._reader:Object 19 0 found\n",
            "WARNING:pypdf._reader:Object 20 0 found\n",
            "WARNING:pypdf._reader:Object 2344 0 found\n",
            "WARNING:pypdf._reader:Object 23 0 found\n",
            "WARNING:pypdf._reader:Object 2345 0 found\n",
            "WARNING:pypdf._reader:Object 25 0 found\n",
            "WARNING:pypdf._reader:Object 2334 0 found\n",
            "WARNING:pypdf._reader:Object 26 0 found\n",
            "WARNING:pypdf._reader:Object 27 0 found\n",
            "WARNING:pypdf._reader:Object 2336 0 found\n",
            "WARNING:pypdf._reader:Object 4 0 found\n",
            "WARNING:pypdf._reader:Object 7 0 found\n",
            "WARNING:pypdf._reader:Object 16 0 found\n",
            "WARNING:pypdf._reader:Object 30 0 found\n",
            "WARNING:pypdf._reader:Object 32 0 found\n",
            "WARNING:pypdf._reader:Object 34 0 found\n",
            "WARNING:pypdf._reader:Object 36 0 found\n",
            "WARNING:pypdf._reader:Object 37 0 found\n",
            "WARNING:pypdf._reader:Object 39 0 found\n",
            "WARNING:pypdf._reader:Object 41 0 found\n",
            "WARNING:pypdf._reader:Object 44 0 found\n",
            "WARNING:pypdf._reader:Object 47 0 found\n",
            "WARNING:pypdf._reader:Object 2349 0 found\n",
            "WARNING:pypdf._reader:Object 49 0 found\n",
            "WARNING:pypdf._reader:Object 2350 0 found\n",
            "WARNING:pypdf._reader:Object 54 0 found\n",
            "WARNING:pypdf._reader:Object 2346 0 found\n",
            "WARNING:pypdf._reader:Object 55 0 found\n",
            "WARNING:pypdf._reader:Object 56 0 found\n",
            "WARNING:pypdf._reader:Object 2348 0 found\n",
            "WARNING:pypdf._reader:Object 59 0 found\n",
            "WARNING:pypdf._reader:Object 2352 0 found\n",
            "WARNING:pypdf._reader:Object 60 0 found\n",
            "WARNING:pypdf._reader:Object 61 0 found\n",
            "WARNING:pypdf._reader:Object 2354 0 found\n",
            "WARNING:pypdf._reader:Object 46 0 found\n"
          ]
        },
        {
          "output_type": "execute_result",
          "data": {
            "text/plain": [
              "[Document(page_content=' \\nJinesh Gandhi  – Research Analyst  (Jinesh@MotilalOswal.com)  \\nResearch Analyst : Amber  Shukla  (Amber.Shukla@ Motilal Oswal.com ) | Aniket Desai (Aniket .Desai @MotilalOswal.com)  \\n \\nInvestors are advised to refer through important disclosures made at the last page of the Research Report.  \\nMotilal Oswal research is available on www.motilaloswal.com/Institutional -Equities, Bloomberg, Thomson Reuters, Factset and S&P Capital.  \\n @ \\n \\n \\nMHCV likely to outperform despite multiple challenges  \\nInitial signs of demand moderati on in PV; expect 2W volumes to grow YoY  \\n\\uf06e Our interaction with leading channel partners indicate s some moderation in \\ndemand  due to erratic rainfall during the month , especially in key Northern and \\ncentral regions and lower enquiries  during the ongoing festive season.  Despite \\nthis, retails for both MHCV and 2Ws are expected to grow while PV volume \\ngrowth is expected to  remain flattish.  We note  that most of the OEMs have \\nalready announced price hikes for their OBD -2 norm -compliant vehicles , with \\nCVs leading the pack  (up to 5%  hike ). We expect 2W retails to grow 4 -6% YoY in \\nMar’23, with  enquiry levels during festival s (Gudi Padwa and Ugadi ) varying \\ngreatly among states. On the other hand, PV retail  growth is  expected to remain \\nflattish (0 -2% YoY) . We note that Fronx and Jimn y have received bookings of \\nover 40k units so far. Demand momentum for MHCVs remain robust resulti ng in \\nretail growth of 10 -12% YoY while LCV volumes are expected to decline 8 -10% \\nYoY led by weak momentum in rural . For tractors, w e expect retails  to decline 3-\\n5% YoY , largely due to  the impact of  unseasonal rains and low yield s for key \\ncrops  such as oni on. In Mar’23, overall wholesale volumes for \\nPV/CV/tractor/3Ws are estimated to grow by 1%/ 1.5%/1 %/8% YoY, while 2Ws \\nare likely to decline 4% YoY.  \\n\\uf06e 2Ws:  Retails are expected to grow 4-6% YoY in Mar ’23 since urban demand is \\nsteady and inquiries have improved in certain states during the ongoing Navratri \\nseason . However, overall sales  are still do wn by 15 -17% v /s the pre-Covid  level \\nas rural demand remain s weak.  Enquiry levels during the key festival s (Gudi \\nPadwa and Ugadi) varied greatly among  states.  We have noted 2-6% YoY growth \\nin enquiry levels in states like Gujarat, Delhi and Karnataka , while  the same \\ndeclined by 4-8% in other key states like UP, Bihar  and Maharashtra . The i nitial \\nresponse to HMCL’ s new launch Xoom (110 cc scooter) has been positi ve as it has \\naccounted for 25-30% of the overall enquiries in Mar’23 . Xoom currently has a \\nwaiting period of 30 days  as dispatches are yet to ramp up . Overall i nventory has \\nnow come back to the normal level of 40 -45 days , with HMCL having the highest \\nat 50-55 days , followed by TVSL, BJAUT and HMSI with 25 -35 days. Inventory for \\nRE has inched up to 20 -25 days. We have noted a waiting period of 1 -1.5 months \\nfor Hunter and 3 -4 months for Super Meteor 650. We expect dispatches for \\nHMCL/BAJUT (incl 3W)/TVS (in cl 3W) to fall by 4%/5%/5% , while RE’s dispatches  \\nmay  grow 10% YoY.      \\n\\uf06e PVs: Mar’23 r etails growth is  expected to be flattish YoY with 0 -2% YoY growth. \\nThere has been some moderation  in enquiries led  by muted demand  during \\nongoing festival s and persistent weakness in  the rural  market . Moreover, rising \\ninterest rates have further hampered bookings for low-end models. Although \\nthe inven tory level has increased to 25 -30 days in Mar’23 v/s  20-25 days till Feb-\\nend, it has now come back to the normal level after three years. However, there \\nis still a long waiting period for SUVs, especially for high -end/AMT  variants. \\nTTMT has announced  a price hike of INR10 -15k per vehicle  for its BS6 phase -II-\\ncompliant vehicles . MM  has announced a price hike of INR15 -20k for  its petrol \\nand INR25 -30k for diesel variants,  while MSIL will announce a price hike  by early \\n Sector Update | 27 March 2023  \\n  \\nAutomobiles  \\n\"We expect (Nexa) to close \\nthis (fiscal) year at around \\n3.7 lakh units against 2.55 \\nlakh units that we did last \\nyear. We hope to sell larger \\nnumbers next year , with the \\nFronx, the Jimny (coming in) \\nand the full year effect of the \\nGrand Vitara. Next year,  \\nthanks to these new models, \\nwe are expecting the sales to \\nbe even higher, maybe close \\nto six lakh units .” \\n  \\nMr. Shashank Srivastava,   \\nSr. Executive Officer \\n(Marketing & Sales), MSIL  \\n', metadata={'source': 'dataset/sample_data.pdf', 'page': 0}),\n",
              " Document(page_content=' Automobiles  \\n27 March 2023    2 \\nApr’23 . Despite some moderation in demand in last two months, discounts \\nremain muted.  We expect dispatches for MSIL to fall 3%, while dispatche s for \\nMM ( incl pickups)/TTMT PV to grow 16%/3% YoY.  \\n\\uf06e CVs:  Our channel checks suggest MHCV retails  to grow 10 -12% YoY  in Mar’23  led \\nby healthy fleet utilization  driven by infra -led demand and pre -buying before \\nOBD -2 transition.  However , a broad -based recovery has not yet materialized as \\nreplacement demand is yet to reflect completely.  Our interaction suggests  the \\neffect of higher borrowing rates have begun to reflect  in bookings  to some \\nextent . LCV retails, on the other hand  are expected to decline 8 -10% YoY due to \\nsubdued demand in rural. Inventory level has increased to over 30 days from  \\naverage 20 -25 days in the last two months , partly due to transition to RDE \\nnorms . While  TTMT has already announced a price hike of up to 5% for its BS6 \\nphase -II-compliant vehicles, AL is expected to announce it in early Apr’23 . \\nDiscounts remain moderate  at 4-6%, with AL leading the pack. We expect \\ndispatches for TTMT to remain flat  YoY, while the same  should grow 4% YoY  \\neach  for AL and VECV.  \\n\\uf06e Tractors:  We expect Ma r’23 retails to decline 3-5% YoY , largely led by the \\nanticipation of lower output for Rabi crops due to  unseasonal rains  and low \\nyield s for key crops . As a result, the enquiry level  has been  weak during the on-\\ngoing Navratri festival , especially in M aharashtra  and UP. However, our \\ninteraction indicates relatively better demand in southern states like Telangana, \\nwith retails expected to grow 3 -5% YoY  in Mar’23 . Due to unseasonal rains, \\ndemand began to deteriorate in the second half of the month across the \\nnorthern a nd central states , including Punjab, MP, UP  and Maharashtra . As per \\nour interaction, erratic rainfall may affect wheat production by 15-20% during \\nthe season.  We expect that the impact of weak agri sentiments in central and \\nnorthern regions, possibility of El -Nino impact and a high base of FY23 will keep \\ntractor volume growth  in check in FY24. Inventory is  currently at a normal level \\nof 40 -45 days.  We expect dispatches to grow by 1% YoY each for MM and ESC.  \\n\\uf06e Valuation and view:  We prefer CVs over other segments  thanks to  strong \\ndemand and a stable competitive environment. We prefer companies with: 1) \\nhigher visibility in terms of demand recovery, 2) a strong competitive \\npositioning, 3) encouraging margin drivers, and 4) a strong balance sheet.  AL and \\nTTMT  are our top OEM pick s. Among auto component stocks, we prefer \\nMOTHERSO and BHFC .  \\n \\n  ', metadata={'source': 'dataset/sample_data.pdf', 'page': 1}),\n",
              " Document(page_content=\" Automobiles  \\n27 March 2023    3 \\nSnapshot of Mar ’23 volume estimates                \\n  YoY     MoM        \\nCompany Sales  Mar -23 Mar -22 YoY (%)  \\n chg Feb-23 MoM (%) \\nchg FY23E  FY22  (%) \\n chg \\nMaruti Suzuki  1,64,812  1,70,395  -3.3 1,72,321  -4.4 19,60,905  16,52,653  18.7  \\nLCVs  3,887  3,797  2.4 3,356  15.8  37,869  33,812  12.0  \\nVans  11,901  9,221  29.1  11,352  4.8 1,31,097  1,08,345  21.0  \\nMini Segment  20,020  15,491  29.2  21,875  -8.5 2,41,349  2,11,762  14.0  \\nCompact (incl Dzire Tour)  74,673  84,761  -11.9  81,325  -8.2 8,95,245  7,26,443  23.2  \\nMid-Size - CIAZ  972 1,834  -47.0  792 22.7  14,282  15,869  -10.0  \\nUVs 36,931  28,795  28.3  36,414  1.4 3,95,421  3,18,046  24.3  \\nDomestic  1,48,385  1,43,899  3.1 1,55,114  -4.3 17,15,264  14,14,277  21.3  \\nExport  16,427  26,496  -38.0  17,207  -4.5 2,45,641  2,38,376  3.0 \\nMahindra & Mahindra  94,804  84,406  12.3  84,592  12.1  10,99,710  8,20,299  34.1  \\n   UV (incl. pick -ups)  57,637  49,771  15.8  52,364  10.1  6,28,612  4,29,087  46.5  \\n   LCV & M&HCV  833 829 0.5 1,087  -23.3  9,410  6,435  46.2  \\n   Three -Wheelers  6,282  4,043  55.4  5,350  17.4  59,105  30,079  96.5  \\n   Tractors  30,051  29,763  1.0 25,791  16.5  4,02,582  3,54,698  13.5  \\nTata Motors  87,709  86,561  1.3 79,705  10.0  9,51,287  7,26,191  31.0  \\n   HCV's  22,589  23,238  -2.8 17,928  26.0  1,78,195  1,44,500  23.3  \\n   LCV's  21,485  20,855  3.0 18,637  15.3  2,32,595  2,09,515  11.0  \\n   CV's  44,074  44,093  0.0 36,565  20.5  4,10,790  3,54,015  16.0  \\n   Cars  14,463  14,369  0.7 14,344  0.8 1,77,165  1,44,670  22.5  \\n   UV's  29,171  28,099  3.8 28,796  1.3 3,63,332  2,27,506  59.7  \\nHero MotoCorp  4,34,165  4,50,170  -3.6 3,94,460  10.1  52,43,369  49,44,148  6.1 \\nBajaj Auto  2,81,922  2,97,188  -5.1 2,80,226  0.6 39,16,077  43,08,433  -9.1 \\n  Two -Wheelers  2,33,703  2,56,324  -8.8 2,35,356  -0.7 34,27,405  38,36,856  -10.7  \\n  Three -Wheelers  48,219  40,864  18.0  44,870  7.5 4,88,672  4,71,577  3.6 \\nDomestic  1,64,775  1,26,752  30.0  1,53,291  7.5 20,82,735  18,01,807  15.6  \\nExports  1,17,146  1,70,436  -31.3  1,26,935  -7.7 18,33,341  25,06,626  -26.9  \\nAshok Leyland  20,894  20,123  3.8 18,571  12.5  1,89,173  1,28,326  47.4  \\nM&HCV  14,197  13,990  1.5 12,668  12.1  1,21,533  73,885  64.5  \\nLCV  6,697  6,133  9.2 5,903  13.5  67,640  54,441  24 \\nTVS Motor  2,92,177  3,07,954  -5.1 2,76,150  5.8 36,57,093  33,09,578  10.5  \\nMotorcycles  1,37,970  1,60,522  -14.0  1,26,243  9.3 17,29,976  17,31,459  -0.1 \\nScooters  1,05,785  94,747  11.6  1,04,825  0.9 12,97,275  9,21,939  40.7  \\nMopeds  38,352  37,649  1.9 35,958  6.7 4,60,251  4,84,305  -5.0 \\nThree -Wheelers  10,070  15,036  -33.0  9,124  10.4  1,69,591  1,71,875  -1.3 \\nDomestic  2,35,861  1,98,230  19.0  2,22,745  5.9 26,07,757  20,56,387  26.8  \\nExports  56,315  1,09,724  -48.7  53,405  5.4 10,49,335  12,53,191  -16.3  \\nEicher Motors          Royal Enfield  74,155  67,670  9.6 71,544  3.6 8,36,815  6,02,268  38.9  \\nVECV  9,125  8,793  3.8 7,289  25.2  76,821  57,067  34.6  \\nEscorts Kubota  10,195  10,074  1.2 7,811  30.5  1,03,180  94,228  9.5 \\n \\n  \", metadata={'source': 'dataset/sample_data.pdf', 'page': 2}),\n",
              " Document(page_content=\" Automobiles  \\n27 March 2023    4 \\nComparative valuations               \\n  Rating  Mcap  CMP  TP P/E (x)  EV/ EBITDA (x)  PB (x)  FY25  \\nYield (%)  EPS CAGR  \\n(%) \\nFY23E -25E Auto OEM's    (INR b)  (INR)  (INR)  FY23E  FY24E  FY25E  FY23E  FY24E  FY25E  FY23E  FY24E  FY25E  Div FCF \\nBajaj Auto    Neutral  1,077  3,807  4,150  17.9  15.8  14.3  13.0  11.1  10.1  4.4 4.3 4.1 5.5 5.3 11.8  \\nHero MotoCorp  Buy 462 2,308  2,982  17.2  13.8  12.4  9.1 7.2 6.3 2.8 2.7 2.5 6.1 8.6 17.8  \\nTVS Motor  Neutral  497 1,047  969 34.0  25.6  22.0  18.6  14.2  12.1  8.2 6.5 5.2 0.6 5.0 24.2  \\nEicher Motors  Buy 789 2,886  3,613  28.2  21.5  17.0  22.3  18.4  15.0  5.4 4.5 3.6 0.9 5.8 28.9  \\nMaruti Suzuki  Buy 2,500  8,275  10,545  31.7  22.7  19.1  19.5  14.2  12.0  4.2 3.7 3.3 1.8 3.9 28.7  \\nM&M  Buy 1,362  1,138  1,524  18.4  14.6  12.8  13.1  10.0  8.4 1.5 1.3 1.1 1.5 7.2 20.2  \\nTata Motors  Buy 1,577  412 531 -70.3  15.6  12.7  7.3 3.9 3.2 3.6 2.9 2.4 0.0 9.0 #NUM!  \\nAshok Leyland  Buy 395 135 186 34.5  17.3  13.3  14.9  10.1  8.1 5.4 5.0 4.1 1.5 9.2 61.0  \\nEscorts  Neutral  226 1,844  1,895  31.8  24.9  19.5  25.8  13.4  11.5  2.5 2.5 2.3 0.5 4.2 27.7  \\nAuto Ancillaries                                  \\nBharat Forge  Buy 353 758 1,050  46.0  23.1  18.0  19.6  13.5  10.9  5.0 4.3 3.5 0.8 5.8 59.7  \\nExide Industries  Buy 147 173 215 15.0  13.3  11.0  8.8 7.7 6.2 1.3 1.2 1.1 1.9 8.7 16.9  \\nAmara Raja  Neutral  95 557 630 12.1  11.3  10.4  6.6 5.8 5.1 1.9 1.7 1.5 2.7 4.9 7.8 \\nBOSCH  Neutral  540 18,323  18,125  37.0  28.9  25.3  27.6  20.9  18.0  4.7 4.4 4.0 1.9 2.5 21.0  \\nEndurance Tech  Buy 167 1,190  1,625  33.5  22.3  19.1  15.8  11.6  9.9 3.9 3.5 3.1 1.3 3.9 32.3  \\nSAMIL  Buy 434 64 100 30.8  16.3  12.2  9.0 6.2 4.7 2.0 1.9 1.7 2.5 12.3  59.1  \\nMahindra CIE  Buy 129 341 450 18.9  14.5  12.4  11.3  8.8 7.3 2.5 2.2 1.9 1.3 6.0 23.3  \\nCEAT  Buy 55 1,369  1,860  33.7  11.5  9.1 8.4 5.1 4.1 1.6 1.5 1.3 0.9 12.4  93.0  \\nBalkrishna Ind  Neutral  374 1,937  2,035  36.9  23.8  20.1  19.6  14.2  12.1  5.0 4.4 3.8 1.8 3.5 35.4  \\nMRF  Sell 354 83,603  75,000  52.4  26.8  20.2  16.2  11.0  8.9 2.4 2.2 2.0 0.2 3.2 60.9  \\nApollo Tyres  Buy 195 307 395 17.3  12.1  9.7 6.6 5.0 4.0 1.4 1.3 1.2 1.5 12.9  34.1  \\nSona BLW  Neutral  242 415 485 60.0  41.1  32.4  37.8  26.3  21.2  10.5  8.9 7.4 0.9 1.9 36.0  \\nTube Investments  Buy 468 2,495  3,194  37.4  30.4  24.5  27.1  22.5  18.1  12.2  9.6 7.5 0.4 4.3 23.5  \\nMSUMI  Buy 209 47 73 42.8  25.9  21.6  28.2  17.7  14.8  15.7  11.0  8.5 2.2 4.2 41.0  \\nCRAFTSMAN  Buy 64 3,008  3,925  28.7  16.9  13.8  10.8  7.3 6.1 4.4 3.5 2.8 0.4 8.3 44.4  \\n \\n   \", metadata={'source': 'dataset/sample_data.pdf', 'page': 3}),\n",
              " Document(page_content=' Automobiles  \\n27 March 2023    5 \\nN O T E S  \\n  ', metadata={'source': 'dataset/sample_data.pdf', 'page': 4}),\n",
              " Document(page_content=' Automobiles  \\n27 March 2023    6 \\nExplanation of Investment Rating  \\nInvestment Rating  Expected return (over 12 -month)  \\nBUY >=15%  \\nSELL  < - 10% \\nNEUTRAL  > - 10 % to 15%  \\nUNDER REVIEW  Rating may undergo a change  \\nNOT RATED  We have forward looking estimates for the stock but we refrain from assigning recommendation  \\n \\n*In case the recommendation given by the Research Analyst is inconsistent with the investment rating legend for a continuous period of 30 days, the Research Analyst shall within following 30 days take appropr iate measures to make the recommendation \\nconsistent with the investment rating legend.  \\n \\nDisclosures:  \\nThe following Disclosures are being made in compliance with the SEBI Research Analyst Regulations 2014 (herein after referred to as the Regulations).  \\n \\nMotilal Oswal Financial Services Ltd.   (MOFSL) is a SEBI Registered Research Analyst having registration no. INH000000412. MOFSL, the Research Entity (RE) as define d in the Regulations, is engaged in the business of providing Stock broking services, \\nDepository participant services & distribut ion of various financial products. MOFSL is a listed public company, the details in respect of which are available on www.motilaloswal.com . MOFSL (erstwhile Motilal Oswal Securities Limited - MOSL) is registered with the \\nSecurities & Exchange Board of India (SEBI) and is a registered Trading Member with National Stock Exchange of India Ltd. (NS E) and Bombay Stock Exchange Limited (BSE), Multi Commodity Exchange of India Limited (MCX) and National Commodity & \\nDeriv atives Exchange Limited (NCDEX) for its stock broking activities & is Depository participant with Central Depository Services  Limited (CDSL) National Securities Depository Limited (NSDL),NERL, COMRIS and CCRL and is member of Association of Mutual \\nFunds of  India (AMFI) for distribution of financial products and Insurance Regulatory & Development Authority of India (IRDA) as Corpo rate Agent for insurance products.  Details of associate entities of Motilal Oswal Financial Services Ltd.  are available on the \\nwebsite at http://onlinereports.motilaloswal.com/Dormant/documents/Associate%20Details.pdf  \\n \\nDetails of pending Enquiry Proceedings of Motilal Oswal Financial Serv ices Limited are available on the website at https://galaxy.motilaloswal.com/ResearchAnalyst/PublishViewLitigation.aspx  \\n \\nMOFSL, it’s associates, Research Analyst or their relatives may have any financial interest in the subject company. MOFSL and/or its associates and/or Research Analyst o r their relatives may have actual beneficial ownership of 1% or more securities in the \\nsubject company at the end of the month imme diately preceding the date of publication of the Research Report or date of the public appearance. MOFSL and its associate company(ies), their directors and Research Analyst and their relatives may have any other \\npotential conflict of interests at the time  of publication of the research report or at the time of public appearance, however the same shall have no bearing whatsoever on the specific recommendations made by the analyst(s), as the recommendati ons made by the \\nanalyst(s) are completely independent o f the views of the associates of MOFSL even though there might exist an inherent conflict of interest in some of the stocks m entioned in the research report.  \\n \\nIn the past 12 months, MOFSL or any of its associates may have:  \\na) received any compensation/other b enefits from the subject company of this report  \\nb) managed or co -managed public offering of securities from subject company of this research report,  \\nc) received compensation for investment banking or merchant banking or brokerage services from subject company of  this research report,  \\nd) received compensation for products or services other than investment banking or merchant banking or brokerage services from t he subject company of this research report.  \\n \\n\\uf0b7 MOFSL and it’s associates have not received any compensation or  other benefits from the subject company or third party in connection with the research report.  \\n\\uf0b7 Subject Company may have been a client of MOFSL or its associates during twelve months preceding the date of distribution of the research report.  \\n\\uf0b7 Research Anal yst may have served as director/officer/employee in the subject company.  \\n\\uf0b7 MOFSL and research analyst may engage in market making activity for the subject company.  \\nMOFSL and its associate company(ies), and Research Analyst and their relatives from time to ti me may have:  \\na) a long or short position in, act as principal in, and buy or sell the securities or derivatives thereof of companies menti oned herein.  \\n(b) be engaged in any other transaction involving such securities and earn brokerage or other compensati on or act as a market maker in the financial instruments of the company(ies) discussed herein or act as an advisor or lender/ borrower to such company(ies) \\nor may have any other potential conflict of interests with respect to any recommendation and other re lated information and opinions.; however the same shall have no bearing whatsoever on the specific recommendations made by th e analyst(s), as the \\nrecommendations made by the analyst(s) are completely independent of the views of the associates of MOFSL even  though there might exist an inherent conflict of interest in some of the stocks mentioned in the research report.  \\nAbove disclosures include beneficial holdings lying in demat account of MOFSL which are opened for proprietary investments on ly. While calcul ating beneficial holdings, It does not consider demat accounts which are opened in name of MOFSL for other purposes \\n(i.e holding client securities, collaterals, error trades etc.). MOFSL also earns DP income from clients which are not consid ered in above d isclosures.  \\nTo enhance transparency, MOFSL has incorporated a Disclosure of Interest Statement in this document. This should, however, no t be treated as endorsement of the views expressed in the report. MOFSL and / or its affiliates do and seek to do business in cludin g \\ninvestment banking with companies covered in its research reports. As a result, the recipients of this report should be aware  that MOFSL may have a potential conflict of interest that may affect the objectivity of this report.  \\n \\nTerms & Conditions:  \\nThis report has been prepared by MOFSL and is meant for sole use by the recipient and not for circulation. The report and informat ion contained herein is strictly confidential and may not be altered in any way, transmitted to, copied or distributed, in pa rt or in \\nwhole, to any other person or to the media or reproduced in any form, without prior written consent of MOFSL. The report is b ased on the facts, figures and information that are considered true, correct, reliable and accurate. The intent of this repor t is not \\nrecommendatory in nature. The information is obtained from publicly available media or other sources believed to be reliable.  Such information has not been independently verified and no guaranty, representation of warranty, express or implied, is mad e as to its \\naccuracy, completeness or correctness. All such information and opinions are subject to change without notice. The report is prepared solely for informational purpose and does not constitute an offer document or solicitation of offer to buy or sell or subscribe for \\nsecurities or other financial instruments for the clients. Though disseminated to all the customers simultaneously, not all c ustomers may receive this report at the same time. MOFSL will not treat recipients as customers by virtue of their receiving this report.  \\nAnalyst Certification  \\nThe views expressed in this research report accurately reflect the personal views of the analyst(s) about the subject securit ies or issues, and no part of the compensation of the research analyst(s) was, i s, or will be directly or indirectly related to the specific \\nrecommendations and views expressed by research analyst(s) in this report.  \\n \\nDisclosure of Interest Statement      \\nAnalyst ownership of the stock    No  \\nA graph of daily closing prices of securi ties is available at www.nseindia.com , www.bseindia.com . Research Analyst views on Subject Company may vary based on Fundamental research and Technical Research. Proprietary trading desk of MOFSL or its \\nassociates maintains arm’s length distance with Research Team as all the activities are segregated from MOFSL research activity and therefore it can have an independent view with regards to subject company for which Research Team have expressed their \\nviews.  \\n \\nRegional Disclosures (outside India)  \\nThis report is not directed or intended for distribution to or use by any person or entity resident in a state, country or any jurisdiction, where such distribution, publication, availability or use would be contrary to law, regulation or which would subject MOFSL & its \\ngroup companies to registration or licensing requiremen ts within such jurisdictions.  \\n \\nFor Hong Kong:  \\nThis report is distributed in Hong Kong by Motilal Oswal capital Markets (Hong Kong) Private Limited, a licensed corporation (CE AYY -301) licensed and regulated by the Hong Kong Securities and Futures Commissi on (SFC) pursuant to the Securities and \\nFutures Ordinance (Chapter 571 of the Laws of Hong Kong) “SFO”. As per SEBI (Research Analyst Regulations) 2014 Motilal Oswal  Financial Services Limited (SEBI Reg No. INH000000412) has an agreement with Motilal Oswal  capital Markets (Hong Kong) \\nPrivate Limited for distribution of research report in Hong Kong. This report is intended for distribution only to “Professio nal Investors” as defined in Part I of Schedule 1 to SFO. Any investment or investment activity to whi ch this document relates is only available \\nto professional investor and will be engaged only with professional investors.” Nothing here is an offer or solicitation of t hese securities, products and services in any jurisdiction where their offer or sale is not qualified or exempt from registration. The Indian \\nAnalyst(s) who compile this report is/are not located in Hong Kong & are not conducting Research Analysis in Hong Kong.  \\n \\nFor U.S.  \\nMOTILAL Oswal Financial Services Limited (MOFSL) is not a registered broker - dealer under the U.S. Securities Exchange Act of 1934, as amended (the\"1934 act\") and under applicable state laws in the Unit ed States. In addition MOFSL is not a registered \\ninvestment adviser under the U.S. Investment Advisers Act of 1940, as ame nded (the \"Advisers Act\" and together with the 1934 Act, the \"Acts), and under applicable state laws in the United States. Ac cordingly, in the absence of specific exemption under the Acts, \\nany brokerage and investment services provided by MOFSL, including the products and services described herein are not available to or intended for U.S. persons. This report is intended for dis tribution only to \"Major Institutional Investors\" as defined by Rule \\n15a-6(b)(4) of the Exchange Act and interpretations thereof by  SEC (henceforth referred to as \"major institutional investors\"). This document must not be acted on or relied on by persons w ho are not major institutional investors. Any investment or investment \\nactivity to which this document relates is only available t o major institutional investors and will be engaged in only with major institutional investors. In reliance on the exemption from registration provided by Rule 15a -6 of the U.S. Securities Exchange Act of 1934, \\nas amended (the \"Exchange Act\") and interpret ations thereof by the U.S. Securities and Exchange Commission (\"SEC\") in order to conduct business with Institutional Investo rs based in the U.S., MOFSL has entered into a chaperoning agreement with a U.S. \\nregistered broker -dealer, Motilal Oswal Securities  International Private Limited. (\"MOSIPL\"). Any business interaction pursuant to this report will have to be executed within t he provisions of this chaperoning agreement.  \\n \\nThe Research Analysts contributing to the report may not be registered /qualified as  research analyst with FINRA. Such research analyst may not be associated persons of the U.S. registered broker -dealer, MOSIPL, and therefore, may not be subject to NASD \\nrule 2711 and NYSE Rule 472 restrictions on communication with a subject company, publ ic appearances and trading securities held by a research analyst account.  \\n \\nFor Singapore  \\nIn Singapore, this report is being distributed by Motilal Oswal Capital Markets Singapore Pte Ltd (“MOCMSPL”) (Co.Reg. NO. 20 1129401Z) which is a holder of a capital m arkets services license and an exempt financial adviser in Singapore,   \\nas per the approved agreement under Paragraph   9 of Third Schedule of Securities and Futures Act (CAP 289) and Paragraph 11 of First Schedule of Financial Advisors Act (CAP  110) provide d to MOCMSPL by Monetary Authority of Singapore. Persons in \\nSingapore should contact MOCMSPL in respect of any matter arising from, or in connection with this report/publication/communi cation.   This report is distributed  solely to persons who qualify as “I nstitutional Investors”, of which some of whom may consist of \\n\"accredited\" institutional investors as defined in section 4A(1) of the Securities and Futures Act, Chapter 289 of Singapore (“the SFA”).  Accordingly, if a Singapore person is not or ceases to b e such an institutional investor, such Singapore Person must \\nimmediately discontinue any use of this Report and inform MOCMSPL.  \\n \\nDisclaimer:  \\n \\nThe report and information contained herein is strictly confidential and meant solely for the selected recipient and may not be altered in any way, transmitted to, copied or distributed, in part or in whole, to any other person or to the media or reproduced in any \\nform, without prior written consent.  This report and information herein is solely for informational pur pose and may not be used or considered as an offer document or solicitation of offer to buy or sell or subscribe for securiti es or other financial instruments. Nothing \\nin this report constitutes investment, legal, accounting and tax advice or a representat ion that any investment or strategy is suitable or appropriate to your specific circumstances. The securities discussed and o pinions expressed in this report may not be suitable \\nfor all investors, who must make their own investment decisions, based on thei r own investment objectives, financial positions and needs of specific recipient. This may not be taken in substitution for t he exercise of independent judgment by any recipient. Each \\nrecipient of this document should make such investigations as it deems n ecessary to arrive at an independent evaluation of an investment in the securities of companies referred to in this document (including the merits and risks involved), and should consult its \\nown advisors to determine the merits and risks of such an investm ent. The investment discussed or views expressed may not be suitable for all investors. Certain transactions -including those involving futures, options, another derivative products as well as non -\\ninvestment grade securities - involve substantial risk and are not suitable for all investors. No representation or warranty, express or implied, is made as to the accuracy, completene ss or fairness of the information and opinions contained in this document. The \\nDisclosures of Interest Statement incorporated in th is document is provided solely to enhance the transparency and should not be treated as endorsement of the views expressed in  the report. This information is subject to change without any prior notice. The \\nCompany reserves the right to make modifications a nd alternations to this statement as may be required from time to time without any prior approval. MOFSL, its associates, the ir directors and the employees may from time to time, effect or have effected an own \\naccount transaction in, or deal as principal o r agent in or for the securities mentioned in this document. They may perform or seek to perform investment banking or other services for, or solicit investment banking or other business from, any company referred to in \\nthis report. Each of these entities functions as a separate, distinct and independent of each other. The recipient should take this into account before interpret ing the document. This report has been prepared on the basis of information that is already available in \\npublicly accessible media or developed through analysis of MOFSL. The views expressed are those of the analyst, and the Company may or may not subscrib e to all the views expressed therein. This document is being supplied to you solely for your information \\nand may not be reproduced,  redistributed or passed on, directly or indirectly, to any other person or published, copied, in whole or in part, for any pu rpose. This report is not directed or intended for distribution to, or use by, any person or entity who is a citizen or \\nresident o f or located in any locality, state, country or other jurisdiction, where such distribution, publication, availability or use  would be contrary to law, regulation or which would subject MOFSL to any registration or licensing requirement within such ju risdiction. \\nThe securities described herein may or may not be eligible for sale in all jurisdictions or to certain category of investors.  Persons in whose possession this document may come are required to inform themselves of and to observe such restriction. Ne ither the Firm, \\nnot its directors, employees, agents or representatives shall be liable for any damages whether direct or indirect, incidenta l, special or consequential including lost revenue or lost profits that may arise from or in connection with the us e of the information. The \\nperson accessing this information specifically agrees to exempt MOFSL or any of its affiliates or employees from, any and all  responsibility/liability arising from such misuse and agrees not to hold MOFSL or any of its affiliates or employees responsible for any \\nsuch misuse and further agrees to hold MOFSL or any of its affiliates or employees free and harmless from all losses, costs, damages, expenses that may be suffered by the person accessing this information due to any errors and delays.  \\n \\nRegistered Office Address: Motilal Oswal Tower, Rahimtullah Sayani Road, Opposite Parel ST Depot, Prabhadevi , Mumbai -400025; Tel No.: 022 -3980 4263; www.motilaloswal.com. Correspondence Address: Palm Spring Centre, 2nd Floor, Palm Court Complex, \\nNew Link Road, Malad (West), Mumbai - 400 064. Tel No: 022 71881000. Details of Compliance Officer: Neeraj Agarwal, Ema il Id: na@motilaloswal.com, Contact No.:022 -40548085.  \\n \\nRegistration details of group entities.: Motilal Oswal Financial Services Ltd.  (MOFSL): INZ000158836 (BSE/NSE/MCX/NCDEX); CD SL: IN -DP-16-2015; NSDL: IN -DP-NSDL -152-2000; Research Analyst: INH000000412  . AMFI: ARN .: 146822. IRDA Corporate \\nAgent – CA0579. Motilal Oswal Financial Services Ltd.  is a distributor of Mutual Funds, PMS, Fixed Deposit, Insurance, Bond, NCDs an d IPO products. Customer having any query/feedback/ clarification may write to query @motilaloswal.com. In case of \\ngrievances for any of the services rendered by Motilal Oswal Financial Services Limited (MOFSL) write to grievances@motilalos wal.com, for DP to dpgrievances@motilaloswal.com . \\n ', metadata={'source': 'dataset/sample_data.pdf', 'page': 5})]"
            ]
          },
          "metadata": {},
          "execution_count": 10
        }
      ]
    },
    {
      "cell_type": "code",
      "source": [
        "from langchain.prompts import FewShotPromptTemplate, PromptTemplate\n",
        "example_prompt = PromptTemplate(\n",
        "    input_variables=[\"input\", \"output\"],\n",
        "    template=\"Input: {input}\\nOutput: {output}\",\n",
        ")\n",
        "\n",
        "output1 = '''\n",
        "Based on the data provided for 2-wheeler segments from various manufacturers for the specified period:\n",
        "\n",
        "1. **Hero MotoCorp** shows positive year-on-year growth with units sold increasing from 49,44,148 to 52,43,369 (a **6.1%** increase). This indicates resilient demand, positioning Hero MotoCorp strongly in terms of sales volume in the 2-wheeler segment.\n",
        "\n",
        "2. **TVS Motor** similarly demonstrated substantial growth. They showed an especially strong performance in scooters, with numbers increasing from 9,21,939 to 12,97,275, exhibiting an impressive **40.7%** year-on-year growth. Motorcycle sales remained almost flat while mopeds decreased by **-5.0%**. However, due to the strong scooter numbers, TVS Motor allows for considerable brand perception and growth.\n",
        "\n",
        "3. **Bajaj Auto**, on the other hand, experienced a decrease in 2-wheeler sales, dropping from 43,08,433 to 39,16,077, marking a drop of **-9.1%** year-on-year which indicates a relatively weaker market position in comparison.\n",
        "\n",
        "In the context mentioned and focusing purely on recent market performance and growth in numbers, **TVS Motor** especially shines in the scooter segment, which highlights them as a potential segment winner, closely followed by Hero MotoCorp due to its large volume and overall positive growth in this document period. Bajaj Auto appears to struggle compared to the other two in this specific period evaluated.\n",
        "'''\n",
        "\n",
        "output2= '''\n",
        "Based on the data provided, the two-wheeler segment winner can be determined by analyzing the sales and growth figures of the key players within the segment. In this case, we can see that Hero MotoCorp and TVS Motor are the two significant players to analyze.\n",
        "\n",
        "Considering the data:\n",
        "1. Hero MotoCorp's sales figures show a growth rate in combined two-wheeler sales by 6.1% YoY, totaling 52,43,369. Despite a slight decline in the specific year, it overall maintains solid numbers.\n",
        "\n",
        "2. TVS Motor's sales figures reflect a slightly lower growth rate compared to Hero MotoCorp, at 10.5% YoY with the total sales of 36,57,093. However, TVS Motor does show positive growth in both motorcycle and scooter segments.\n",
        "\n",
        "On comparative analysis:\n",
        "- Hero MotoCorp maintains higher overall sales in the two-wheeler segment.\n",
        "- However, in terms of growth rate, TVS Motor outperforms Hero MotoCorp with a 10.5% growth compared to Hero MotoCorp's 6.1% increase YoY.\n",
        "'''\n",
        "examples = [\n",
        "    {\"input\": \"Considering 2 wheeler demand, who seems to be the segment winner?\", \"output\": output1},\n",
        "    {\"input\": \"Bassed on the report, who is leading the two wheeler space right now?\", \"output\": output2}\n",
        "    # {\"input\": \"energetic\", \"output\": \"lethargic\"},\n",
        "    # {\"input\": \"sunny\", \"output\": \"gloomy\"},\n",
        "    # {\"input\": \"windy\", \"output\": \"calm\"},\n",
        "]"
      ],
      "metadata": {
        "id": "GBHlL5fv6hU9"
      },
      "execution_count": 12,
      "outputs": []
    },
    {
      "cell_type": "markdown",
      "metadata": {
        "id": "jPppZ8Nc24oH"
      },
      "source": [
        "creating chunks for the `primary_data`"
      ]
    },
    {
      "cell_type": "code",
      "source": [
        "primary_data = docs\n",
        "primary_data\n",
        "# primary_data = [doc.page_content for doc in docs]"
      ],
      "metadata": {
        "colab": {
          "base_uri": "https://localhost:8080/"
        },
        "id": "1Jr1Wrk8YUet",
        "outputId": "e99ba4c2-efc0-4c70-a8ec-a903bc5de522"
      },
      "execution_count": 13,
      "outputs": [
        {
          "output_type": "execute_result",
          "data": {
            "text/plain": [
              "[Document(page_content=' \\nJinesh Gandhi  – Research Analyst  (Jinesh@MotilalOswal.com)  \\nResearch Analyst : Amber  Shukla  (Amber.Shukla@ Motilal Oswal.com ) | Aniket Desai (Aniket .Desai @MotilalOswal.com)  \\n \\nInvestors are advised to refer through important disclosures made at the last page of the Research Report.  \\nMotilal Oswal research is available on www.motilaloswal.com/Institutional -Equities, Bloomberg, Thomson Reuters, Factset and S&P Capital.  \\n @ \\n \\n \\nMHCV likely to outperform despite multiple challenges  \\nInitial signs of demand moderati on in PV; expect 2W volumes to grow YoY  \\n\\uf06e Our interaction with leading channel partners indicate s some moderation in \\ndemand  due to erratic rainfall during the month , especially in key Northern and \\ncentral regions and lower enquiries  during the ongoing festive season.  Despite \\nthis, retails for both MHCV and 2Ws are expected to grow while PV volume \\ngrowth is expected to  remain flattish.  We note  that most of the OEMs have \\nalready announced price hikes for their OBD -2 norm -compliant vehicles , with \\nCVs leading the pack  (up to 5%  hike ). We expect 2W retails to grow 4 -6% YoY in \\nMar’23, with  enquiry levels during festival s (Gudi Padwa and Ugadi ) varying \\ngreatly among states. On the other hand, PV retail  growth is  expected to remain \\nflattish (0 -2% YoY) . We note that Fronx and Jimn y have received bookings of \\nover 40k units so far. Demand momentum for MHCVs remain robust resulti ng in \\nretail growth of 10 -12% YoY while LCV volumes are expected to decline 8 -10% \\nYoY led by weak momentum in rural . For tractors, w e expect retails  to decline 3-\\n5% YoY , largely due to  the impact of  unseasonal rains and low yield s for key \\ncrops  such as oni on. In Mar’23, overall wholesale volumes for \\nPV/CV/tractor/3Ws are estimated to grow by 1%/ 1.5%/1 %/8% YoY, while 2Ws \\nare likely to decline 4% YoY.  \\n\\uf06e 2Ws:  Retails are expected to grow 4-6% YoY in Mar ’23 since urban demand is \\nsteady and inquiries have improved in certain states during the ongoing Navratri \\nseason . However, overall sales  are still do wn by 15 -17% v /s the pre-Covid  level \\nas rural demand remain s weak.  Enquiry levels during the key festival s (Gudi \\nPadwa and Ugadi) varied greatly among  states.  We have noted 2-6% YoY growth \\nin enquiry levels in states like Gujarat, Delhi and Karnataka , while  the same \\ndeclined by 4-8% in other key states like UP, Bihar  and Maharashtra . The i nitial \\nresponse to HMCL’ s new launch Xoom (110 cc scooter) has been positi ve as it has \\naccounted for 25-30% of the overall enquiries in Mar’23 . Xoom currently has a \\nwaiting period of 30 days  as dispatches are yet to ramp up . Overall i nventory has \\nnow come back to the normal level of 40 -45 days , with HMCL having the highest \\nat 50-55 days , followed by TVSL, BJAUT and HMSI with 25 -35 days. Inventory for \\nRE has inched up to 20 -25 days. We have noted a waiting period of 1 -1.5 months \\nfor Hunter and 3 -4 months for Super Meteor 650. We expect dispatches for \\nHMCL/BAJUT (incl 3W)/TVS (in cl 3W) to fall by 4%/5%/5% , while RE’s dispatches  \\nmay  grow 10% YoY.      \\n\\uf06e PVs: Mar’23 r etails growth is  expected to be flattish YoY with 0 -2% YoY growth. \\nThere has been some moderation  in enquiries led  by muted demand  during \\nongoing festival s and persistent weakness in  the rural  market . Moreover, rising \\ninterest rates have further hampered bookings for low-end models. Although \\nthe inven tory level has increased to 25 -30 days in Mar’23 v/s  20-25 days till Feb-\\nend, it has now come back to the normal level after three years. However, there \\nis still a long waiting period for SUVs, especially for high -end/AMT  variants. \\nTTMT has announced  a price hike of INR10 -15k per vehicle  for its BS6 phase -II-\\ncompliant vehicles . MM  has announced a price hike of INR15 -20k for  its petrol \\nand INR25 -30k for diesel variants,  while MSIL will announce a price hike  by early \\n Sector Update | 27 March 2023  \\n  \\nAutomobiles  \\n\"We expect (Nexa) to close \\nthis (fiscal) year at around \\n3.7 lakh units against 2.55 \\nlakh units that we did last \\nyear. We hope to sell larger \\nnumbers next year , with the \\nFronx, the Jimny (coming in) \\nand the full year effect of the \\nGrand Vitara. Next year,  \\nthanks to these new models, \\nwe are expecting the sales to \\nbe even higher, maybe close \\nto six lakh units .” \\n  \\nMr. Shashank Srivastava,   \\nSr. Executive Officer \\n(Marketing & Sales), MSIL  \\n', metadata={'source': 'dataset/sample_data.pdf', 'page': 0}),\n",
              " Document(page_content=' Automobiles  \\n27 March 2023    2 \\nApr’23 . Despite some moderation in demand in last two months, discounts \\nremain muted.  We expect dispatches for MSIL to fall 3%, while dispatche s for \\nMM ( incl pickups)/TTMT PV to grow 16%/3% YoY.  \\n\\uf06e CVs:  Our channel checks suggest MHCV retails  to grow 10 -12% YoY  in Mar’23  led \\nby healthy fleet utilization  driven by infra -led demand and pre -buying before \\nOBD -2 transition.  However , a broad -based recovery has not yet materialized as \\nreplacement demand is yet to reflect completely.  Our interaction suggests  the \\neffect of higher borrowing rates have begun to reflect  in bookings  to some \\nextent . LCV retails, on the other hand  are expected to decline 8 -10% YoY due to \\nsubdued demand in rural. Inventory level has increased to over 30 days from  \\naverage 20 -25 days in the last two months , partly due to transition to RDE \\nnorms . While  TTMT has already announced a price hike of up to 5% for its BS6 \\nphase -II-compliant vehicles, AL is expected to announce it in early Apr’23 . \\nDiscounts remain moderate  at 4-6%, with AL leading the pack. We expect \\ndispatches for TTMT to remain flat  YoY, while the same  should grow 4% YoY  \\neach  for AL and VECV.  \\n\\uf06e Tractors:  We expect Ma r’23 retails to decline 3-5% YoY , largely led by the \\nanticipation of lower output for Rabi crops due to  unseasonal rains  and low \\nyield s for key crops . As a result, the enquiry level  has been  weak during the on-\\ngoing Navratri festival , especially in M aharashtra  and UP. However, our \\ninteraction indicates relatively better demand in southern states like Telangana, \\nwith retails expected to grow 3 -5% YoY  in Mar’23 . Due to unseasonal rains, \\ndemand began to deteriorate in the second half of the month across the \\nnorthern a nd central states , including Punjab, MP, UP  and Maharashtra . As per \\nour interaction, erratic rainfall may affect wheat production by 15-20% during \\nthe season.  We expect that the impact of weak agri sentiments in central and \\nnorthern regions, possibility of El -Nino impact and a high base of FY23 will keep \\ntractor volume growth  in check in FY24. Inventory is  currently at a normal level \\nof 40 -45 days.  We expect dispatches to grow by 1% YoY each for MM and ESC.  \\n\\uf06e Valuation and view:  We prefer CVs over other segments  thanks to  strong \\ndemand and a stable competitive environment. We prefer companies with: 1) \\nhigher visibility in terms of demand recovery, 2) a strong competitive \\npositioning, 3) encouraging margin drivers, and 4) a strong balance sheet.  AL and \\nTTMT  are our top OEM pick s. Among auto component stocks, we prefer \\nMOTHERSO and BHFC .  \\n \\n  ', metadata={'source': 'dataset/sample_data.pdf', 'page': 1}),\n",
              " Document(page_content=\" Automobiles  \\n27 March 2023    3 \\nSnapshot of Mar ’23 volume estimates                \\n  YoY     MoM        \\nCompany Sales  Mar -23 Mar -22 YoY (%)  \\n chg Feb-23 MoM (%) \\nchg FY23E  FY22  (%) \\n chg \\nMaruti Suzuki  1,64,812  1,70,395  -3.3 1,72,321  -4.4 19,60,905  16,52,653  18.7  \\nLCVs  3,887  3,797  2.4 3,356  15.8  37,869  33,812  12.0  \\nVans  11,901  9,221  29.1  11,352  4.8 1,31,097  1,08,345  21.0  \\nMini Segment  20,020  15,491  29.2  21,875  -8.5 2,41,349  2,11,762  14.0  \\nCompact (incl Dzire Tour)  74,673  84,761  -11.9  81,325  -8.2 8,95,245  7,26,443  23.2  \\nMid-Size - CIAZ  972 1,834  -47.0  792 22.7  14,282  15,869  -10.0  \\nUVs 36,931  28,795  28.3  36,414  1.4 3,95,421  3,18,046  24.3  \\nDomestic  1,48,385  1,43,899  3.1 1,55,114  -4.3 17,15,264  14,14,277  21.3  \\nExport  16,427  26,496  -38.0  17,207  -4.5 2,45,641  2,38,376  3.0 \\nMahindra & Mahindra  94,804  84,406  12.3  84,592  12.1  10,99,710  8,20,299  34.1  \\n   UV (incl. pick -ups)  57,637  49,771  15.8  52,364  10.1  6,28,612  4,29,087  46.5  \\n   LCV & M&HCV  833 829 0.5 1,087  -23.3  9,410  6,435  46.2  \\n   Three -Wheelers  6,282  4,043  55.4  5,350  17.4  59,105  30,079  96.5  \\n   Tractors  30,051  29,763  1.0 25,791  16.5  4,02,582  3,54,698  13.5  \\nTata Motors  87,709  86,561  1.3 79,705  10.0  9,51,287  7,26,191  31.0  \\n   HCV's  22,589  23,238  -2.8 17,928  26.0  1,78,195  1,44,500  23.3  \\n   LCV's  21,485  20,855  3.0 18,637  15.3  2,32,595  2,09,515  11.0  \\n   CV's  44,074  44,093  0.0 36,565  20.5  4,10,790  3,54,015  16.0  \\n   Cars  14,463  14,369  0.7 14,344  0.8 1,77,165  1,44,670  22.5  \\n   UV's  29,171  28,099  3.8 28,796  1.3 3,63,332  2,27,506  59.7  \\nHero MotoCorp  4,34,165  4,50,170  -3.6 3,94,460  10.1  52,43,369  49,44,148  6.1 \\nBajaj Auto  2,81,922  2,97,188  -5.1 2,80,226  0.6 39,16,077  43,08,433  -9.1 \\n  Two -Wheelers  2,33,703  2,56,324  -8.8 2,35,356  -0.7 34,27,405  38,36,856  -10.7  \\n  Three -Wheelers  48,219  40,864  18.0  44,870  7.5 4,88,672  4,71,577  3.6 \\nDomestic  1,64,775  1,26,752  30.0  1,53,291  7.5 20,82,735  18,01,807  15.6  \\nExports  1,17,146  1,70,436  -31.3  1,26,935  -7.7 18,33,341  25,06,626  -26.9  \\nAshok Leyland  20,894  20,123  3.8 18,571  12.5  1,89,173  1,28,326  47.4  \\nM&HCV  14,197  13,990  1.5 12,668  12.1  1,21,533  73,885  64.5  \\nLCV  6,697  6,133  9.2 5,903  13.5  67,640  54,441  24 \\nTVS Motor  2,92,177  3,07,954  -5.1 2,76,150  5.8 36,57,093  33,09,578  10.5  \\nMotorcycles  1,37,970  1,60,522  -14.0  1,26,243  9.3 17,29,976  17,31,459  -0.1 \\nScooters  1,05,785  94,747  11.6  1,04,825  0.9 12,97,275  9,21,939  40.7  \\nMopeds  38,352  37,649  1.9 35,958  6.7 4,60,251  4,84,305  -5.0 \\nThree -Wheelers  10,070  15,036  -33.0  9,124  10.4  1,69,591  1,71,875  -1.3 \\nDomestic  2,35,861  1,98,230  19.0  2,22,745  5.9 26,07,757  20,56,387  26.8  \\nExports  56,315  1,09,724  -48.7  53,405  5.4 10,49,335  12,53,191  -16.3  \\nEicher Motors          Royal Enfield  74,155  67,670  9.6 71,544  3.6 8,36,815  6,02,268  38.9  \\nVECV  9,125  8,793  3.8 7,289  25.2  76,821  57,067  34.6  \\nEscorts Kubota  10,195  10,074  1.2 7,811  30.5  1,03,180  94,228  9.5 \\n \\n  \", metadata={'source': 'dataset/sample_data.pdf', 'page': 2}),\n",
              " Document(page_content=\" Automobiles  \\n27 March 2023    4 \\nComparative valuations               \\n  Rating  Mcap  CMP  TP P/E (x)  EV/ EBITDA (x)  PB (x)  FY25  \\nYield (%)  EPS CAGR  \\n(%) \\nFY23E -25E Auto OEM's    (INR b)  (INR)  (INR)  FY23E  FY24E  FY25E  FY23E  FY24E  FY25E  FY23E  FY24E  FY25E  Div FCF \\nBajaj Auto    Neutral  1,077  3,807  4,150  17.9  15.8  14.3  13.0  11.1  10.1  4.4 4.3 4.1 5.5 5.3 11.8  \\nHero MotoCorp  Buy 462 2,308  2,982  17.2  13.8  12.4  9.1 7.2 6.3 2.8 2.7 2.5 6.1 8.6 17.8  \\nTVS Motor  Neutral  497 1,047  969 34.0  25.6  22.0  18.6  14.2  12.1  8.2 6.5 5.2 0.6 5.0 24.2  \\nEicher Motors  Buy 789 2,886  3,613  28.2  21.5  17.0  22.3  18.4  15.0  5.4 4.5 3.6 0.9 5.8 28.9  \\nMaruti Suzuki  Buy 2,500  8,275  10,545  31.7  22.7  19.1  19.5  14.2  12.0  4.2 3.7 3.3 1.8 3.9 28.7  \\nM&M  Buy 1,362  1,138  1,524  18.4  14.6  12.8  13.1  10.0  8.4 1.5 1.3 1.1 1.5 7.2 20.2  \\nTata Motors  Buy 1,577  412 531 -70.3  15.6  12.7  7.3 3.9 3.2 3.6 2.9 2.4 0.0 9.0 #NUM!  \\nAshok Leyland  Buy 395 135 186 34.5  17.3  13.3  14.9  10.1  8.1 5.4 5.0 4.1 1.5 9.2 61.0  \\nEscorts  Neutral  226 1,844  1,895  31.8  24.9  19.5  25.8  13.4  11.5  2.5 2.5 2.3 0.5 4.2 27.7  \\nAuto Ancillaries                                  \\nBharat Forge  Buy 353 758 1,050  46.0  23.1  18.0  19.6  13.5  10.9  5.0 4.3 3.5 0.8 5.8 59.7  \\nExide Industries  Buy 147 173 215 15.0  13.3  11.0  8.8 7.7 6.2 1.3 1.2 1.1 1.9 8.7 16.9  \\nAmara Raja  Neutral  95 557 630 12.1  11.3  10.4  6.6 5.8 5.1 1.9 1.7 1.5 2.7 4.9 7.8 \\nBOSCH  Neutral  540 18,323  18,125  37.0  28.9  25.3  27.6  20.9  18.0  4.7 4.4 4.0 1.9 2.5 21.0  \\nEndurance Tech  Buy 167 1,190  1,625  33.5  22.3  19.1  15.8  11.6  9.9 3.9 3.5 3.1 1.3 3.9 32.3  \\nSAMIL  Buy 434 64 100 30.8  16.3  12.2  9.0 6.2 4.7 2.0 1.9 1.7 2.5 12.3  59.1  \\nMahindra CIE  Buy 129 341 450 18.9  14.5  12.4  11.3  8.8 7.3 2.5 2.2 1.9 1.3 6.0 23.3  \\nCEAT  Buy 55 1,369  1,860  33.7  11.5  9.1 8.4 5.1 4.1 1.6 1.5 1.3 0.9 12.4  93.0  \\nBalkrishna Ind  Neutral  374 1,937  2,035  36.9  23.8  20.1  19.6  14.2  12.1  5.0 4.4 3.8 1.8 3.5 35.4  \\nMRF  Sell 354 83,603  75,000  52.4  26.8  20.2  16.2  11.0  8.9 2.4 2.2 2.0 0.2 3.2 60.9  \\nApollo Tyres  Buy 195 307 395 17.3  12.1  9.7 6.6 5.0 4.0 1.4 1.3 1.2 1.5 12.9  34.1  \\nSona BLW  Neutral  242 415 485 60.0  41.1  32.4  37.8  26.3  21.2  10.5  8.9 7.4 0.9 1.9 36.0  \\nTube Investments  Buy 468 2,495  3,194  37.4  30.4  24.5  27.1  22.5  18.1  12.2  9.6 7.5 0.4 4.3 23.5  \\nMSUMI  Buy 209 47 73 42.8  25.9  21.6  28.2  17.7  14.8  15.7  11.0  8.5 2.2 4.2 41.0  \\nCRAFTSMAN  Buy 64 3,008  3,925  28.7  16.9  13.8  10.8  7.3 6.1 4.4 3.5 2.8 0.4 8.3 44.4  \\n \\n   \", metadata={'source': 'dataset/sample_data.pdf', 'page': 3}),\n",
              " Document(page_content=' Automobiles  \\n27 March 2023    5 \\nN O T E S  \\n  ', metadata={'source': 'dataset/sample_data.pdf', 'page': 4}),\n",
              " Document(page_content=' Automobiles  \\n27 March 2023    6 \\nExplanation of Investment Rating  \\nInvestment Rating  Expected return (over 12 -month)  \\nBUY >=15%  \\nSELL  < - 10% \\nNEUTRAL  > - 10 % to 15%  \\nUNDER REVIEW  Rating may undergo a change  \\nNOT RATED  We have forward looking estimates for the stock but we refrain from assigning recommendation  \\n \\n*In case the recommendation given by the Research Analyst is inconsistent with the investment rating legend for a continuous period of 30 days, the Research Analyst shall within following 30 days take appropr iate measures to make the recommendation \\nconsistent with the investment rating legend.  \\n \\nDisclosures:  \\nThe following Disclosures are being made in compliance with the SEBI Research Analyst Regulations 2014 (herein after referred to as the Regulations).  \\n \\nMotilal Oswal Financial Services Ltd.   (MOFSL) is a SEBI Registered Research Analyst having registration no. INH000000412. MOFSL, the Research Entity (RE) as define d in the Regulations, is engaged in the business of providing Stock broking services, \\nDepository participant services & distribut ion of various financial products. MOFSL is a listed public company, the details in respect of which are available on www.motilaloswal.com . MOFSL (erstwhile Motilal Oswal Securities Limited - MOSL) is registered with the \\nSecurities & Exchange Board of India (SEBI) and is a registered Trading Member with National Stock Exchange of India Ltd. (NS E) and Bombay Stock Exchange Limited (BSE), Multi Commodity Exchange of India Limited (MCX) and National Commodity & \\nDeriv atives Exchange Limited (NCDEX) for its stock broking activities & is Depository participant with Central Depository Services  Limited (CDSL) National Securities Depository Limited (NSDL),NERL, COMRIS and CCRL and is member of Association of Mutual \\nFunds of  India (AMFI) for distribution of financial products and Insurance Regulatory & Development Authority of India (IRDA) as Corpo rate Agent for insurance products.  Details of associate entities of Motilal Oswal Financial Services Ltd.  are available on the \\nwebsite at http://onlinereports.motilaloswal.com/Dormant/documents/Associate%20Details.pdf  \\n \\nDetails of pending Enquiry Proceedings of Motilal Oswal Financial Serv ices Limited are available on the website at https://galaxy.motilaloswal.com/ResearchAnalyst/PublishViewLitigation.aspx  \\n \\nMOFSL, it’s associates, Research Analyst or their relatives may have any financial interest in the subject company. MOFSL and/or its associates and/or Research Analyst o r their relatives may have actual beneficial ownership of 1% or more securities in the \\nsubject company at the end of the month imme diately preceding the date of publication of the Research Report or date of the public appearance. MOFSL and its associate company(ies), their directors and Research Analyst and their relatives may have any other \\npotential conflict of interests at the time  of publication of the research report or at the time of public appearance, however the same shall have no bearing whatsoever on the specific recommendations made by the analyst(s), as the recommendati ons made by the \\nanalyst(s) are completely independent o f the views of the associates of MOFSL even though there might exist an inherent conflict of interest in some of the stocks m entioned in the research report.  \\n \\nIn the past 12 months, MOFSL or any of its associates may have:  \\na) received any compensation/other b enefits from the subject company of this report  \\nb) managed or co -managed public offering of securities from subject company of this research report,  \\nc) received compensation for investment banking or merchant banking or brokerage services from subject company of  this research report,  \\nd) received compensation for products or services other than investment banking or merchant banking or brokerage services from t he subject company of this research report.  \\n \\n\\uf0b7 MOFSL and it’s associates have not received any compensation or  other benefits from the subject company or third party in connection with the research report.  \\n\\uf0b7 Subject Company may have been a client of MOFSL or its associates during twelve months preceding the date of distribution of the research report.  \\n\\uf0b7 Research Anal yst may have served as director/officer/employee in the subject company.  \\n\\uf0b7 MOFSL and research analyst may engage in market making activity for the subject company.  \\nMOFSL and its associate company(ies), and Research Analyst and their relatives from time to ti me may have:  \\na) a long or short position in, act as principal in, and buy or sell the securities or derivatives thereof of companies menti oned herein.  \\n(b) be engaged in any other transaction involving such securities and earn brokerage or other compensati on or act as a market maker in the financial instruments of the company(ies) discussed herein or act as an advisor or lender/ borrower to such company(ies) \\nor may have any other potential conflict of interests with respect to any recommendation and other re lated information and opinions.; however the same shall have no bearing whatsoever on the specific recommendations made by th e analyst(s), as the \\nrecommendations made by the analyst(s) are completely independent of the views of the associates of MOFSL even  though there might exist an inherent conflict of interest in some of the stocks mentioned in the research report.  \\nAbove disclosures include beneficial holdings lying in demat account of MOFSL which are opened for proprietary investments on ly. While calcul ating beneficial holdings, It does not consider demat accounts which are opened in name of MOFSL for other purposes \\n(i.e holding client securities, collaterals, error trades etc.). MOFSL also earns DP income from clients which are not consid ered in above d isclosures.  \\nTo enhance transparency, MOFSL has incorporated a Disclosure of Interest Statement in this document. This should, however, no t be treated as endorsement of the views expressed in the report. MOFSL and / or its affiliates do and seek to do business in cludin g \\ninvestment banking with companies covered in its research reports. As a result, the recipients of this report should be aware  that MOFSL may have a potential conflict of interest that may affect the objectivity of this report.  \\n \\nTerms & Conditions:  \\nThis report has been prepared by MOFSL and is meant for sole use by the recipient and not for circulation. The report and informat ion contained herein is strictly confidential and may not be altered in any way, transmitted to, copied or distributed, in pa rt or in \\nwhole, to any other person or to the media or reproduced in any form, without prior written consent of MOFSL. The report is b ased on the facts, figures and information that are considered true, correct, reliable and accurate. The intent of this repor t is not \\nrecommendatory in nature. The information is obtained from publicly available media or other sources believed to be reliable.  Such information has not been independently verified and no guaranty, representation of warranty, express or implied, is mad e as to its \\naccuracy, completeness or correctness. All such information and opinions are subject to change without notice. The report is prepared solely for informational purpose and does not constitute an offer document or solicitation of offer to buy or sell or subscribe for \\nsecurities or other financial instruments for the clients. Though disseminated to all the customers simultaneously, not all c ustomers may receive this report at the same time. MOFSL will not treat recipients as customers by virtue of their receiving this report.  \\nAnalyst Certification  \\nThe views expressed in this research report accurately reflect the personal views of the analyst(s) about the subject securit ies or issues, and no part of the compensation of the research analyst(s) was, i s, or will be directly or indirectly related to the specific \\nrecommendations and views expressed by research analyst(s) in this report.  \\n \\nDisclosure of Interest Statement      \\nAnalyst ownership of the stock    No  \\nA graph of daily closing prices of securi ties is available at www.nseindia.com , www.bseindia.com . Research Analyst views on Subject Company may vary based on Fundamental research and Technical Research. Proprietary trading desk of MOFSL or its \\nassociates maintains arm’s length distance with Research Team as all the activities are segregated from MOFSL research activity and therefore it can have an independent view with regards to subject company for which Research Team have expressed their \\nviews.  \\n \\nRegional Disclosures (outside India)  \\nThis report is not directed or intended for distribution to or use by any person or entity resident in a state, country or any jurisdiction, where such distribution, publication, availability or use would be contrary to law, regulation or which would subject MOFSL & its \\ngroup companies to registration or licensing requiremen ts within such jurisdictions.  \\n \\nFor Hong Kong:  \\nThis report is distributed in Hong Kong by Motilal Oswal capital Markets (Hong Kong) Private Limited, a licensed corporation (CE AYY -301) licensed and regulated by the Hong Kong Securities and Futures Commissi on (SFC) pursuant to the Securities and \\nFutures Ordinance (Chapter 571 of the Laws of Hong Kong) “SFO”. As per SEBI (Research Analyst Regulations) 2014 Motilal Oswal  Financial Services Limited (SEBI Reg No. INH000000412) has an agreement with Motilal Oswal  capital Markets (Hong Kong) \\nPrivate Limited for distribution of research report in Hong Kong. This report is intended for distribution only to “Professio nal Investors” as defined in Part I of Schedule 1 to SFO. Any investment or investment activity to whi ch this document relates is only available \\nto professional investor and will be engaged only with professional investors.” Nothing here is an offer or solicitation of t hese securities, products and services in any jurisdiction where their offer or sale is not qualified or exempt from registration. The Indian \\nAnalyst(s) who compile this report is/are not located in Hong Kong & are not conducting Research Analysis in Hong Kong.  \\n \\nFor U.S.  \\nMOTILAL Oswal Financial Services Limited (MOFSL) is not a registered broker - dealer under the U.S. Securities Exchange Act of 1934, as amended (the\"1934 act\") and under applicable state laws in the Unit ed States. In addition MOFSL is not a registered \\ninvestment adviser under the U.S. Investment Advisers Act of 1940, as ame nded (the \"Advisers Act\" and together with the 1934 Act, the \"Acts), and under applicable state laws in the United States. Ac cordingly, in the absence of specific exemption under the Acts, \\nany brokerage and investment services provided by MOFSL, including the products and services described herein are not available to or intended for U.S. persons. This report is intended for dis tribution only to \"Major Institutional Investors\" as defined by Rule \\n15a-6(b)(4) of the Exchange Act and interpretations thereof by  SEC (henceforth referred to as \"major institutional investors\"). This document must not be acted on or relied on by persons w ho are not major institutional investors. Any investment or investment \\nactivity to which this document relates is only available t o major institutional investors and will be engaged in only with major institutional investors. In reliance on the exemption from registration provided by Rule 15a -6 of the U.S. Securities Exchange Act of 1934, \\nas amended (the \"Exchange Act\") and interpret ations thereof by the U.S. Securities and Exchange Commission (\"SEC\") in order to conduct business with Institutional Investo rs based in the U.S., MOFSL has entered into a chaperoning agreement with a U.S. \\nregistered broker -dealer, Motilal Oswal Securities  International Private Limited. (\"MOSIPL\"). Any business interaction pursuant to this report will have to be executed within t he provisions of this chaperoning agreement.  \\n \\nThe Research Analysts contributing to the report may not be registered /qualified as  research analyst with FINRA. Such research analyst may not be associated persons of the U.S. registered broker -dealer, MOSIPL, and therefore, may not be subject to NASD \\nrule 2711 and NYSE Rule 472 restrictions on communication with a subject company, publ ic appearances and trading securities held by a research analyst account.  \\n \\nFor Singapore  \\nIn Singapore, this report is being distributed by Motilal Oswal Capital Markets Singapore Pte Ltd (“MOCMSPL”) (Co.Reg. NO. 20 1129401Z) which is a holder of a capital m arkets services license and an exempt financial adviser in Singapore,   \\nas per the approved agreement under Paragraph   9 of Third Schedule of Securities and Futures Act (CAP 289) and Paragraph 11 of First Schedule of Financial Advisors Act (CAP  110) provide d to MOCMSPL by Monetary Authority of Singapore. Persons in \\nSingapore should contact MOCMSPL in respect of any matter arising from, or in connection with this report/publication/communi cation.   This report is distributed  solely to persons who qualify as “I nstitutional Investors”, of which some of whom may consist of \\n\"accredited\" institutional investors as defined in section 4A(1) of the Securities and Futures Act, Chapter 289 of Singapore (“the SFA”).  Accordingly, if a Singapore person is not or ceases to b e such an institutional investor, such Singapore Person must \\nimmediately discontinue any use of this Report and inform MOCMSPL.  \\n \\nDisclaimer:  \\n \\nThe report and information contained herein is strictly confidential and meant solely for the selected recipient and may not be altered in any way, transmitted to, copied or distributed, in part or in whole, to any other person or to the media or reproduced in any \\nform, without prior written consent.  This report and information herein is solely for informational pur pose and may not be used or considered as an offer document or solicitation of offer to buy or sell or subscribe for securiti es or other financial instruments. Nothing \\nin this report constitutes investment, legal, accounting and tax advice or a representat ion that any investment or strategy is suitable or appropriate to your specific circumstances. The securities discussed and o pinions expressed in this report may not be suitable \\nfor all investors, who must make their own investment decisions, based on thei r own investment objectives, financial positions and needs of specific recipient. This may not be taken in substitution for t he exercise of independent judgment by any recipient. Each \\nrecipient of this document should make such investigations as it deems n ecessary to arrive at an independent evaluation of an investment in the securities of companies referred to in this document (including the merits and risks involved), and should consult its \\nown advisors to determine the merits and risks of such an investm ent. The investment discussed or views expressed may not be suitable for all investors. Certain transactions -including those involving futures, options, another derivative products as well as non -\\ninvestment grade securities - involve substantial risk and are not suitable for all investors. No representation or warranty, express or implied, is made as to the accuracy, completene ss or fairness of the information and opinions contained in this document. The \\nDisclosures of Interest Statement incorporated in th is document is provided solely to enhance the transparency and should not be treated as endorsement of the views expressed in  the report. This information is subject to change without any prior notice. The \\nCompany reserves the right to make modifications a nd alternations to this statement as may be required from time to time without any prior approval. MOFSL, its associates, the ir directors and the employees may from time to time, effect or have effected an own \\naccount transaction in, or deal as principal o r agent in or for the securities mentioned in this document. They may perform or seek to perform investment banking or other services for, or solicit investment banking or other business from, any company referred to in \\nthis report. Each of these entities functions as a separate, distinct and independent of each other. The recipient should take this into account before interpret ing the document. This report has been prepared on the basis of information that is already available in \\npublicly accessible media or developed through analysis of MOFSL. The views expressed are those of the analyst, and the Company may or may not subscrib e to all the views expressed therein. This document is being supplied to you solely for your information \\nand may not be reproduced,  redistributed or passed on, directly or indirectly, to any other person or published, copied, in whole or in part, for any pu rpose. This report is not directed or intended for distribution to, or use by, any person or entity who is a citizen or \\nresident o f or located in any locality, state, country or other jurisdiction, where such distribution, publication, availability or use  would be contrary to law, regulation or which would subject MOFSL to any registration or licensing requirement within such ju risdiction. \\nThe securities described herein may or may not be eligible for sale in all jurisdictions or to certain category of investors.  Persons in whose possession this document may come are required to inform themselves of and to observe such restriction. Ne ither the Firm, \\nnot its directors, employees, agents or representatives shall be liable for any damages whether direct or indirect, incidenta l, special or consequential including lost revenue or lost profits that may arise from or in connection with the us e of the information. The \\nperson accessing this information specifically agrees to exempt MOFSL or any of its affiliates or employees from, any and all  responsibility/liability arising from such misuse and agrees not to hold MOFSL or any of its affiliates or employees responsible for any \\nsuch misuse and further agrees to hold MOFSL or any of its affiliates or employees free and harmless from all losses, costs, damages, expenses that may be suffered by the person accessing this information due to any errors and delays.  \\n \\nRegistered Office Address: Motilal Oswal Tower, Rahimtullah Sayani Road, Opposite Parel ST Depot, Prabhadevi , Mumbai -400025; Tel No.: 022 -3980 4263; www.motilaloswal.com. Correspondence Address: Palm Spring Centre, 2nd Floor, Palm Court Complex, \\nNew Link Road, Malad (West), Mumbai - 400 064. Tel No: 022 71881000. Details of Compliance Officer: Neeraj Agarwal, Ema il Id: na@motilaloswal.com, Contact No.:022 -40548085.  \\n \\nRegistration details of group entities.: Motilal Oswal Financial Services Ltd.  (MOFSL): INZ000158836 (BSE/NSE/MCX/NCDEX); CD SL: IN -DP-16-2015; NSDL: IN -DP-NSDL -152-2000; Research Analyst: INH000000412  . AMFI: ARN .: 146822. IRDA Corporate \\nAgent – CA0579. Motilal Oswal Financial Services Ltd.  is a distributor of Mutual Funds, PMS, Fixed Deposit, Insurance, Bond, NCDs an d IPO products. Customer having any query/feedback/ clarification may write to query @motilaloswal.com. In case of \\ngrievances for any of the services rendered by Motilal Oswal Financial Services Limited (MOFSL) write to grievances@motilalos wal.com, for DP to dpgrievances@motilaloswal.com . \\n ', metadata={'source': 'dataset/sample_data.pdf', 'page': 5})]"
            ]
          },
          "metadata": {},
          "execution_count": 13
        }
      ]
    },
    {
      "cell_type": "markdown",
      "metadata": {
        "id": "ii2pgiH024oH"
      },
      "source": [
        "## create the embeddings using hf ede by baai"
      ]
    },
    {
      "cell_type": "code",
      "execution_count": 14,
      "metadata": {
        "id": "oSdzvCZB24oH",
        "colab": {
          "base_uri": "https://localhost:8080/"
        },
        "outputId": "173650da-913c-4f0a-bec3-f578572cd74a"
      },
      "outputs": [
        {
          "output_type": "execute_result",
          "data": {
            "text/plain": [
              "[Document(page_content='Jinesh Gandhi  – Research Analyst  (Jinesh@MotilalOswal.com)  \\nResearch Analyst : Amber  Shukla  (Amber.Shukla@ Motilal Oswal.com ) | Aniket Desai (Aniket .Desai @MotilalOswal.com)  \\n \\nInvestors are advised to refer through important disclosures made at the last page of the Research Report.  \\nMotilal Oswal research is available on www.motilaloswal.com/Institutional -Equities, Bloomberg, Thomson Reuters, Factset and S&P Capital.  \\n @ \\n \\n \\nMHCV likely to outperform despite multiple challenges  \\nInitial signs of demand moderati on in PV; expect 2W volumes to grow YoY  \\n\\uf06e Our interaction with leading channel partners indicate s some moderation in \\ndemand  due to erratic rainfall during the month , especially in key Northern and \\ncentral regions and lower enquiries  during the ongoing festive season.  Despite \\nthis, retails for both MHCV and 2Ws are expected to grow while PV volume \\ngrowth is expected to  remain flattish.  We note  that most of the OEMs have', metadata={'source': 'dataset/sample_data.pdf', 'page': 0}),\n",
              " Document(page_content='this, retails for both MHCV and 2Ws are expected to grow while PV volume \\ngrowth is expected to  remain flattish.  We note  that most of the OEMs have \\nalready announced price hikes for their OBD -2 norm -compliant vehicles , with \\nCVs leading the pack  (up to 5%  hike ). We expect 2W retails to grow 4 -6% YoY in \\nMar’23, with  enquiry levels during festival s (Gudi Padwa and Ugadi ) varying \\ngreatly among states. On the other hand, PV retail  growth is  expected to remain \\nflattish (0 -2% YoY) . We note that Fronx and Jimn y have received bookings of \\nover 40k units so far. Demand momentum for MHCVs remain robust resulti ng in \\nretail growth of 10 -12% YoY while LCV volumes are expected to decline 8 -10% \\nYoY led by weak momentum in rural . For tractors, w e expect retails  to decline 3-\\n5% YoY , largely due to  the impact of  unseasonal rains and low yield s for key \\ncrops  such as oni on. In Mar’23, overall wholesale volumes for', metadata={'source': 'dataset/sample_data.pdf', 'page': 0}),\n",
              " Document(page_content='5% YoY , largely due to  the impact of  unseasonal rains and low yield s for key \\ncrops  such as oni on. In Mar’23, overall wholesale volumes for \\nPV/CV/tractor/3Ws are estimated to grow by 1%/ 1.5%/1 %/8% YoY, while 2Ws \\nare likely to decline 4% YoY.  \\n\\uf06e 2Ws:  Retails are expected to grow 4-6% YoY in Mar ’23 since urban demand is \\nsteady and inquiries have improved in certain states during the ongoing Navratri \\nseason . However, overall sales  are still do wn by 15 -17% v /s the pre-Covid  level \\nas rural demand remain s weak.  Enquiry levels during the key festival s (Gudi \\nPadwa and Ugadi) varied greatly among  states.  We have noted 2-6% YoY growth \\nin enquiry levels in states like Gujarat, Delhi and Karnataka , while  the same \\ndeclined by 4-8% in other key states like UP, Bihar  and Maharashtra . The i nitial \\nresponse to HMCL’ s new launch Xoom (110 cc scooter) has been positi ve as it has \\naccounted for 25-30% of the overall enquiries in Mar’23 . Xoom currently has a', metadata={'source': 'dataset/sample_data.pdf', 'page': 0}),\n",
              " Document(page_content='response to HMCL’ s new launch Xoom (110 cc scooter) has been positi ve as it has \\naccounted for 25-30% of the overall enquiries in Mar’23 . Xoom currently has a \\nwaiting period of 30 days  as dispatches are yet to ramp up . Overall i nventory has \\nnow come back to the normal level of 40 -45 days , with HMCL having the highest \\nat 50-55 days , followed by TVSL, BJAUT and HMSI with 25 -35 days. Inventory for \\nRE has inched up to 20 -25 days. We have noted a waiting period of 1 -1.5 months \\nfor Hunter and 3 -4 months for Super Meteor 650. We expect dispatches for \\nHMCL/BAJUT (incl 3W)/TVS (in cl 3W) to fall by 4%/5%/5% , while RE’s dispatches  \\nmay  grow 10% YoY.      \\n\\uf06e PVs: Mar’23 r etails growth is  expected to be flattish YoY with 0 -2% YoY growth. \\nThere has been some moderation  in enquiries led  by muted demand  during \\nongoing festival s and persistent weakness in  the rural  market . Moreover, rising \\ninterest rates have further hampered bookings for low-end models. Although', metadata={'source': 'dataset/sample_data.pdf', 'page': 0}),\n",
              " Document(page_content='ongoing festival s and persistent weakness in  the rural  market . Moreover, rising \\ninterest rates have further hampered bookings for low-end models. Although \\nthe inven tory level has increased to 25 -30 days in Mar’23 v/s  20-25 days till Feb-\\nend, it has now come back to the normal level after three years. However, there \\nis still a long waiting period for SUVs, especially for high -end/AMT  variants. \\nTTMT has announced  a price hike of INR10 -15k per vehicle  for its BS6 phase -II-\\ncompliant vehicles . MM  has announced a price hike of INR15 -20k for  its petrol \\nand INR25 -30k for diesel variants,  while MSIL will announce a price hike  by early \\n Sector Update | 27 March 2023  \\n  \\nAutomobiles  \\n\"We expect (Nexa) to close \\nthis (fiscal) year at around \\n3.7 lakh units against 2.55 \\nlakh units that we did last \\nyear. We hope to sell larger \\nnumbers next year , with the \\nFronx, the Jimny (coming in) \\nand the full year effect of the \\nGrand Vitara. Next year,', metadata={'source': 'dataset/sample_data.pdf', 'page': 0}),\n",
              " Document(page_content='lakh units that we did last \\nyear. We hope to sell larger \\nnumbers next year , with the \\nFronx, the Jimny (coming in) \\nand the full year effect of the \\nGrand Vitara. Next year,  \\nthanks to these new models, \\nwe are expecting the sales to \\nbe even higher, maybe close \\nto six lakh units .” \\n  \\nMr. Shashank Srivastava,   \\nSr. Executive Officer \\n(Marketing & Sales), MSIL', metadata={'source': 'dataset/sample_data.pdf', 'page': 0}),\n",
              " Document(page_content='Automobiles  \\n27 March 2023    2 \\nApr’23 . Despite some moderation in demand in last two months, discounts \\nremain muted.  We expect dispatches for MSIL to fall 3%, while dispatche s for \\nMM ( incl pickups)/TTMT PV to grow 16%/3% YoY.  \\n\\uf06e CVs:  Our channel checks suggest MHCV retails  to grow 10 -12% YoY  in Mar’23  led \\nby healthy fleet utilization  driven by infra -led demand and pre -buying before \\nOBD -2 transition.  However , a broad -based recovery has not yet materialized as \\nreplacement demand is yet to reflect completely.  Our interaction suggests  the \\neffect of higher borrowing rates have begun to reflect  in bookings  to some \\nextent . LCV retails, on the other hand  are expected to decline 8 -10% YoY due to \\nsubdued demand in rural. Inventory level has increased to over 30 days from  \\naverage 20 -25 days in the last two months , partly due to transition to RDE \\nnorms . While  TTMT has already announced a price hike of up to 5% for its BS6', metadata={'source': 'dataset/sample_data.pdf', 'page': 1}),\n",
              " Document(page_content='average 20 -25 days in the last two months , partly due to transition to RDE \\nnorms . While  TTMT has already announced a price hike of up to 5% for its BS6 \\nphase -II-compliant vehicles, AL is expected to announce it in early Apr’23 . \\nDiscounts remain moderate  at 4-6%, with AL leading the pack. We expect \\ndispatches for TTMT to remain flat  YoY, while the same  should grow 4% YoY  \\neach  for AL and VECV.  \\n\\uf06e Tractors:  We expect Ma r’23 retails to decline 3-5% YoY , largely led by the \\nanticipation of lower output for Rabi crops due to  unseasonal rains  and low \\nyield s for key crops . As a result, the enquiry level  has been  weak during the on-\\ngoing Navratri festival , especially in M aharashtra  and UP. However, our \\ninteraction indicates relatively better demand in southern states like Telangana, \\nwith retails expected to grow 3 -5% YoY  in Mar’23 . Due to unseasonal rains, \\ndemand began to deteriorate in the second half of the month across the', metadata={'source': 'dataset/sample_data.pdf', 'page': 1}),\n",
              " Document(page_content='with retails expected to grow 3 -5% YoY  in Mar’23 . Due to unseasonal rains, \\ndemand began to deteriorate in the second half of the month across the \\nnorthern a nd central states , including Punjab, MP, UP  and Maharashtra . As per \\nour interaction, erratic rainfall may affect wheat production by 15-20% during \\nthe season.  We expect that the impact of weak agri sentiments in central and \\nnorthern regions, possibility of El -Nino impact and a high base of FY23 will keep \\ntractor volume growth  in check in FY24. Inventory is  currently at a normal level \\nof 40 -45 days.  We expect dispatches to grow by 1% YoY each for MM and ESC.  \\n\\uf06e Valuation and view:  We prefer CVs over other segments  thanks to  strong \\ndemand and a stable competitive environment. We prefer companies with: 1) \\nhigher visibility in terms of demand recovery, 2) a strong competitive \\npositioning, 3) encouraging margin drivers, and 4) a strong balance sheet.  AL and', metadata={'source': 'dataset/sample_data.pdf', 'page': 1}),\n",
              " Document(page_content='higher visibility in terms of demand recovery, 2) a strong competitive \\npositioning, 3) encouraging margin drivers, and 4) a strong balance sheet.  AL and \\nTTMT  are our top OEM pick s. Among auto component stocks, we prefer \\nMOTHERSO and BHFC .', metadata={'source': 'dataset/sample_data.pdf', 'page': 1}),\n",
              " Document(page_content='Automobiles  \\n27 March 2023    3 \\nSnapshot of Mar ’23 volume estimates                \\n  YoY     MoM        \\nCompany Sales  Mar -23 Mar -22 YoY (%)  \\n chg Feb-23 MoM (%) \\nchg FY23E  FY22  (%) \\n chg \\nMaruti Suzuki  1,64,812  1,70,395  -3.3 1,72,321  -4.4 19,60,905  16,52,653  18.7  \\nLCVs  3,887  3,797  2.4 3,356  15.8  37,869  33,812  12.0  \\nVans  11,901  9,221  29.1  11,352  4.8 1,31,097  1,08,345  21.0  \\nMini Segment  20,020  15,491  29.2  21,875  -8.5 2,41,349  2,11,762  14.0  \\nCompact (incl Dzire Tour)  74,673  84,761  -11.9  81,325  -8.2 8,95,245  7,26,443  23.2  \\nMid-Size - CIAZ  972 1,834  -47.0  792 22.7  14,282  15,869  -10.0  \\nUVs 36,931  28,795  28.3  36,414  1.4 3,95,421  3,18,046  24.3  \\nDomestic  1,48,385  1,43,899  3.1 1,55,114  -4.3 17,15,264  14,14,277  21.3  \\nExport  16,427  26,496  -38.0  17,207  -4.5 2,45,641  2,38,376  3.0 \\nMahindra & Mahindra  94,804  84,406  12.3  84,592  12.1  10,99,710  8,20,299  34.1', metadata={'source': 'dataset/sample_data.pdf', 'page': 2}),\n",
              " Document(page_content=\"Export  16,427  26,496  -38.0  17,207  -4.5 2,45,641  2,38,376  3.0 \\nMahindra & Mahindra  94,804  84,406  12.3  84,592  12.1  10,99,710  8,20,299  34.1  \\n   UV (incl. pick -ups)  57,637  49,771  15.8  52,364  10.1  6,28,612  4,29,087  46.5  \\n   LCV & M&HCV  833 829 0.5 1,087  -23.3  9,410  6,435  46.2  \\n   Three -Wheelers  6,282  4,043  55.4  5,350  17.4  59,105  30,079  96.5  \\n   Tractors  30,051  29,763  1.0 25,791  16.5  4,02,582  3,54,698  13.5  \\nTata Motors  87,709  86,561  1.3 79,705  10.0  9,51,287  7,26,191  31.0  \\n   HCV's  22,589  23,238  -2.8 17,928  26.0  1,78,195  1,44,500  23.3  \\n   LCV's  21,485  20,855  3.0 18,637  15.3  2,32,595  2,09,515  11.0  \\n   CV's  44,074  44,093  0.0 36,565  20.5  4,10,790  3,54,015  16.0  \\n   Cars  14,463  14,369  0.7 14,344  0.8 1,77,165  1,44,670  22.5  \\n   UV's  29,171  28,099  3.8 28,796  1.3 3,63,332  2,27,506  59.7  \\nHero MotoCorp  4,34,165  4,50,170  -3.6 3,94,460  10.1  52,43,369  49,44,148  6.1\", metadata={'source': 'dataset/sample_data.pdf', 'page': 2}),\n",
              " Document(page_content=\"UV's  29,171  28,099  3.8 28,796  1.3 3,63,332  2,27,506  59.7  \\nHero MotoCorp  4,34,165  4,50,170  -3.6 3,94,460  10.1  52,43,369  49,44,148  6.1 \\nBajaj Auto  2,81,922  2,97,188  -5.1 2,80,226  0.6 39,16,077  43,08,433  -9.1 \\n  Two -Wheelers  2,33,703  2,56,324  -8.8 2,35,356  -0.7 34,27,405  38,36,856  -10.7  \\n  Three -Wheelers  48,219  40,864  18.0  44,870  7.5 4,88,672  4,71,577  3.6 \\nDomestic  1,64,775  1,26,752  30.0  1,53,291  7.5 20,82,735  18,01,807  15.6  \\nExports  1,17,146  1,70,436  -31.3  1,26,935  -7.7 18,33,341  25,06,626  -26.9  \\nAshok Leyland  20,894  20,123  3.8 18,571  12.5  1,89,173  1,28,326  47.4  \\nM&HCV  14,197  13,990  1.5 12,668  12.1  1,21,533  73,885  64.5  \\nLCV  6,697  6,133  9.2 5,903  13.5  67,640  54,441  24 \\nTVS Motor  2,92,177  3,07,954  -5.1 2,76,150  5.8 36,57,093  33,09,578  10.5  \\nMotorcycles  1,37,970  1,60,522  -14.0  1,26,243  9.3 17,29,976  17,31,459  -0.1 \\nScooters  1,05,785  94,747  11.6  1,04,825  0.9 12,97,275  9,21,939  40.7\", metadata={'source': 'dataset/sample_data.pdf', 'page': 2}),\n",
              " Document(page_content='Motorcycles  1,37,970  1,60,522  -14.0  1,26,243  9.3 17,29,976  17,31,459  -0.1 \\nScooters  1,05,785  94,747  11.6  1,04,825  0.9 12,97,275  9,21,939  40.7  \\nMopeds  38,352  37,649  1.9 35,958  6.7 4,60,251  4,84,305  -5.0 \\nThree -Wheelers  10,070  15,036  -33.0  9,124  10.4  1,69,591  1,71,875  -1.3 \\nDomestic  2,35,861  1,98,230  19.0  2,22,745  5.9 26,07,757  20,56,387  26.8  \\nExports  56,315  1,09,724  -48.7  53,405  5.4 10,49,335  12,53,191  -16.3  \\nEicher Motors          Royal Enfield  74,155  67,670  9.6 71,544  3.6 8,36,815  6,02,268  38.9  \\nVECV  9,125  8,793  3.8 7,289  25.2  76,821  57,067  34.6  \\nEscorts Kubota  10,195  10,074  1.2 7,811  30.5  1,03,180  94,228  9.5', metadata={'source': 'dataset/sample_data.pdf', 'page': 2}),\n",
              " Document(page_content=\"Automobiles  \\n27 March 2023    4 \\nComparative valuations               \\n  Rating  Mcap  CMP  TP P/E (x)  EV/ EBITDA (x)  PB (x)  FY25  \\nYield (%)  EPS CAGR  \\n(%) \\nFY23E -25E Auto OEM's    (INR b)  (INR)  (INR)  FY23E  FY24E  FY25E  FY23E  FY24E  FY25E  FY23E  FY24E  FY25E  Div FCF \\nBajaj Auto    Neutral  1,077  3,807  4,150  17.9  15.8  14.3  13.0  11.1  10.1  4.4 4.3 4.1 5.5 5.3 11.8  \\nHero MotoCorp  Buy 462 2,308  2,982  17.2  13.8  12.4  9.1 7.2 6.3 2.8 2.7 2.5 6.1 8.6 17.8  \\nTVS Motor  Neutral  497 1,047  969 34.0  25.6  22.0  18.6  14.2  12.1  8.2 6.5 5.2 0.6 5.0 24.2  \\nEicher Motors  Buy 789 2,886  3,613  28.2  21.5  17.0  22.3  18.4  15.0  5.4 4.5 3.6 0.9 5.8 28.9  \\nMaruti Suzuki  Buy 2,500  8,275  10,545  31.7  22.7  19.1  19.5  14.2  12.0  4.2 3.7 3.3 1.8 3.9 28.7  \\nM&M  Buy 1,362  1,138  1,524  18.4  14.6  12.8  13.1  10.0  8.4 1.5 1.3 1.1 1.5 7.2 20.2  \\nTata Motors  Buy 1,577  412 531 -70.3  15.6  12.7  7.3 3.9 3.2 3.6 2.9 2.4 0.0 9.0 #NUM!\", metadata={'source': 'dataset/sample_data.pdf', 'page': 3}),\n",
              " Document(page_content='M&M  Buy 1,362  1,138  1,524  18.4  14.6  12.8  13.1  10.0  8.4 1.5 1.3 1.1 1.5 7.2 20.2  \\nTata Motors  Buy 1,577  412 531 -70.3  15.6  12.7  7.3 3.9 3.2 3.6 2.9 2.4 0.0 9.0 #NUM!  \\nAshok Leyland  Buy 395 135 186 34.5  17.3  13.3  14.9  10.1  8.1 5.4 5.0 4.1 1.5 9.2 61.0  \\nEscorts  Neutral  226 1,844  1,895  31.8  24.9  19.5  25.8  13.4  11.5  2.5 2.5 2.3 0.5 4.2 27.7  \\nAuto Ancillaries                                  \\nBharat Forge  Buy 353 758 1,050  46.0  23.1  18.0  19.6  13.5  10.9  5.0 4.3 3.5 0.8 5.8 59.7  \\nExide Industries  Buy 147 173 215 15.0  13.3  11.0  8.8 7.7 6.2 1.3 1.2 1.1 1.9 8.7 16.9  \\nAmara Raja  Neutral  95 557 630 12.1  11.3  10.4  6.6 5.8 5.1 1.9 1.7 1.5 2.7 4.9 7.8 \\nBOSCH  Neutral  540 18,323  18,125  37.0  28.9  25.3  27.6  20.9  18.0  4.7 4.4 4.0 1.9 2.5 21.0  \\nEndurance Tech  Buy 167 1,190  1,625  33.5  22.3  19.1  15.8  11.6  9.9 3.9 3.5 3.1 1.3 3.9 32.3  \\nSAMIL  Buy 434 64 100 30.8  16.3  12.2  9.0 6.2 4.7 2.0 1.9 1.7 2.5 12.3  59.1', metadata={'source': 'dataset/sample_data.pdf', 'page': 3}),\n",
              " Document(page_content='Endurance Tech  Buy 167 1,190  1,625  33.5  22.3  19.1  15.8  11.6  9.9 3.9 3.5 3.1 1.3 3.9 32.3  \\nSAMIL  Buy 434 64 100 30.8  16.3  12.2  9.0 6.2 4.7 2.0 1.9 1.7 2.5 12.3  59.1  \\nMahindra CIE  Buy 129 341 450 18.9  14.5  12.4  11.3  8.8 7.3 2.5 2.2 1.9 1.3 6.0 23.3  \\nCEAT  Buy 55 1,369  1,860  33.7  11.5  9.1 8.4 5.1 4.1 1.6 1.5 1.3 0.9 12.4  93.0  \\nBalkrishna Ind  Neutral  374 1,937  2,035  36.9  23.8  20.1  19.6  14.2  12.1  5.0 4.4 3.8 1.8 3.5 35.4  \\nMRF  Sell 354 83,603  75,000  52.4  26.8  20.2  16.2  11.0  8.9 2.4 2.2 2.0 0.2 3.2 60.9  \\nApollo Tyres  Buy 195 307 395 17.3  12.1  9.7 6.6 5.0 4.0 1.4 1.3 1.2 1.5 12.9  34.1  \\nSona BLW  Neutral  242 415 485 60.0  41.1  32.4  37.8  26.3  21.2  10.5  8.9 7.4 0.9 1.9 36.0  \\nTube Investments  Buy 468 2,495  3,194  37.4  30.4  24.5  27.1  22.5  18.1  12.2  9.6 7.5 0.4 4.3 23.5  \\nMSUMI  Buy 209 47 73 42.8  25.9  21.6  28.2  17.7  14.8  15.7  11.0  8.5 2.2 4.2 41.0', metadata={'source': 'dataset/sample_data.pdf', 'page': 3}),\n",
              " Document(page_content='Tube Investments  Buy 468 2,495  3,194  37.4  30.4  24.5  27.1  22.5  18.1  12.2  9.6 7.5 0.4 4.3 23.5  \\nMSUMI  Buy 209 47 73 42.8  25.9  21.6  28.2  17.7  14.8  15.7  11.0  8.5 2.2 4.2 41.0  \\nCRAFTSMAN  Buy 64 3,008  3,925  28.7  16.9  13.8  10.8  7.3 6.1 4.4 3.5 2.8 0.4 8.3 44.4', metadata={'source': 'dataset/sample_data.pdf', 'page': 3}),\n",
              " Document(page_content='Automobiles  \\n27 March 2023    5 \\nN O T E S', metadata={'source': 'dataset/sample_data.pdf', 'page': 4}),\n",
              " Document(page_content='Automobiles  \\n27 March 2023    6 \\nExplanation of Investment Rating  \\nInvestment Rating  Expected return (over 12 -month)  \\nBUY >=15%  \\nSELL  < - 10% \\nNEUTRAL  > - 10 % to 15%  \\nUNDER REVIEW  Rating may undergo a change  \\nNOT RATED  We have forward looking estimates for the stock but we refrain from assigning recommendation  \\n \\n*In case the recommendation given by the Research Analyst is inconsistent with the investment rating legend for a continuous period of 30 days, the Research Analyst shall within following 30 days take appropr iate measures to make the recommendation \\nconsistent with the investment rating legend.  \\n \\nDisclosures:  \\nThe following Disclosures are being made in compliance with the SEBI Research Analyst Regulations 2014 (herein after referred to as the Regulations).', metadata={'source': 'dataset/sample_data.pdf', 'page': 5}),\n",
              " Document(page_content='Disclosures:  \\nThe following Disclosures are being made in compliance with the SEBI Research Analyst Regulations 2014 (herein after referred to as the Regulations).  \\n \\nMotilal Oswal Financial Services Ltd.   (MOFSL) is a SEBI Registered Research Analyst having registration no. INH000000412. MOFSL, the Research Entity (RE) as define d in the Regulations, is engaged in the business of providing Stock broking services, \\nDepository participant services & distribut ion of various financial products. MOFSL is a listed public company, the details in respect of which are available on www.motilaloswal.com . MOFSL (erstwhile Motilal Oswal Securities Limited - MOSL) is registered with the \\nSecurities & Exchange Board of India (SEBI) and is a registered Trading Member with National Stock Exchange of India Ltd. (NS E) and Bombay Stock Exchange Limited (BSE), Multi Commodity Exchange of India Limited (MCX) and National Commodity &', metadata={'source': 'dataset/sample_data.pdf', 'page': 5}),\n",
              " Document(page_content='Deriv atives Exchange Limited (NCDEX) for its stock broking activities & is Depository participant with Central Depository Services  Limited (CDSL) National Securities Depository Limited (NSDL),NERL, COMRIS and CCRL and is member of Association of Mutual \\nFunds of  India (AMFI) for distribution of financial products and Insurance Regulatory & Development Authority of India (IRDA) as Corpo rate Agent for insurance products.  Details of associate entities of Motilal Oswal Financial Services Ltd.  are available on the \\nwebsite at http://onlinereports.motilaloswal.com/Dormant/documents/Associate%20Details.pdf  \\n \\nDetails of pending Enquiry Proceedings of Motilal Oswal Financial Serv ices Limited are available on the website at https://galaxy.motilaloswal.com/ResearchAnalyst/PublishViewLitigation.aspx', metadata={'source': 'dataset/sample_data.pdf', 'page': 5}),\n",
              " Document(page_content='Details of pending Enquiry Proceedings of Motilal Oswal Financial Serv ices Limited are available on the website at https://galaxy.motilaloswal.com/ResearchAnalyst/PublishViewLitigation.aspx  \\n \\nMOFSL, it’s associates, Research Analyst or their relatives may have any financial interest in the subject company. MOFSL and/or its associates and/or Research Analyst o r their relatives may have actual beneficial ownership of 1% or more securities in the \\nsubject company at the end of the month imme diately preceding the date of publication of the Research Report or date of the public appearance. MOFSL and its associate company(ies), their directors and Research Analyst and their relatives may have any other \\npotential conflict of interests at the time  of publication of the research report or at the time of public appearance, however the same shall have no bearing whatsoever on the specific recommendations made by the analyst(s), as the recommendati ons made by the', metadata={'source': 'dataset/sample_data.pdf', 'page': 5}),\n",
              " Document(page_content='analyst(s) are completely independent o f the views of the associates of MOFSL even though there might exist an inherent conflict of interest in some of the stocks m entioned in the research report.  \\n \\nIn the past 12 months, MOFSL or any of its associates may have:  \\na) received any compensation/other b enefits from the subject company of this report  \\nb) managed or co -managed public offering of securities from subject company of this research report,  \\nc) received compensation for investment banking or merchant banking or brokerage services from subject company of  this research report,  \\nd) received compensation for products or services other than investment banking or merchant banking or brokerage services from t he subject company of this research report.  \\n \\n\\uf0b7 MOFSL and it’s associates have not received any compensation or  other benefits from the subject company or third party in connection with the research report.', metadata={'source': 'dataset/sample_data.pdf', 'page': 5}),\n",
              " Document(page_content='\\uf0b7 MOFSL and it’s associates have not received any compensation or  other benefits from the subject company or third party in connection with the research report.  \\n\\uf0b7 Subject Company may have been a client of MOFSL or its associates during twelve months preceding the date of distribution of the research report.  \\n\\uf0b7 Research Anal yst may have served as director/officer/employee in the subject company.  \\n\\uf0b7 MOFSL and research analyst may engage in market making activity for the subject company.  \\nMOFSL and its associate company(ies), and Research Analyst and their relatives from time to ti me may have:  \\na) a long or short position in, act as principal in, and buy or sell the securities or derivatives thereof of companies menti oned herein.', metadata={'source': 'dataset/sample_data.pdf', 'page': 5}),\n",
              " Document(page_content='a) a long or short position in, act as principal in, and buy or sell the securities or derivatives thereof of companies menti oned herein.  \\n(b) be engaged in any other transaction involving such securities and earn brokerage or other compensati on or act as a market maker in the financial instruments of the company(ies) discussed herein or act as an advisor or lender/ borrower to such company(ies) \\nor may have any other potential conflict of interests with respect to any recommendation and other re lated information and opinions.; however the same shall have no bearing whatsoever on the specific recommendations made by th e analyst(s), as the \\nrecommendations made by the analyst(s) are completely independent of the views of the associates of MOFSL even  though there might exist an inherent conflict of interest in some of the stocks mentioned in the research report.', metadata={'source': 'dataset/sample_data.pdf', 'page': 5}),\n",
              " Document(page_content='Above disclosures include beneficial holdings lying in demat account of MOFSL which are opened for proprietary investments on ly. While calcul ating beneficial holdings, It does not consider demat accounts which are opened in name of MOFSL for other purposes \\n(i.e holding client securities, collaterals, error trades etc.). MOFSL also earns DP income from clients which are not consid ered in above d isclosures.  \\nTo enhance transparency, MOFSL has incorporated a Disclosure of Interest Statement in this document. This should, however, no t be treated as endorsement of the views expressed in the report. MOFSL and / or its affiliates do and seek to do business in cludin g \\ninvestment banking with companies covered in its research reports. As a result, the recipients of this report should be aware  that MOFSL may have a potential conflict of interest that may affect the objectivity of this report.  \\n \\nTerms & Conditions:', metadata={'source': 'dataset/sample_data.pdf', 'page': 5}),\n",
              " Document(page_content='Terms & Conditions:  \\nThis report has been prepared by MOFSL and is meant for sole use by the recipient and not for circulation. The report and informat ion contained herein is strictly confidential and may not be altered in any way, transmitted to, copied or distributed, in pa rt or in \\nwhole, to any other person or to the media or reproduced in any form, without prior written consent of MOFSL. The report is b ased on the facts, figures and information that are considered true, correct, reliable and accurate. The intent of this repor t is not \\nrecommendatory in nature. The information is obtained from publicly available media or other sources believed to be reliable.  Such information has not been independently verified and no guaranty, representation of warranty, express or implied, is mad e as to its', metadata={'source': 'dataset/sample_data.pdf', 'page': 5}),\n",
              " Document(page_content='accuracy, completeness or correctness. All such information and opinions are subject to change without notice. The report is prepared solely for informational purpose and does not constitute an offer document or solicitation of offer to buy or sell or subscribe for \\nsecurities or other financial instruments for the clients. Though disseminated to all the customers simultaneously, not all c ustomers may receive this report at the same time. MOFSL will not treat recipients as customers by virtue of their receiving this report.  \\nAnalyst Certification  \\nThe views expressed in this research report accurately reflect the personal views of the analyst(s) about the subject securit ies or issues, and no part of the compensation of the research analyst(s) was, i s, or will be directly or indirectly related to the specific \\nrecommendations and views expressed by research analyst(s) in this report.  \\n \\nDisclosure of Interest Statement      \\nAnalyst ownership of the stock    No', metadata={'source': 'dataset/sample_data.pdf', 'page': 5}),\n",
              " Document(page_content='recommendations and views expressed by research analyst(s) in this report.  \\n \\nDisclosure of Interest Statement      \\nAnalyst ownership of the stock    No  \\nA graph of daily closing prices of securi ties is available at www.nseindia.com , www.bseindia.com . Research Analyst views on Subject Company may vary based on Fundamental research and Technical Research. Proprietary trading desk of MOFSL or its \\nassociates maintains arm’s length distance with Research Team as all the activities are segregated from MOFSL research activity and therefore it can have an independent view with regards to subject company for which Research Team have expressed their \\nviews.  \\n \\nRegional Disclosures (outside India)  \\nThis report is not directed or intended for distribution to or use by any person or entity resident in a state, country or any jurisdiction, where such distribution, publication, availability or use would be contrary to law, regulation or which would subject MOFSL & its', metadata={'source': 'dataset/sample_data.pdf', 'page': 5}),\n",
              " Document(page_content='group companies to registration or licensing requiremen ts within such jurisdictions.  \\n \\nFor Hong Kong:  \\nThis report is distributed in Hong Kong by Motilal Oswal capital Markets (Hong Kong) Private Limited, a licensed corporation (CE AYY -301) licensed and regulated by the Hong Kong Securities and Futures Commissi on (SFC) pursuant to the Securities and \\nFutures Ordinance (Chapter 571 of the Laws of Hong Kong) “SFO”. As per SEBI (Research Analyst Regulations) 2014 Motilal Oswal  Financial Services Limited (SEBI Reg No. INH000000412) has an agreement with Motilal Oswal  capital Markets (Hong Kong) \\nPrivate Limited for distribution of research report in Hong Kong. This report is intended for distribution only to “Professio nal Investors” as defined in Part I of Schedule 1 to SFO. Any investment or investment activity to whi ch this document relates is only available', metadata={'source': 'dataset/sample_data.pdf', 'page': 5}),\n",
              " Document(page_content='to professional investor and will be engaged only with professional investors.” Nothing here is an offer or solicitation of t hese securities, products and services in any jurisdiction where their offer or sale is not qualified or exempt from registration. The Indian \\nAnalyst(s) who compile this report is/are not located in Hong Kong & are not conducting Research Analysis in Hong Kong.  \\n \\nFor U.S.  \\nMOTILAL Oswal Financial Services Limited (MOFSL) is not a registered broker - dealer under the U.S. Securities Exchange Act of 1934, as amended (the\"1934 act\") and under applicable state laws in the Unit ed States. In addition MOFSL is not a registered \\ninvestment adviser under the U.S. Investment Advisers Act of 1940, as ame nded (the \"Advisers Act\" and together with the 1934 Act, the \"Acts), and under applicable state laws in the United States. Ac cordingly, in the absence of specific exemption under the Acts,', metadata={'source': 'dataset/sample_data.pdf', 'page': 5}),\n",
              " Document(page_content='any brokerage and investment services provided by MOFSL, including the products and services described herein are not available to or intended for U.S. persons. This report is intended for dis tribution only to \"Major Institutional Investors\" as defined by Rule \\n15a-6(b)(4) of the Exchange Act and interpretations thereof by  SEC (henceforth referred to as \"major institutional investors\"). This document must not be acted on or relied on by persons w ho are not major institutional investors. Any investment or investment \\nactivity to which this document relates is only available t o major institutional investors and will be engaged in only with major institutional investors. In reliance on the exemption from registration provided by Rule 15a -6 of the U.S. Securities Exchange Act of 1934,', metadata={'source': 'dataset/sample_data.pdf', 'page': 5}),\n",
              " Document(page_content='as amended (the \"Exchange Act\") and interpret ations thereof by the U.S. Securities and Exchange Commission (\"SEC\") in order to conduct business with Institutional Investo rs based in the U.S., MOFSL has entered into a chaperoning agreement with a U.S. \\nregistered broker -dealer, Motilal Oswal Securities  International Private Limited. (\"MOSIPL\"). Any business interaction pursuant to this report will have to be executed within t he provisions of this chaperoning agreement.  \\n \\nThe Research Analysts contributing to the report may not be registered /qualified as  research analyst with FINRA. Such research analyst may not be associated persons of the U.S. registered broker -dealer, MOSIPL, and therefore, may not be subject to NASD \\nrule 2711 and NYSE Rule 472 restrictions on communication with a subject company, publ ic appearances and trading securities held by a research analyst account.  \\n \\nFor Singapore', metadata={'source': 'dataset/sample_data.pdf', 'page': 5}),\n",
              " Document(page_content='rule 2711 and NYSE Rule 472 restrictions on communication with a subject company, publ ic appearances and trading securities held by a research analyst account.  \\n \\nFor Singapore  \\nIn Singapore, this report is being distributed by Motilal Oswal Capital Markets Singapore Pte Ltd (“MOCMSPL”) (Co.Reg. NO. 20 1129401Z) which is a holder of a capital m arkets services license and an exempt financial adviser in Singapore,   \\nas per the approved agreement under Paragraph   9 of Third Schedule of Securities and Futures Act (CAP 289) and Paragraph 11 of First Schedule of Financial Advisors Act (CAP  110) provide d to MOCMSPL by Monetary Authority of Singapore. Persons in \\nSingapore should contact MOCMSPL in respect of any matter arising from, or in connection with this report/publication/communi cation.   This report is distributed  solely to persons who qualify as “I nstitutional Investors”, of which some of whom may consist of', metadata={'source': 'dataset/sample_data.pdf', 'page': 5}),\n",
              " Document(page_content='\"accredited\" institutional investors as defined in section 4A(1) of the Securities and Futures Act, Chapter 289 of Singapore (“the SFA”).  Accordingly, if a Singapore person is not or ceases to b e such an institutional investor, such Singapore Person must \\nimmediately discontinue any use of this Report and inform MOCMSPL.  \\n \\nDisclaimer:  \\n \\nThe report and information contained herein is strictly confidential and meant solely for the selected recipient and may not be altered in any way, transmitted to, copied or distributed, in part or in whole, to any other person or to the media or reproduced in any \\nform, without prior written consent.  This report and information herein is solely for informational pur pose and may not be used or considered as an offer document or solicitation of offer to buy or sell or subscribe for securiti es or other financial instruments. Nothing', metadata={'source': 'dataset/sample_data.pdf', 'page': 5}),\n",
              " Document(page_content='in this report constitutes investment, legal, accounting and tax advice or a representat ion that any investment or strategy is suitable or appropriate to your specific circumstances. The securities discussed and o pinions expressed in this report may not be suitable \\nfor all investors, who must make their own investment decisions, based on thei r own investment objectives, financial positions and needs of specific recipient. This may not be taken in substitution for t he exercise of independent judgment by any recipient. Each \\nrecipient of this document should make such investigations as it deems n ecessary to arrive at an independent evaluation of an investment in the securities of companies referred to in this document (including the merits and risks involved), and should consult its', metadata={'source': 'dataset/sample_data.pdf', 'page': 5}),\n",
              " Document(page_content='own advisors to determine the merits and risks of such an investm ent. The investment discussed or views expressed may not be suitable for all investors. Certain transactions -including those involving futures, options, another derivative products as well as non -\\ninvestment grade securities - involve substantial risk and are not suitable for all investors. No representation or warranty, express or implied, is made as to the accuracy, completene ss or fairness of the information and opinions contained in this document. The \\nDisclosures of Interest Statement incorporated in th is document is provided solely to enhance the transparency and should not be treated as endorsement of the views expressed in  the report. This information is subject to change without any prior notice. The', metadata={'source': 'dataset/sample_data.pdf', 'page': 5}),\n",
              " Document(page_content='Company reserves the right to make modifications a nd alternations to this statement as may be required from time to time without any prior approval. MOFSL, its associates, the ir directors and the employees may from time to time, effect or have effected an own \\naccount transaction in, or deal as principal o r agent in or for the securities mentioned in this document. They may perform or seek to perform investment banking or other services for, or solicit investment banking or other business from, any company referred to in \\nthis report. Each of these entities functions as a separate, distinct and independent of each other. The recipient should take this into account before interpret ing the document. This report has been prepared on the basis of information that is already available in', metadata={'source': 'dataset/sample_data.pdf', 'page': 5}),\n",
              " Document(page_content='publicly accessible media or developed through analysis of MOFSL. The views expressed are those of the analyst, and the Company may or may not subscrib e to all the views expressed therein. This document is being supplied to you solely for your information \\nand may not be reproduced,  redistributed or passed on, directly or indirectly, to any other person or published, copied, in whole or in part, for any pu rpose. This report is not directed or intended for distribution to, or use by, any person or entity who is a citizen or \\nresident o f or located in any locality, state, country or other jurisdiction, where such distribution, publication, availability or use  would be contrary to law, regulation or which would subject MOFSL to any registration or licensing requirement within such ju risdiction.', metadata={'source': 'dataset/sample_data.pdf', 'page': 5}),\n",
              " Document(page_content='The securities described herein may or may not be eligible for sale in all jurisdictions or to certain category of investors.  Persons in whose possession this document may come are required to inform themselves of and to observe such restriction. Ne ither the Firm, \\nnot its directors, employees, agents or representatives shall be liable for any damages whether direct or indirect, incidenta l, special or consequential including lost revenue or lost profits that may arise from or in connection with the us e of the information. The \\nperson accessing this information specifically agrees to exempt MOFSL or any of its affiliates or employees from, any and all  responsibility/liability arising from such misuse and agrees not to hold MOFSL or any of its affiliates or employees responsible for any', metadata={'source': 'dataset/sample_data.pdf', 'page': 5}),\n",
              " Document(page_content='such misuse and further agrees to hold MOFSL or any of its affiliates or employees free and harmless from all losses, costs, damages, expenses that may be suffered by the person accessing this information due to any errors and delays.  \\n \\nRegistered Office Address: Motilal Oswal Tower, Rahimtullah Sayani Road, Opposite Parel ST Depot, Prabhadevi , Mumbai -400025; Tel No.: 022 -3980 4263; www.motilaloswal.com. Correspondence Address: Palm Spring Centre, 2nd Floor, Palm Court Complex, \\nNew Link Road, Malad (West), Mumbai - 400 064. Tel No: 022 71881000. Details of Compliance Officer: Neeraj Agarwal, Ema il Id: na@motilaloswal.com, Contact No.:022 -40548085.  \\n \\nRegistration details of group entities.: Motilal Oswal Financial Services Ltd.  (MOFSL): INZ000158836 (BSE/NSE/MCX/NCDEX); CD SL: IN -DP-16-2015; NSDL: IN -DP-NSDL -152-2000; Research Analyst: INH000000412  . AMFI: ARN .: 146822. IRDA Corporate', metadata={'source': 'dataset/sample_data.pdf', 'page': 5}),\n",
              " Document(page_content='Agent – CA0579. Motilal Oswal Financial Services Ltd.  is a distributor of Mutual Funds, PMS, Fixed Deposit, Insurance, Bond, NCDs an d IPO products. Customer having any query/feedback/ clarification may write to query @motilaloswal.com. In case of \\ngrievances for any of the services rendered by Motilal Oswal Financial Services Limited (MOFSL) write to grievances@motilalos wal.com, for DP to dpgrievances@motilaloswal.com .', metadata={'source': 'dataset/sample_data.pdf', 'page': 5})]"
            ]
          },
          "metadata": {},
          "execution_count": 14
        }
      ],
      "source": [
        "text_splitter = RecursiveCharacterTextSplitter(chunk_size=1000, chunk_overlap=200)\n",
        "spilit_texts = text_splitter.split_documents(primary_data)\n",
        "spilit_texts"
      ]
    },
    {
      "cell_type": "markdown",
      "metadata": {
        "id": "_ni2y9GD24oH"
      },
      "source": [
        "using a sep vectodb for storing trash texts from the report"
      ]
    },
    {
      "cell_type": "code",
      "execution_count": 15,
      "metadata": {
        "id": "h-1iqLhz24oH",
        "colab": {
          "base_uri": "https://localhost:8080/"
        },
        "outputId": "fceb4ae3-7075-4a3c-8bd5-9e1d0f732eb0"
      },
      "outputs": [
        {
          "output_type": "stream",
          "name": "stderr",
          "text": [
            "/usr/local/lib/python3.10/dist-packages/langchain_core/_api/deprecation.py:117: LangChainDeprecationWarning: The class `langchain_community.embeddings.openai.OpenAIEmbeddings` was deprecated in langchain-community 0.0.9 and will be removed in 0.2.0. An updated version of the class exists in the langchain-openai package and should be used instead. To use it run `pip install -U langchain-openai` and import as `from langchain_openai import OpenAIEmbeddings`.\n",
            "  warn_deprecated(\n"
          ]
        }
      ],
      "source": [
        "persist_directory = 'db-trash'\n",
        "\n",
        "#openai embeddings -> converts texts to vecs\n",
        "embedding = OpenAIEmbeddings(openai_api_key = openai_api_key)\n",
        "# embedding = OpenAIEmbeddings(openai_api_key = openai_api_key, model=\"text-embedding-3-small\")\n",
        "\n",
        "\n",
        "#load the spilt chunk vectors into the vectordb\n",
        "vectordb = Chroma.from_documents(documents=spilit_texts, embedding=embedding, persist_directory=persist_directory)\n",
        "vectordb.persist()\n",
        "vectordb = None\n",
        "vectordb = Chroma(persist_directory=persist_directory, embedding_function=embedding)"
      ]
    },
    {
      "cell_type": "code",
      "execution_count": 16,
      "metadata": {
        "colab": {
          "base_uri": "https://localhost:8080/"
        },
        "id": "vvH_lysS24oI",
        "outputId": "56188c9f-48d9-4480-a4e0-2752e5657a59"
      },
      "outputs": [
        {
          "output_type": "execute_result",
          "data": {
            "text/plain": [
              "[Document(page_content=' \\nJinesh Gandhi  – Research Analyst  (Jinesh@MotilalOswal.com)  \\nResearch Analyst : Amber  Shukla  (Amber.Shukla@ Motilal Oswal.com ) | Aniket Desai (Aniket .Desai @MotilalOswal.com)  \\n \\nInvestors are advised to refer through important disclosures made at the last page of the Research Report.  \\nMotilal Oswal research is available on www.motilaloswal.com/Institutional -Equities, Bloomberg, Thomson Reuters, Factset and S&P Capital.  \\n @ \\n \\n \\nMHCV likely to outperform despite multiple challenges  \\nInitial signs of demand moderati on in PV; expect 2W volumes to grow YoY  \\n\\uf06e Our interaction with leading channel partners indicate s some moderation in \\ndemand  due to erratic rainfall during the month , especially in key Northern and \\ncentral regions and lower enquiries  during the ongoing festive season.  Despite \\nthis, retails for both MHCV and 2Ws are expected to grow while PV volume \\ngrowth is expected to  remain flattish.  We note  that most of the OEMs have \\nalready announced price hikes for their OBD -2 norm -compliant vehicles , with \\nCVs leading the pack  (up to 5%  hike ). We expect 2W retails to grow 4 -6% YoY in \\nMar’23, with  enquiry levels during festival s (Gudi Padwa and Ugadi ) varying \\ngreatly among states. On the other hand, PV retail  growth is  expected to remain \\nflattish (0 -2% YoY) . We note that Fronx and Jimn y have received bookings of \\nover 40k units so far. Demand momentum for MHCVs remain robust resulti ng in \\nretail growth of 10 -12% YoY while LCV volumes are expected to decline 8 -10% \\nYoY led by weak momentum in rural . For tractors, w e expect retails  to decline 3-\\n5% YoY , largely due to  the impact of  unseasonal rains and low yield s for key \\ncrops  such as oni on. In Mar’23, overall wholesale volumes for \\nPV/CV/tractor/3Ws are estimated to grow by 1%/ 1.5%/1 %/8% YoY, while 2Ws \\nare likely to decline 4% YoY.  \\n\\uf06e 2Ws:  Retails are expected to grow 4-6% YoY in Mar ’23 since urban demand is \\nsteady and inquiries have improved in certain states during the ongoing Navratri \\nseason . However, overall sales  are still do wn by 15 -17% v /s the pre-Covid  level \\nas rural demand remain s weak.  Enquiry levels during the key festival s (Gudi \\nPadwa and Ugadi) varied greatly among  states.  We have noted 2-6% YoY growth \\nin enquiry levels in states like Gujarat, Delhi and Karnataka , while  the same \\ndeclined by 4-8% in other key states like UP, Bihar  and Maharashtra . The i nitial \\nresponse to HMCL’ s new launch Xoom (110 cc scooter) has been positi ve as it has \\naccounted for 25-30% of the overall enquiries in Mar’23 . Xoom currently has a \\nwaiting period of 30 days  as dispatches are yet to ramp up . Overall i nventory has \\nnow come back to the normal level of 40 -45 days , with HMCL having the highest \\nat 50-55 days , followed by TVSL, BJAUT and HMSI with 25 -35 days. Inventory for \\nRE has inched up to 20 -25 days. We have noted a waiting period of 1 -1.5 months \\nfor Hunter and 3 -4 months for Super Meteor 650. We expect dispatches for \\nHMCL/BAJUT (incl 3W)/TVS (in cl 3W) to fall by 4%/5%/5% , while RE’s dispatches  \\nmay  grow 10% YoY.      \\n\\uf06e PVs: Mar’23 r etails growth is  expected to be flattish YoY with 0 -2% YoY growth. \\nThere has been some moderation  in enquiries led  by muted demand  during \\nongoing festival s and persistent weakness in  the rural  market . Moreover, rising \\ninterest rates have further hampered bookings for low-end models. Although \\nthe inven tory level has increased to 25 -30 days in Mar’23 v/s  20-25 days till Feb-\\nend, it has now come back to the normal level after three years. However, there \\nis still a long waiting period for SUVs, especially for high -end/AMT  variants. \\nTTMT has announced  a price hike of INR10 -15k per vehicle  for its BS6 phase -II-\\ncompliant vehicles . MM  has announced a price hike of INR15 -20k for  its petrol \\nand INR25 -30k for diesel variants,  while MSIL will announce a price hike  by early \\n Sector Update | 27 March 2023  \\n  \\nAutomobiles  \\n\"We expect (Nexa) to close \\nthis (fiscal) year at around \\n3.7 lakh units against 2.55 \\nlakh units that we did last \\nyear. We hope to sell larger \\nnumbers next year , with the \\nFronx, the Jimny (coming in) \\nand the full year effect of the \\nGrand Vitara. Next year,  \\nthanks to these new models, \\nwe are expecting the sales to \\nbe even higher, maybe close \\nto six lakh units .” \\n  \\nMr. Shashank Srivastava,   \\nSr. Executive Officer \\n(Marketing & Sales), MSIL  \\n', metadata={'source': 'dataset/sample_data.pdf', 'page': 0}),\n",
              " Document(page_content=' Automobiles  \\n27 March 2023    2 \\nApr’23 . Despite some moderation in demand in last two months, discounts \\nremain muted.  We expect dispatches for MSIL to fall 3%, while dispatche s for \\nMM ( incl pickups)/TTMT PV to grow 16%/3% YoY.  \\n\\uf06e CVs:  Our channel checks suggest MHCV retails  to grow 10 -12% YoY  in Mar’23  led \\nby healthy fleet utilization  driven by infra -led demand and pre -buying before \\nOBD -2 transition.  However , a broad -based recovery has not yet materialized as \\nreplacement demand is yet to reflect completely.  Our interaction suggests  the \\neffect of higher borrowing rates have begun to reflect  in bookings  to some \\nextent . LCV retails, on the other hand  are expected to decline 8 -10% YoY due to \\nsubdued demand in rural. Inventory level has increased to over 30 days from  \\naverage 20 -25 days in the last two months , partly due to transition to RDE \\nnorms . While  TTMT has already announced a price hike of up to 5% for its BS6 \\nphase -II-compliant vehicles, AL is expected to announce it in early Apr’23 . \\nDiscounts remain moderate  at 4-6%, with AL leading the pack. We expect \\ndispatches for TTMT to remain flat  YoY, while the same  should grow 4% YoY  \\neach  for AL and VECV.  \\n\\uf06e Tractors:  We expect Ma r’23 retails to decline 3-5% YoY , largely led by the \\nanticipation of lower output for Rabi crops due to  unseasonal rains  and low \\nyield s for key crops . As a result, the enquiry level  has been  weak during the on-\\ngoing Navratri festival , especially in M aharashtra  and UP. However, our \\ninteraction indicates relatively better demand in southern states like Telangana, \\nwith retails expected to grow 3 -5% YoY  in Mar’23 . Due to unseasonal rains, \\ndemand began to deteriorate in the second half of the month across the \\nnorthern a nd central states , including Punjab, MP, UP  and Maharashtra . As per \\nour interaction, erratic rainfall may affect wheat production by 15-20% during \\nthe season.  We expect that the impact of weak agri sentiments in central and \\nnorthern regions, possibility of El -Nino impact and a high base of FY23 will keep \\ntractor volume growth  in check in FY24. Inventory is  currently at a normal level \\nof 40 -45 days.  We expect dispatches to grow by 1% YoY each for MM and ESC.  \\n\\uf06e Valuation and view:  We prefer CVs over other segments  thanks to  strong \\ndemand and a stable competitive environment. We prefer companies with: 1) \\nhigher visibility in terms of demand recovery, 2) a strong competitive \\npositioning, 3) encouraging margin drivers, and 4) a strong balance sheet.  AL and \\nTTMT  are our top OEM pick s. Among auto component stocks, we prefer \\nMOTHERSO and BHFC .  \\n \\n  ', metadata={'source': 'dataset/sample_data.pdf', 'page': 1}),\n",
              " Document(page_content=\" Automobiles  \\n27 March 2023    3 \\nSnapshot of Mar ’23 volume estimates                \\n  YoY     MoM        \\nCompany Sales  Mar -23 Mar -22 YoY (%)  \\n chg Feb-23 MoM (%) \\nchg FY23E  FY22  (%) \\n chg \\nMaruti Suzuki  1,64,812  1,70,395  -3.3 1,72,321  -4.4 19,60,905  16,52,653  18.7  \\nLCVs  3,887  3,797  2.4 3,356  15.8  37,869  33,812  12.0  \\nVans  11,901  9,221  29.1  11,352  4.8 1,31,097  1,08,345  21.0  \\nMini Segment  20,020  15,491  29.2  21,875  -8.5 2,41,349  2,11,762  14.0  \\nCompact (incl Dzire Tour)  74,673  84,761  -11.9  81,325  -8.2 8,95,245  7,26,443  23.2  \\nMid-Size - CIAZ  972 1,834  -47.0  792 22.7  14,282  15,869  -10.0  \\nUVs 36,931  28,795  28.3  36,414  1.4 3,95,421  3,18,046  24.3  \\nDomestic  1,48,385  1,43,899  3.1 1,55,114  -4.3 17,15,264  14,14,277  21.3  \\nExport  16,427  26,496  -38.0  17,207  -4.5 2,45,641  2,38,376  3.0 \\nMahindra & Mahindra  94,804  84,406  12.3  84,592  12.1  10,99,710  8,20,299  34.1  \\n   UV (incl. pick -ups)  57,637  49,771  15.8  52,364  10.1  6,28,612  4,29,087  46.5  \\n   LCV & M&HCV  833 829 0.5 1,087  -23.3  9,410  6,435  46.2  \\n   Three -Wheelers  6,282  4,043  55.4  5,350  17.4  59,105  30,079  96.5  \\n   Tractors  30,051  29,763  1.0 25,791  16.5  4,02,582  3,54,698  13.5  \\nTata Motors  87,709  86,561  1.3 79,705  10.0  9,51,287  7,26,191  31.0  \\n   HCV's  22,589  23,238  -2.8 17,928  26.0  1,78,195  1,44,500  23.3  \\n   LCV's  21,485  20,855  3.0 18,637  15.3  2,32,595  2,09,515  11.0  \\n   CV's  44,074  44,093  0.0 36,565  20.5  4,10,790  3,54,015  16.0  \\n   Cars  14,463  14,369  0.7 14,344  0.8 1,77,165  1,44,670  22.5  \\n   UV's  29,171  28,099  3.8 28,796  1.3 3,63,332  2,27,506  59.7  \\nHero MotoCorp  4,34,165  4,50,170  -3.6 3,94,460  10.1  52,43,369  49,44,148  6.1 \\nBajaj Auto  2,81,922  2,97,188  -5.1 2,80,226  0.6 39,16,077  43,08,433  -9.1 \\n  Two -Wheelers  2,33,703  2,56,324  -8.8 2,35,356  -0.7 34,27,405  38,36,856  -10.7  \\n  Three -Wheelers  48,219  40,864  18.0  44,870  7.5 4,88,672  4,71,577  3.6 \\nDomestic  1,64,775  1,26,752  30.0  1,53,291  7.5 20,82,735  18,01,807  15.6  \\nExports  1,17,146  1,70,436  -31.3  1,26,935  -7.7 18,33,341  25,06,626  -26.9  \\nAshok Leyland  20,894  20,123  3.8 18,571  12.5  1,89,173  1,28,326  47.4  \\nM&HCV  14,197  13,990  1.5 12,668  12.1  1,21,533  73,885  64.5  \\nLCV  6,697  6,133  9.2 5,903  13.5  67,640  54,441  24 \\nTVS Motor  2,92,177  3,07,954  -5.1 2,76,150  5.8 36,57,093  33,09,578  10.5  \\nMotorcycles  1,37,970  1,60,522  -14.0  1,26,243  9.3 17,29,976  17,31,459  -0.1 \\nScooters  1,05,785  94,747  11.6  1,04,825  0.9 12,97,275  9,21,939  40.7  \\nMopeds  38,352  37,649  1.9 35,958  6.7 4,60,251  4,84,305  -5.0 \\nThree -Wheelers  10,070  15,036  -33.0  9,124  10.4  1,69,591  1,71,875  -1.3 \\nDomestic  2,35,861  1,98,230  19.0  2,22,745  5.9 26,07,757  20,56,387  26.8  \\nExports  56,315  1,09,724  -48.7  53,405  5.4 10,49,335  12,53,191  -16.3  \\nEicher Motors          Royal Enfield  74,155  67,670  9.6 71,544  3.6 8,36,815  6,02,268  38.9  \\nVECV  9,125  8,793  3.8 7,289  25.2  76,821  57,067  34.6  \\nEscorts Kubota  10,195  10,074  1.2 7,811  30.5  1,03,180  94,228  9.5 \\n \\n  \", metadata={'source': 'dataset/sample_data.pdf', 'page': 2}),\n",
              " Document(page_content=\" Automobiles  \\n27 March 2023    4 \\nComparative valuations               \\n  Rating  Mcap  CMP  TP P/E (x)  EV/ EBITDA (x)  PB (x)  FY25  \\nYield (%)  EPS CAGR  \\n(%) \\nFY23E -25E Auto OEM's    (INR b)  (INR)  (INR)  FY23E  FY24E  FY25E  FY23E  FY24E  FY25E  FY23E  FY24E  FY25E  Div FCF \\nBajaj Auto    Neutral  1,077  3,807  4,150  17.9  15.8  14.3  13.0  11.1  10.1  4.4 4.3 4.1 5.5 5.3 11.8  \\nHero MotoCorp  Buy 462 2,308  2,982  17.2  13.8  12.4  9.1 7.2 6.3 2.8 2.7 2.5 6.1 8.6 17.8  \\nTVS Motor  Neutral  497 1,047  969 34.0  25.6  22.0  18.6  14.2  12.1  8.2 6.5 5.2 0.6 5.0 24.2  \\nEicher Motors  Buy 789 2,886  3,613  28.2  21.5  17.0  22.3  18.4  15.0  5.4 4.5 3.6 0.9 5.8 28.9  \\nMaruti Suzuki  Buy 2,500  8,275  10,545  31.7  22.7  19.1  19.5  14.2  12.0  4.2 3.7 3.3 1.8 3.9 28.7  \\nM&M  Buy 1,362  1,138  1,524  18.4  14.6  12.8  13.1  10.0  8.4 1.5 1.3 1.1 1.5 7.2 20.2  \\nTata Motors  Buy 1,577  412 531 -70.3  15.6  12.7  7.3 3.9 3.2 3.6 2.9 2.4 0.0 9.0 #NUM!  \\nAshok Leyland  Buy 395 135 186 34.5  17.3  13.3  14.9  10.1  8.1 5.4 5.0 4.1 1.5 9.2 61.0  \\nEscorts  Neutral  226 1,844  1,895  31.8  24.9  19.5  25.8  13.4  11.5  2.5 2.5 2.3 0.5 4.2 27.7  \\nAuto Ancillaries                                  \\nBharat Forge  Buy 353 758 1,050  46.0  23.1  18.0  19.6  13.5  10.9  5.0 4.3 3.5 0.8 5.8 59.7  \\nExide Industries  Buy 147 173 215 15.0  13.3  11.0  8.8 7.7 6.2 1.3 1.2 1.1 1.9 8.7 16.9  \\nAmara Raja  Neutral  95 557 630 12.1  11.3  10.4  6.6 5.8 5.1 1.9 1.7 1.5 2.7 4.9 7.8 \\nBOSCH  Neutral  540 18,323  18,125  37.0  28.9  25.3  27.6  20.9  18.0  4.7 4.4 4.0 1.9 2.5 21.0  \\nEndurance Tech  Buy 167 1,190  1,625  33.5  22.3  19.1  15.8  11.6  9.9 3.9 3.5 3.1 1.3 3.9 32.3  \\nSAMIL  Buy 434 64 100 30.8  16.3  12.2  9.0 6.2 4.7 2.0 1.9 1.7 2.5 12.3  59.1  \\nMahindra CIE  Buy 129 341 450 18.9  14.5  12.4  11.3  8.8 7.3 2.5 2.2 1.9 1.3 6.0 23.3  \\nCEAT  Buy 55 1,369  1,860  33.7  11.5  9.1 8.4 5.1 4.1 1.6 1.5 1.3 0.9 12.4  93.0  \\nBalkrishna Ind  Neutral  374 1,937  2,035  36.9  23.8  20.1  19.6  14.2  12.1  5.0 4.4 3.8 1.8 3.5 35.4  \\nMRF  Sell 354 83,603  75,000  52.4  26.8  20.2  16.2  11.0  8.9 2.4 2.2 2.0 0.2 3.2 60.9  \\nApollo Tyres  Buy 195 307 395 17.3  12.1  9.7 6.6 5.0 4.0 1.4 1.3 1.2 1.5 12.9  34.1  \\nSona BLW  Neutral  242 415 485 60.0  41.1  32.4  37.8  26.3  21.2  10.5  8.9 7.4 0.9 1.9 36.0  \\nTube Investments  Buy 468 2,495  3,194  37.4  30.4  24.5  27.1  22.5  18.1  12.2  9.6 7.5 0.4 4.3 23.5  \\nMSUMI  Buy 209 47 73 42.8  25.9  21.6  28.2  17.7  14.8  15.7  11.0  8.5 2.2 4.2 41.0  \\nCRAFTSMAN  Buy 64 3,008  3,925  28.7  16.9  13.8  10.8  7.3 6.1 4.4 3.5 2.8 0.4 8.3 44.4  \\n \\n   \", metadata={'source': 'dataset/sample_data.pdf', 'page': 3}),\n",
              " Document(page_content=' Automobiles  \\n27 March 2023    5 \\nN O T E S  \\n  ', metadata={'source': 'dataset/sample_data.pdf', 'page': 4})]"
            ]
          },
          "metadata": {},
          "execution_count": 16
        }
      ],
      "source": [
        "\n",
        "# Use your trash data retriever to get the relevant documents\n",
        "trash_retriever = vectordb.as_retriever(search_kwargs={\"k\":20}) #k: 20 for more context window to llm\n",
        "trash_text = trash_retriever.get_relevant_documents('Get me the SEBI disclosure and the unnecessary disclaimers and terms and conditions')\n",
        "\n",
        "trash_metadata = [doc.metadata for doc in trash_text]\n",
        "main_data_filtered = [doc for doc in primary_data if doc.metadata not in trash_metadata]\n",
        "main_data_filtered\n",
        "\n",
        "\n",
        "# trash_text_content = [doc.page_content for doc in trash_text]\n",
        "# cleaned_chunk = primary_data\n",
        "# for trash in trash_text_content:\n",
        "#     cleaned_chunk = cleaned_chunk.replace(trash, \"\")\n"
      ]
    },
    {
      "cell_type": "markdown",
      "source": [
        "## spiliting the filtered texts by `main_data_filtered`"
      ],
      "metadata": {
        "id": "i_h--yPc9JRE"
      }
    },
    {
      "cell_type": "code",
      "source": [
        "spilit_texts = text_splitter.split_documents(main_data_filtered)"
      ],
      "metadata": {
        "id": "AGnKUSKOlnP4"
      },
      "execution_count": 17,
      "outputs": []
    },
    {
      "cell_type": "markdown",
      "source": [
        "The idea is that when we have a lot of data reports, majority of them are disclosures warnings, so run an filteration and then rag"
      ],
      "metadata": {
        "id": "21UC_oQKmBT2"
      }
    },
    {
      "cell_type": "code",
      "source": [
        "persist_directory = 'db-filtered'\n",
        "\n",
        "#openai embeddings -> converts texts to vecs\n",
        "embedding = OpenAIEmbeddings(openai_api_key = openai_api_key)\n",
        "# embedding = OpenAIEmbeddings(openai_api_key = openai_api_key, model=\"text-embedding-3-small\")\n",
        "\n",
        "\n",
        "#load the spilt chunk vectors into the vectordb\n",
        "vectordb = Chroma.from_documents(documents=spilit_texts, embedding=embedding, persist_directory=persist_directory)\n",
        "vectordb.persist()\n",
        "vectordb = None\n",
        "vectordb = Chroma(persist_directory=persist_directory, embedding_function=embedding)"
      ],
      "metadata": {
        "id": "qMFFJBlqlwcx"
      },
      "execution_count": 18,
      "outputs": []
    },
    {
      "cell_type": "code",
      "source": [
        "example_selector = MaxMarginalRelevanceExampleSelector.from_examples(\n",
        "    examples,\n",
        "    embedding,\n",
        "    vectordb,\n",
        "    k=2,\n",
        ")"
      ],
      "metadata": {
        "id": "YXUC4sOe8XEq"
      },
      "execution_count": 19,
      "outputs": []
    },
    {
      "cell_type": "code",
      "source": [
        "user_query = 'Considering the demand for the two wheelers, who is leading the segment winner?'"
      ],
      "metadata": {
        "id": "Gp_RFORKs1Y2"
      },
      "execution_count": 21,
      "outputs": []
    },
    {
      "cell_type": "code",
      "source": [
        "retriever = vectordb.as_retriever(search_kwargs={\"k\":8}) #k: 20 for more context window to llm\n",
        "docs = retriever.get_relevant_documents(user_query)\n",
        "\n",
        "#reordering the docs\n",
        "reordering = LongContextReorder()\n",
        "reordered_docs = reordering.transform_documents(docs)\n",
        "reordered_docs"
      ],
      "metadata": {
        "colab": {
          "base_uri": "https://localhost:8080/"
        },
        "id": "TbM0V1bwtTEC",
        "outputId": "1a749e66-aa37-4ae4-ec34-dcd9b98975f6"
      },
      "execution_count": 33,
      "outputs": [
        {
          "output_type": "execute_result",
          "data": {
            "text/plain": [
              "[Document(page_content='Motorcycles  1,37,970  1,60,522  -14.0  1,26,243  9.3 17,29,976  17,31,459  -0.1 \\nScooters  1,05,785  94,747  11.6  1,04,825  0.9 12,97,275  9,21,939  40.7  \\nMopeds  38,352  37,649  1.9 35,958  6.7 4,60,251  4,84,305  -5.0 \\nThree -Wheelers  10,070  15,036  -33.0  9,124  10.4  1,69,591  1,71,875  -1.3 \\nDomestic  2,35,861  1,98,230  19.0  2,22,745  5.9 26,07,757  20,56,387  26.8  \\nExports  56,315  1,09,724  -48.7  53,405  5.4 10,49,335  12,53,191  -16.3  \\nEicher Motors          Royal Enfield  74,155  67,670  9.6 71,544  3.6 8,36,815  6,02,268  38.9  \\nVECV  9,125  8,793  3.8 7,289  25.2  76,821  57,067  34.6  \\nEscorts Kubota  10,195  10,074  1.2 7,811  30.5  1,03,180  94,228  9.5', metadata={'page': 2, 'source': 'dataset/sample_data.pdf'}),\n",
              " Document(page_content='5% YoY , largely due to  the impact of  unseasonal rains and low yield s for key \\ncrops  such as oni on. In Mar’23, overall wholesale volumes for \\nPV/CV/tractor/3Ws are estimated to grow by 1%/ 1.5%/1 %/8% YoY, while 2Ws \\nare likely to decline 4% YoY.  \\n\\uf06e 2Ws:  Retails are expected to grow 4-6% YoY in Mar ’23 since urban demand is \\nsteady and inquiries have improved in certain states during the ongoing Navratri \\nseason . However, overall sales  are still do wn by 15 -17% v /s the pre-Covid  level \\nas rural demand remain s weak.  Enquiry levels during the key festival s (Gudi \\nPadwa and Ugadi) varied greatly among  states.  We have noted 2-6% YoY growth \\nin enquiry levels in states like Gujarat, Delhi and Karnataka , while  the same \\ndeclined by 4-8% in other key states like UP, Bihar  and Maharashtra . The i nitial \\nresponse to HMCL’ s new launch Xoom (110 cc scooter) has been positi ve as it has \\naccounted for 25-30% of the overall enquiries in Mar’23 . Xoom currently has a', metadata={'page': 0, 'source': 'dataset/sample_data.pdf'}),\n",
              " Document(page_content='ongoing festival s and persistent weakness in  the rural  market . Moreover, rising \\ninterest rates have further hampered bookings for low-end models. Although \\nthe inven tory level has increased to 25 -30 days in Mar’23 v/s  20-25 days till Feb-\\nend, it has now come back to the normal level after three years. However, there \\nis still a long waiting period for SUVs, especially for high -end/AMT  variants. \\nTTMT has announced  a price hike of INR10 -15k per vehicle  for its BS6 phase -II-\\ncompliant vehicles . MM  has announced a price hike of INR15 -20k for  its petrol \\nand INR25 -30k for diesel variants,  while MSIL will announce a price hike  by early \\n Sector Update | 27 March 2023  \\n  \\nAutomobiles  \\n\"We expect (Nexa) to close \\nthis (fiscal) year at around \\n3.7 lakh units against 2.55 \\nlakh units that we did last \\nyear. We hope to sell larger \\nnumbers next year , with the \\nFronx, the Jimny (coming in) \\nand the full year effect of the \\nGrand Vitara. Next year,', metadata={'page': 0, 'source': 'dataset/sample_data.pdf'}),\n",
              " Document(page_content='Jinesh Gandhi  – Research Analyst  (Jinesh@MotilalOswal.com)  \\nResearch Analyst : Amber  Shukla  (Amber.Shukla@ Motilal Oswal.com ) | Aniket Desai (Aniket .Desai @MotilalOswal.com)  \\n \\nInvestors are advised to refer through important disclosures made at the last page of the Research Report.  \\nMotilal Oswal research is available on www.motilaloswal.com/Institutional -Equities, Bloomberg, Thomson Reuters, Factset and S&P Capital.  \\n @ \\n \\n \\nMHCV likely to outperform despite multiple challenges  \\nInitial signs of demand moderati on in PV; expect 2W volumes to grow YoY  \\n\\uf06e Our interaction with leading channel partners indicate s some moderation in \\ndemand  due to erratic rainfall during the month , especially in key Northern and \\ncentral regions and lower enquiries  during the ongoing festive season.  Despite \\nthis, retails for both MHCV and 2Ws are expected to grow while PV volume \\ngrowth is expected to  remain flattish.  We note  that most of the OEMs have', metadata={'page': 0, 'source': 'dataset/sample_data.pdf'}),\n",
              " Document(page_content=\"Export  16,427  26,496  -38.0  17,207  -4.5 2,45,641  2,38,376  3.0 \\nMahindra & Mahindra  94,804  84,406  12.3  84,592  12.1  10,99,710  8,20,299  34.1  \\n   UV (incl. pick -ups)  57,637  49,771  15.8  52,364  10.1  6,28,612  4,29,087  46.5  \\n   LCV & M&HCV  833 829 0.5 1,087  -23.3  9,410  6,435  46.2  \\n   Three -Wheelers  6,282  4,043  55.4  5,350  17.4  59,105  30,079  96.5  \\n   Tractors  30,051  29,763  1.0 25,791  16.5  4,02,582  3,54,698  13.5  \\nTata Motors  87,709  86,561  1.3 79,705  10.0  9,51,287  7,26,191  31.0  \\n   HCV's  22,589  23,238  -2.8 17,928  26.0  1,78,195  1,44,500  23.3  \\n   LCV's  21,485  20,855  3.0 18,637  15.3  2,32,595  2,09,515  11.0  \\n   CV's  44,074  44,093  0.0 36,565  20.5  4,10,790  3,54,015  16.0  \\n   Cars  14,463  14,369  0.7 14,344  0.8 1,77,165  1,44,670  22.5  \\n   UV's  29,171  28,099  3.8 28,796  1.3 3,63,332  2,27,506  59.7  \\nHero MotoCorp  4,34,165  4,50,170  -3.6 3,94,460  10.1  52,43,369  49,44,148  6.1\", metadata={'page': 2, 'source': 'dataset/sample_data.pdf'}),\n",
              " Document(page_content='this, retails for both MHCV and 2Ws are expected to grow while PV volume \\ngrowth is expected to  remain flattish.  We note  that most of the OEMs have \\nalready announced price hikes for their OBD -2 norm -compliant vehicles , with \\nCVs leading the pack  (up to 5%  hike ). We expect 2W retails to grow 4 -6% YoY in \\nMar’23, with  enquiry levels during festival s (Gudi Padwa and Ugadi ) varying \\ngreatly among states. On the other hand, PV retail  growth is  expected to remain \\nflattish (0 -2% YoY) . We note that Fronx and Jimn y have received bookings of \\nover 40k units so far. Demand momentum for MHCVs remain robust resulti ng in \\nretail growth of 10 -12% YoY while LCV volumes are expected to decline 8 -10% \\nYoY led by weak momentum in rural . For tractors, w e expect retails  to decline 3-\\n5% YoY , largely due to  the impact of  unseasonal rains and low yield s for key \\ncrops  such as oni on. In Mar’23, overall wholesale volumes for', metadata={'page': 0, 'source': 'dataset/sample_data.pdf'}),\n",
              " Document(page_content='response to HMCL’ s new launch Xoom (110 cc scooter) has been positi ve as it has \\naccounted for 25-30% of the overall enquiries in Mar’23 . Xoom currently has a \\nwaiting period of 30 days  as dispatches are yet to ramp up . Overall i nventory has \\nnow come back to the normal level of 40 -45 days , with HMCL having the highest \\nat 50-55 days , followed by TVSL, BJAUT and HMSI with 25 -35 days. Inventory for \\nRE has inched up to 20 -25 days. We have noted a waiting period of 1 -1.5 months \\nfor Hunter and 3 -4 months for Super Meteor 650. We expect dispatches for \\nHMCL/BAJUT (incl 3W)/TVS (in cl 3W) to fall by 4%/5%/5% , while RE’s dispatches  \\nmay  grow 10% YoY.      \\n\\uf06e PVs: Mar’23 r etails growth is  expected to be flattish YoY with 0 -2% YoY growth. \\nThere has been some moderation  in enquiries led  by muted demand  during \\nongoing festival s and persistent weakness in  the rural  market . Moreover, rising \\ninterest rates have further hampered bookings for low-end models. Although', metadata={'page': 0, 'source': 'dataset/sample_data.pdf'}),\n",
              " Document(page_content=\"UV's  29,171  28,099  3.8 28,796  1.3 3,63,332  2,27,506  59.7  \\nHero MotoCorp  4,34,165  4,50,170  -3.6 3,94,460  10.1  52,43,369  49,44,148  6.1 \\nBajaj Auto  2,81,922  2,97,188  -5.1 2,80,226  0.6 39,16,077  43,08,433  -9.1 \\n  Two -Wheelers  2,33,703  2,56,324  -8.8 2,35,356  -0.7 34,27,405  38,36,856  -10.7  \\n  Three -Wheelers  48,219  40,864  18.0  44,870  7.5 4,88,672  4,71,577  3.6 \\nDomestic  1,64,775  1,26,752  30.0  1,53,291  7.5 20,82,735  18,01,807  15.6  \\nExports  1,17,146  1,70,436  -31.3  1,26,935  -7.7 18,33,341  25,06,626  -26.9  \\nAshok Leyland  20,894  20,123  3.8 18,571  12.5  1,89,173  1,28,326  47.4  \\nM&HCV  14,197  13,990  1.5 12,668  12.1  1,21,533  73,885  64.5  \\nLCV  6,697  6,133  9.2 5,903  13.5  67,640  54,441  24 \\nTVS Motor  2,92,177  3,07,954  -5.1 2,76,150  5.8 36,57,093  33,09,578  10.5  \\nMotorcycles  1,37,970  1,60,522  -14.0  1,26,243  9.3 17,29,976  17,31,459  -0.1 \\nScooters  1,05,785  94,747  11.6  1,04,825  0.9 12,97,275  9,21,939  40.7\", metadata={'page': 2, 'source': 'dataset/sample_data.pdf'})]"
            ]
          },
          "metadata": {},
          "execution_count": 33
        }
      ]
    },
    {
      "cell_type": "markdown",
      "metadata": {
        "id": "9KscvzPA24oI"
      },
      "source": [
        "## LLM chain and rerank3 by cohere\n"
      ]
    },
    {
      "cell_type": "code",
      "source": [
        "from langchain.retrievers.contextual_compression import ContextualCompressionRetriever\n",
        "from langchain_cohere import CohereRerank\n",
        "from langchain_community.llms import Cohere\n",
        "\n",
        "compressor = CohereRerank(cohere_api_key = cohere_api_key, model = 'rerank-english-v3.0') #   top_n = 3 -> can limit the sources\n",
        "compression_retriever = ContextualCompressionRetriever(\n",
        "    base_compressor=compressor, base_retriever=retriever,\n",
        ")\n",
        "\n",
        "compressed_docs = compression_retriever.get_relevant_documents(user_query)\n",
        "compressed_docs\n",
        "# results = co.rerank(query=user_query, documents=docs, top_n=10, model='rerank-english-v3.0')"
      ],
      "metadata": {
        "id": "bLXvrhSuZXlJ"
      },
      "execution_count": 24,
      "outputs": []
    },
    {
      "cell_type": "markdown",
      "source": [
        "checking the difference bw compressor retrival and normal retrival"
      ],
      "metadata": {
        "id": "dLBz4j0F-DJn"
      }
    },
    {
      "cell_type": "code",
      "execution_count": 26,
      "metadata": {
        "id": "6MSnUSES24oI"
      },
      "outputs": [],
      "source": [
        "qa_chain_compressed = RetrievalQA.from_chain_type(llm=ChatOpenAI(openai_api_key=openai_api_key,model=\"gpt-3.5-turbo\", temperature=1.2 ), chain_type=\"stuff\", retriever=compression_retriever, return_source_documents=True)"
      ]
    },
    {
      "cell_type": "code",
      "source": [
        "qa_chain = RetrievalQA.from_chain_type(llm=ChatOpenAI(openai_api_key=openai_api_key,model=\"gpt-3.5-turbo\", temperature=1.2 ), chain_type=\"stuff\", retriever=retriever, return_source_documents=True)"
      ],
      "metadata": {
        "id": "UIJwe8FXgMoV"
      },
      "execution_count": 27,
      "outputs": []
    },
    {
      "cell_type": "code",
      "execution_count": 28,
      "metadata": {
        "id": "lpGoJ7qn24oI"
      },
      "outputs": [],
      "source": [
        "def process_llm_response(llm_response):\n",
        "    print(\"Decision:\")\n",
        "    print(llm_response['result'])\n",
        "\n",
        "    print(\"\\n Source Documents:\")\n",
        "    for source in llm_response[\"source_documents\"]:\n",
        "        print(\"- \" + source.metadata['source'])\n",
        "\n",
        "    print(\"\\nRelevant Data:\")\n",
        "    for source in llm_response[\"source_documents\"]:\n",
        "        print(source.page_content)"
      ]
    },
    {
      "cell_type": "code",
      "source": [
        "mmr_prompt = FewShotPromptTemplate(\n",
        "    example_selector=example_selector,\n",
        "    example_prompt=example_prompt,\n",
        "    prefix=\"Decision:\",\n",
        "    suffix=\"Input: {user_query}\\nOutput:\",\n",
        "    input_variables=[\"user_query\"],\n",
        ")\n",
        "mmr_prompt.format(user_query=user_query)\n"
      ],
      "metadata": {
        "colab": {
          "base_uri": "https://localhost:8080/",
          "height": 462
        },
        "id": "4mDr2bz8-OIk",
        "outputId": "41b0af42-40ff-4738-a517-688a1925ef81"
      },
      "execution_count": 31,
      "outputs": [
        {
          "output_type": "stream",
          "name": "stderr",
          "text": [
            "WARNING:chromadb.segment.impl.vector.local_hnsw:Number of requested results 20 is greater than number of elements in index 2, updating n_results = 2\n"
          ]
        },
        {
          "output_type": "execute_result",
          "data": {
            "text/plain": [
              "\"Decision:\\n\\nInput: Considering 2 wheeler demand, who seems to be the segment winner?\\nOutput: \\nBased on the data provided for 2-wheeler segments from various manufacturers for the specified period:\\n\\n1. **Hero MotoCorp** shows positive year-on-year growth with units sold increasing from 49,44,148 to 52,43,369 (a **6.1%** increase). This indicates resilient demand, positioning Hero MotoCorp strongly in terms of sales volume in the 2-wheeler segment.\\n\\n2. **TVS Motor** similarly demonstrated substantial growth. They showed an especially strong performance in scooters, with numbers increasing from 9,21,939 to 12,97,275, exhibiting an impressive **40.7%** year-on-year growth. Motorcycle sales remained almost flat while mopeds decreased by **-5.0%**. However, due to the strong scooter numbers, TVS Motor allows for considerable brand perception and growth.\\n\\n3. **Bajaj Auto**, on the other hand, experienced a decrease in 2-wheeler sales, dropping from 43,08,433 to 39,16,077, marking a drop of **-9.1%** year-on-year which indicates a relatively weaker market position in comparison.\\n\\nIn the context mentioned and focusing purely on recent market performance and growth in numbers, **TVS Motor** especially shines in the scooter segment, which highlights them as a potential segment winner, closely followed by Hero MotoCorp due to its large volume and overall positive growth in this document period. Bajaj Auto appears to struggle compared to the other two in this specific period evaluated.\\n\\n\\nInput: Bassed on the report, who is leading the two wheeler space right now?\\nOutput:  \\nBased on the data provided, the two-wheeler segment winner can be determined by analyzing the sales and growth figures of the key players within the segment. In this case, we can see that Hero MotoCorp and TVS Motor are the two significant players to analyze.\\n\\nConsidering the data:\\n1. Hero MotoCorp's sales figures show a growth rate in combined two-wheeler sales by 6.1% YoY, totaling 52,43,369. Despite a slight decline in the specific year, it overall maintains solid numbers.\\n\\n2. TVS Motor's sales figures reflect a slightly lower growth rate compared to Hero MotoCorp, at 10.5% YoY with the total sales of 36,57,093. However, TVS Motor does show positive growth in both motorcycle and scooter segments.\\n\\nOn comparative analysis:\\n- Hero MotoCorp maintains higher overall sales in the two-wheeler segment.\\n- However, in terms of growth rate, TVS Motor outperforms Hero MotoCorp with a 10.5% growth compared to Hero MotoCorp's 6.1% increase YoY.\\n\\n\\nInput: Considering the demand for the two wheelers, who is leading the segment winner?\\nOutput:\""
            ],
            "application/vnd.google.colaboratory.intrinsic+json": {
              "type": "string"
            }
          },
          "metadata": {},
          "execution_count": 31
        }
      ]
    },
    {
      "cell_type": "markdown",
      "source": [
        "compressed qa chain for efficent retrival"
      ],
      "metadata": {
        "id": "moLHpJgTgWvH"
      }
    },
    {
      "cell_type": "code",
      "execution_count": null,
      "metadata": {
        "colab": {
          "base_uri": "https://localhost:8080/"
        },
        "id": "QoW-KIN724oI",
        "outputId": "7d862447-6f8c-4773-cbb8-7c12b93908d7"
      },
      "outputs": [
        {
          "output_type": "stream",
          "name": "stderr",
          "text": [
            "/usr/local/lib/python3.10/dist-packages/langchain_core/_api/deprecation.py:117: LangChainDeprecationWarning: The function `__call__` was deprecated in LangChain 0.1.0 and will be removed in 0.2.0. Use invoke instead.\n",
            "  warn_deprecated(\n"
          ]
        },
        {
          "output_type": "stream",
          "name": "stdout",
          "text": [
            "Decision:\n",
            "Based on the data provided, the two-wheeler segment winner can be determined by analyzing the sales and growth figures of the key players within the segment. In this case, we can see that Hero MotoCorp and TVS Motor are the two significant players to analyze.\n",
            "\n",
            "Considering the data:\n",
            "1. Hero MotoCorp's sales figures show a growth rate in combined two-wheeler sales by 6.1% YoY, totaling 52,43,369. Despite a slight decline in the specific year, it overall maintains solid numbers.\n",
            "\n",
            "2. TVS Motor's sales figures reflect a slightly lower growth rate compared to Hero MotoCorp, at 10.5% YoY with the total sales of 36,57,093. However, TVS Motor does show positive growth in both motorcycle and scooter segments.\n",
            "\n",
            "On comparative analysis:\n",
            "- Hero MotoCorp maintains higher overall sales in the two-wheeler segment.\n",
            "- However, in terms of growth rate, TVS Motor outperforms Hero MotoCorp with a 10.5% growth compared to Hero MotoCorp's 6.1% increase YoY.\n",
            "\n",
            "From an expert finance consultant perspective, while Hero MotoCorp leads in total sales volume, TVS Motor demonstrates a stronger growth trajectory, indicating potential market share gains and positive consumer reception.\n",
            "\n",
            "Final assessment: TVS Motor showcases momentum and a potential for further outperformance in the two-wheeler segment.\n",
            "\n",
            " Source Documents:\n",
            "- dataset/sample_data.pdf\n",
            "- dataset/sample_data.pdf\n",
            "- dataset/sample_data.pdf\n",
            "\n",
            "Relevant Data:\n",
            "UV's  29,171  28,099  3.8 28,796  1.3 3,63,332  2,27,506  59.7  \n",
            "Hero MotoCorp  4,34,165  4,50,170  -3.6 3,94,460  10.1  52,43,369  49,44,148  6.1 \n",
            "Bajaj Auto  2,81,922  2,97,188  -5.1 2,80,226  0.6 39,16,077  43,08,433  -9.1 \n",
            "  Two -Wheelers  2,33,703  2,56,324  -8.8 2,35,356  -0.7 34,27,405  38,36,856  -10.7  \n",
            "  Three -Wheelers  48,219  40,864  18.0  44,870  7.5 4,88,672  4,71,577  3.6 \n",
            "Domestic  1,64,775  1,26,752  30.0  1,53,291  7.5 20,82,735  18,01,807  15.6  \n",
            "Exports  1,17,146  1,70,436  -31.3  1,26,935  -7.7 18,33,341  25,06,626  -26.9  \n",
            "Ashok Leyland  20,894  20,123  3.8 18,571  12.5  1,89,173  1,28,326  47.4  \n",
            "M&HCV  14,197  13,990  1.5 12,668  12.1  1,21,533  73,885  64.5  \n",
            "LCV  6,697  6,133  9.2 5,903  13.5  67,640  54,441  24 \n",
            "TVS Motor  2,92,177  3,07,954  -5.1 2,76,150  5.8 36,57,093  33,09,578  10.5  \n",
            "Motorcycles  1,37,970  1,60,522  -14.0  1,26,243  9.3 17,29,976  17,31,459  -0.1 \n",
            "Scooters  1,05,785  94,747  11.6  1,04,825  0.9 12,97,275  9,21,939  40.7\n",
            "Jinesh Gandhi  – Research Analyst  (Jinesh@MotilalOswal.com)  \n",
            "Research Analyst : Amber  Shukla  (Amber.Shukla@ Motilal Oswal.com ) | Aniket Desai (Aniket .Desai @MotilalOswal.com)  \n",
            " \n",
            "Investors are advised to refer through important disclosures made at the last page of the Research Report.  \n",
            "Motilal Oswal research is available on www.motilaloswal.com/Institutional -Equities, Bloomberg, Thomson Reuters, Factset and S&P Capital.  \n",
            " @ \n",
            " \n",
            " \n",
            "MHCV likely to outperform despite multiple challenges  \n",
            "Initial signs of demand moderati on in PV; expect 2W volumes to grow YoY  \n",
            " Our interaction with leading channel partners indicate s some moderation in \n",
            "demand  due to erratic rainfall during the month , especially in key Northern and \n",
            "central regions and lower enquiries  during the ongoing festive season.  Despite \n",
            "this, retails for both MHCV and 2Ws are expected to grow while PV volume \n",
            "growth is expected to  remain flattish.  We note  that most of the OEMs have\n",
            "Motorcycles  1,37,970  1,60,522  -14.0  1,26,243  9.3 17,29,976  17,31,459  -0.1 \n",
            "Scooters  1,05,785  94,747  11.6  1,04,825  0.9 12,97,275  9,21,939  40.7  \n",
            "Mopeds  38,352  37,649  1.9 35,958  6.7 4,60,251  4,84,305  -5.0 \n",
            "Three -Wheelers  10,070  15,036  -33.0  9,124  10.4  1,69,591  1,71,875  -1.3 \n",
            "Domestic  2,35,861  1,98,230  19.0  2,22,745  5.9 26,07,757  20,56,387  26.8  \n",
            "Exports  56,315  1,09,724  -48.7  53,405  5.4 10,49,335  12,53,191  -16.3  \n",
            "Eicher Motors          Royal Enfield  74,155  67,670  9.6 71,544  3.6 8,36,815  6,02,268  38.9  \n",
            "VECV  9,125  8,793  3.8 7,289  25.2  76,821  57,067  34.6  \n",
            "Escorts Kubota  10,195  10,074  1.2 7,811  30.5  1,03,180  94,228  9.5\n"
          ]
        }
      ],
      "source": [
        "behaviour = '''Think like an expert finance consultant from a top tier firm. Do all the research and analysis for this document.'''\n",
        "prompt_template = 'Keep the answer crisp. Give me as much numbers as you can. Every Statement of yours should be backed with data'\n",
        "stop_prompt = f'Dont hallucinate, if u dont know the answer, tell you dont know'\n",
        "query = f\"Here is the user query : {user_query}. Remember this: {behaviour}. Give me the answers like this: {prompt_template}. Keep this in mind - {stop_prompt}\"\n",
        "llm_response = qa_chain_compressed(query)\n",
        "process_llm_response(llm_response)"
      ]
    },
    {
      "cell_type": "markdown",
      "source": [
        "best version -> heavy credits burning -> deep pockets required"
      ],
      "metadata": {
        "id": "cQwFQmFDgpqt"
      }
    },
    {
      "cell_type": "code",
      "source": [
        "llm_response = qa_chain(query)\n",
        "process_llm_response(llm_response)"
      ],
      "metadata": {
        "colab": {
          "base_uri": "https://localhost:8080/"
        },
        "id": "Tg9soINRghE9",
        "outputId": "cf4bf981-876b-4cd6-ea8b-7174854b7d09"
      },
      "execution_count": null,
      "outputs": [
        {
          "output_type": "stream",
          "name": "stdout",
          "text": [
            "Decision:\n",
            "Based on the data provided, the leader in the two-wheeler segment winner can be determined by considering various indicators such as sales volume, growth rates, market share, and customer interest.\n",
            "\n",
            "1. **Hero MotoCorp**: Known for its wide range of offerings and a substantial market presence, Hero MotoCorp recorded sales of 4,34,165 units in the last period, showcasing consistent growth. Their yearly growth rate of 6.1% is notable compared to other players in the segment.\n",
            "\n",
            "2. **TVS Motor**: While reporting a marginally lower sales volume compared to Hero MotoCorp at 2,92,177 units, TVS Motor achieved a growth rate of 10.5% in the same period, indicating a stronger growth trajectory.\n",
            "\n",
            "3. **Bajaj Auto**: Despite experiencing a decline in sales volume to 2,81,922 units, Bajaj Auto maintained its market position and showcased a mix of challenges and opportunities with a yearly growth rate of -9.1%.\n",
            "\n",
            "Based on the provided data, Hero MotoCorp appears to have a stronger foothold in the two-wheeler segment due to both its sales volume and growth rates compared to other leading players like TVS Motor and Bajaj Auto.\n",
            "\n",
            " Source Documents:\n",
            "- dataset/sample_data.pdf\n",
            "- dataset/sample_data.pdf\n",
            "- dataset/sample_data.pdf\n",
            "- dataset/sample_data.pdf\n",
            "- dataset/sample_data.pdf\n",
            "- dataset/sample_data.pdf\n",
            "- dataset/sample_data.pdf\n",
            "- dataset/sample_data.pdf\n",
            "\n",
            "Relevant Data:\n",
            "UV's  29,171  28,099  3.8 28,796  1.3 3,63,332  2,27,506  59.7  \n",
            "Hero MotoCorp  4,34,165  4,50,170  -3.6 3,94,460  10.1  52,43,369  49,44,148  6.1 \n",
            "Bajaj Auto  2,81,922  2,97,188  -5.1 2,80,226  0.6 39,16,077  43,08,433  -9.1 \n",
            "  Two -Wheelers  2,33,703  2,56,324  -8.8 2,35,356  -0.7 34,27,405  38,36,856  -10.7  \n",
            "  Three -Wheelers  48,219  40,864  18.0  44,870  7.5 4,88,672  4,71,577  3.6 \n",
            "Domestic  1,64,775  1,26,752  30.0  1,53,291  7.5 20,82,735  18,01,807  15.6  \n",
            "Exports  1,17,146  1,70,436  -31.3  1,26,935  -7.7 18,33,341  25,06,626  -26.9  \n",
            "Ashok Leyland  20,894  20,123  3.8 18,571  12.5  1,89,173  1,28,326  47.4  \n",
            "M&HCV  14,197  13,990  1.5 12,668  12.1  1,21,533  73,885  64.5  \n",
            "LCV  6,697  6,133  9.2 5,903  13.5  67,640  54,441  24 \n",
            "TVS Motor  2,92,177  3,07,954  -5.1 2,76,150  5.8 36,57,093  33,09,578  10.5  \n",
            "Motorcycles  1,37,970  1,60,522  -14.0  1,26,243  9.3 17,29,976  17,31,459  -0.1 \n",
            "Scooters  1,05,785  94,747  11.6  1,04,825  0.9 12,97,275  9,21,939  40.7\n",
            "response to HMCL’ s new launch Xoom (110 cc scooter) has been positi ve as it has \n",
            "accounted for 25-30% of the overall enquiries in Mar’23 . Xoom currently has a \n",
            "waiting period of 30 days  as dispatches are yet to ramp up . Overall i nventory has \n",
            "now come back to the normal level of 40 -45 days , with HMCL having the highest \n",
            "at 50-55 days , followed by TVSL, BJAUT and HMSI with 25 -35 days. Inventory for \n",
            "RE has inched up to 20 -25 days. We have noted a waiting period of 1 -1.5 months \n",
            "for Hunter and 3 -4 months for Super Meteor 650. We expect dispatches for \n",
            "HMCL/BAJUT (incl 3W)/TVS (in cl 3W) to fall by 4%/5%/5% , while RE’s dispatches  \n",
            "may  grow 10% YoY.      \n",
            " PVs: Mar’23 r etails growth is  expected to be flattish YoY with 0 -2% YoY growth. \n",
            "There has been some moderation  in enquiries led  by muted demand  during \n",
            "ongoing festival s and persistent weakness in  the rural  market . Moreover, rising \n",
            "interest rates have further hampered bookings for low-end models. Although\n",
            "Jinesh Gandhi  – Research Analyst  (Jinesh@MotilalOswal.com)  \n",
            "Research Analyst : Amber  Shukla  (Amber.Shukla@ Motilal Oswal.com ) | Aniket Desai (Aniket .Desai @MotilalOswal.com)  \n",
            " \n",
            "Investors are advised to refer through important disclosures made at the last page of the Research Report.  \n",
            "Motilal Oswal research is available on www.motilaloswal.com/Institutional -Equities, Bloomberg, Thomson Reuters, Factset and S&P Capital.  \n",
            " @ \n",
            " \n",
            " \n",
            "MHCV likely to outperform despite multiple challenges  \n",
            "Initial signs of demand moderati on in PV; expect 2W volumes to grow YoY  \n",
            " Our interaction with leading channel partners indicate s some moderation in \n",
            "demand  due to erratic rainfall during the month , especially in key Northern and \n",
            "central regions and lower enquiries  during the ongoing festive season.  Despite \n",
            "this, retails for both MHCV and 2Ws are expected to grow while PV volume \n",
            "growth is expected to  remain flattish.  We note  that most of the OEMs have\n",
            "Motorcycles  1,37,970  1,60,522  -14.0  1,26,243  9.3 17,29,976  17,31,459  -0.1 \n",
            "Scooters  1,05,785  94,747  11.6  1,04,825  0.9 12,97,275  9,21,939  40.7  \n",
            "Mopeds  38,352  37,649  1.9 35,958  6.7 4,60,251  4,84,305  -5.0 \n",
            "Three -Wheelers  10,070  15,036  -33.0  9,124  10.4  1,69,591  1,71,875  -1.3 \n",
            "Domestic  2,35,861  1,98,230  19.0  2,22,745  5.9 26,07,757  20,56,387  26.8  \n",
            "Exports  56,315  1,09,724  -48.7  53,405  5.4 10,49,335  12,53,191  -16.3  \n",
            "Eicher Motors          Royal Enfield  74,155  67,670  9.6 71,544  3.6 8,36,815  6,02,268  38.9  \n",
            "VECV  9,125  8,793  3.8 7,289  25.2  76,821  57,067  34.6  \n",
            "Escorts Kubota  10,195  10,074  1.2 7,811  30.5  1,03,180  94,228  9.5\n",
            "5% YoY , largely due to  the impact of  unseasonal rains and low yield s for key \n",
            "crops  such as oni on. In Mar’23, overall wholesale volumes for \n",
            "PV/CV/tractor/3Ws are estimated to grow by 1%/ 1.5%/1 %/8% YoY, while 2Ws \n",
            "are likely to decline 4% YoY.  \n",
            " 2Ws:  Retails are expected to grow 4-6% YoY in Mar ’23 since urban demand is \n",
            "steady and inquiries have improved in certain states during the ongoing Navratri \n",
            "season . However, overall sales  are still do wn by 15 -17% v /s the pre-Covid  level \n",
            "as rural demand remain s weak.  Enquiry levels during the key festival s (Gudi \n",
            "Padwa and Ugadi) varied greatly among  states.  We have noted 2-6% YoY growth \n",
            "in enquiry levels in states like Gujarat, Delhi and Karnataka , while  the same \n",
            "declined by 4-8% in other key states like UP, Bihar  and Maharashtra . The i nitial \n",
            "response to HMCL’ s new launch Xoom (110 cc scooter) has been positi ve as it has \n",
            "accounted for 25-30% of the overall enquiries in Mar’23 . Xoom currently has a\n",
            "this, retails for both MHCV and 2Ws are expected to grow while PV volume \n",
            "growth is expected to  remain flattish.  We note  that most of the OEMs have \n",
            "already announced price hikes for their OBD -2 norm -compliant vehicles , with \n",
            "CVs leading the pack  (up to 5%  hike ). We expect 2W retails to grow 4 -6% YoY in \n",
            "Mar’23, with  enquiry levels during festival s (Gudi Padwa and Ugadi ) varying \n",
            "greatly among states. On the other hand, PV retail  growth is  expected to remain \n",
            "flattish (0 -2% YoY) . We note that Fronx and Jimn y have received bookings of \n",
            "over 40k units so far. Demand momentum for MHCVs remain robust resulti ng in \n",
            "retail growth of 10 -12% YoY while LCV volumes are expected to decline 8 -10% \n",
            "YoY led by weak momentum in rural . For tractors, w e expect retails  to decline 3-\n",
            "5% YoY , largely due to  the impact of  unseasonal rains and low yield s for key \n",
            "crops  such as oni on. In Mar’23, overall wholesale volumes for\n",
            "ongoing festival s and persistent weakness in  the rural  market . Moreover, rising \n",
            "interest rates have further hampered bookings for low-end models. Although \n",
            "the inven tory level has increased to 25 -30 days in Mar’23 v/s  20-25 days till Feb-\n",
            "end, it has now come back to the normal level after three years. However, there \n",
            "is still a long waiting period for SUVs, especially for high -end/AMT  variants. \n",
            "TTMT has announced  a price hike of INR10 -15k per vehicle  for its BS6 phase -II-\n",
            "compliant vehicles . MM  has announced a price hike of INR15 -20k for  its petrol \n",
            "and INR25 -30k for diesel variants,  while MSIL will announce a price hike  by early \n",
            " Sector Update | 27 March 2023  \n",
            "  \n",
            "Automobiles  \n",
            "\"We expect (Nexa) to close \n",
            "this (fiscal) year at around \n",
            "3.7 lakh units against 2.55 \n",
            "lakh units that we did last \n",
            "year. We hope to sell larger \n",
            "numbers next year , with the \n",
            "Fronx, the Jimny (coming in) \n",
            "and the full year effect of the \n",
            "Grand Vitara. Next year,\n",
            "Automobiles  \n",
            "27 March 2023    4 \n",
            "Comparative valuations               \n",
            "  Rating  Mcap  CMP  TP P/E (x)  EV/ EBITDA (x)  PB (x)  FY25  \n",
            "Yield (%)  EPS CAGR  \n",
            "(%) \n",
            "FY23E -25E Auto OEM's    (INR b)  (INR)  (INR)  FY23E  FY24E  FY25E  FY23E  FY24E  FY25E  FY23E  FY24E  FY25E  Div FCF \n",
            "Bajaj Auto    Neutral  1,077  3,807  4,150  17.9  15.8  14.3  13.0  11.1  10.1  4.4 4.3 4.1 5.5 5.3 11.8  \n",
            "Hero MotoCorp  Buy 462 2,308  2,982  17.2  13.8  12.4  9.1 7.2 6.3 2.8 2.7 2.5 6.1 8.6 17.8  \n",
            "TVS Motor  Neutral  497 1,047  969 34.0  25.6  22.0  18.6  14.2  12.1  8.2 6.5 5.2 0.6 5.0 24.2  \n",
            "Eicher Motors  Buy 789 2,886  3,613  28.2  21.5  17.0  22.3  18.4  15.0  5.4 4.5 3.6 0.9 5.8 28.9  \n",
            "Maruti Suzuki  Buy 2,500  8,275  10,545  31.7  22.7  19.1  19.5  14.2  12.0  4.2 3.7 3.3 1.8 3.9 28.7  \n",
            "M&M  Buy 1,362  1,138  1,524  18.4  14.6  12.8  13.1  10.0  8.4 1.5 1.3 1.1 1.5 7.2 20.2  \n",
            "Tata Motors  Buy 1,577  412 531 -70.3  15.6  12.7  7.3 3.9 3.2 3.6 2.9 2.4 0.0 9.0 #NUM!\n"
          ]
        }
      ]
    },
    {
      "cell_type": "code",
      "source": [
        "qa_chain"
      ],
      "metadata": {
        "id": "bUVYCjQ-sA_R"
      },
      "execution_count": null,
      "outputs": []
    }
  ],
  "metadata": {
    "kernelspec": {
      "display_name": "Python 3",
      "name": "python3"
    },
    "language_info": {
      "codemirror_mode": {
        "name": "ipython",
        "version": 3
      },
      "file_extension": ".py",
      "mimetype": "text/x-python",
      "name": "python",
      "nbconvert_exporter": "python",
      "pygments_lexer": "ipython3",
      "version": "3.10.12"
    },
    "colab": {
      "provenance": [],
      "gpuType": "T4",
      "include_colab_link": true
    }
  },
  "nbformat": 4,
  "nbformat_minor": 0
}