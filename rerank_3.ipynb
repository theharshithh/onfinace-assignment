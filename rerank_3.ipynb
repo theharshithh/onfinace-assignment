{
  "cells": [
    {
      "cell_type": "markdown",
      "metadata": {
        "id": "view-in-github",
        "colab_type": "text"
      },
      "source": [
        "<a href=\"https://colab.research.google.com/github/theharshithh/onfinace-assignment/blob/main/rerank_3.ipynb\" target=\"_parent\"><img src=\"https://colab.research.google.com/assets/colab-badge.svg\" alt=\"Open In Colab\"/></a>"
      ]
    },
    {
      "cell_type": "code",
      "execution_count": 1,
      "metadata": {
        "id": "cA__z7w124oE"
      },
      "outputs": [],
      "source": [
        "import os"
      ]
    },
    {
      "cell_type": "code",
      "execution_count": 2,
      "metadata": {
        "id": "E16GzrTO24oF"
      },
      "outputs": [],
      "source": [
        "!pip -q install langchain openai tiktoken chromadb langchain_openai"
      ]
    },
    {
      "cell_type": "code",
      "source": [
        "!pip install langchain_cohere cohere"
      ],
      "metadata": {
        "id": "SRxYbAOrK4em"
      },
      "execution_count": null,
      "outputs": []
    },
    {
      "cell_type": "code",
      "execution_count": 12,
      "metadata": {
        "id": "aC_PvcOz24oG"
      },
      "outputs": [],
      "source": [
        "from langchain.vectorstores import Chroma\n",
        "from langchain.embeddings import OpenAIEmbeddings\n",
        "from langchain.text_splitter import RecursiveCharacterTextSplitter\n",
        "from langchain_openai import ChatOpenAI\n",
        "from langchain.chains import RetrievalQA\n",
        "from langchain.document_loaders import TextLoader\n",
        "from langchain.document_loaders import PyPDFDirectoryLoader\n",
        "# from langchain_cohere import CohereEmbeddings\n",
        "import cohere\n",
        "from google.colab import userdata\n",
        "cohere_api_key = userdata.get('COHERE_API_KEY')\n",
        "\n",
        "co = cohere.Client(cohere_api_key)\n"
      ]
    },
    {
      "cell_type": "code",
      "source": [
        "def read_doc(dir):\n",
        "    file_loader = PyPDFDirectoryLoader(dir)\n",
        "    docs = file_loader.load()\n",
        "    return docs"
      ],
      "metadata": {
        "id": "Z1ax0E2Y05IH"
      },
      "execution_count": 15,
      "outputs": []
    },
    {
      "cell_type": "markdown",
      "metadata": {
        "id": "fHIxTEVm24oG"
      },
      "source": [
        "loading data to /dataset dir"
      ]
    },
    {
      "cell_type": "code",
      "source": [
        "!pip install pypdf"
      ],
      "metadata": {
        "id": "SaT9Zf4W4hy4"
      },
      "execution_count": null,
      "outputs": []
    },
    {
      "cell_type": "code",
      "execution_count": null,
      "metadata": {
        "id": "S5fL2M3j24oG"
      },
      "outputs": [],
      "source": [
        "primary_data = read_doc('dataset/')\n",
        "primary_data"
      ]
    },
    {
      "cell_type": "markdown",
      "metadata": {
        "id": "jPppZ8Nc24oH"
      },
      "source": [
        "creating chunks for the `primary_data`"
      ]
    },
    {
      "cell_type": "code",
      "execution_count": null,
      "metadata": {
        "id": "oSdzvCZB24oH"
      },
      "outputs": [],
      "source": [
        "text_splitter = RecursiveCharacterTextSplitter(chunk_size=1000, chunk_overlap=200)\n",
        "spilit_texts = text_splitter.split_documents(primary_data)\n",
        "spilit_texts"
      ]
    },
    {
      "cell_type": "markdown",
      "metadata": {
        "id": "ii2pgiH024oH"
      },
      "source": [
        "## create the embeddings using hf ede by baai"
      ]
    },
    {
      "cell_type": "code",
      "execution_count": 20,
      "metadata": {
        "id": "D5EsshWq24oH"
      },
      "outputs": [],
      "source": [
        "def remove_discloses()"
      ]
    },
    {
      "cell_type": "markdown",
      "metadata": {
        "id": "_ni2y9GD24oH"
      },
      "source": [
        "change of embeddings from `OpenAIEmbeddings()` to bge-embeddings"
      ]
    },
    {
      "cell_type": "code",
      "execution_count": 21,
      "metadata": {
        "id": "h-1iqLhz24oH"
      },
      "outputs": [],
      "source": [
        "persist_directory = 'db-new'\n",
        "from google.colab import userdata\n",
        "openai_api_key = userdata.get('OPENAI_API_KEY')\n",
        "\n",
        "#openai embeddings -> converts texts to vecs\n",
        "embedding = OpenAIEmbeddings(openai_api_key = openai_api_key, model=\"text-embedding-3-small\")\n",
        "\n",
        "#load the spilt chunk vectors into the vectordb\n",
        "vectordb = Chroma.from_documents(documents=spilit_texts, embedding=embedding, persist_directory=persist_directory)\n",
        "vectordb.persist()\n",
        "vectordb = None\n",
        "vectordb = Chroma(persist_directory=persist_directory, embedding_function=embedding)"
      ]
    },
    {
      "cell_type": "code",
      "execution_count": 22,
      "metadata": {
        "id": "lMP5adFc24oI"
      },
      "outputs": [],
      "source": [
        "vectordb = Chroma(persist_directory=persist_directory, embedding_function=embedding)"
      ]
    },
    {
      "cell_type": "code",
      "execution_count": 23,
      "metadata": {
        "id": "3trCy_oI24oI"
      },
      "outputs": [],
      "source": [
        "user_query = 'Considering 2 wheeler demand, who seems to be the segment winner?'"
      ]
    },
    {
      "cell_type": "code",
      "execution_count": 34,
      "metadata": {
        "colab": {
          "base_uri": "https://localhost:8080/"
        },
        "id": "vvH_lysS24oI",
        "outputId": "574b31b1-b137-4d9a-85f8-1b6b79f0a8fd"
      },
      "outputs": [
        {
          "output_type": "execute_result",
          "data": {
            "text/plain": [
              "[Document(page_content='5% YoY , largely due to  the impact of  unseasonal rains and low yield s for key \\ncrops  such as oni on. In Mar’23, overall wholesale volumes for \\nPV/CV/tractor/3Ws are estimated to grow by 1%/ 1.5%/1 %/8% YoY, while 2Ws \\nare likely to decline 4% YoY.  \\n\\uf06e 2Ws:  Retails are expected to grow 4-6% YoY in Mar ’23 since urban demand is \\nsteady and inquiries have improved in certain states during the ongoing Navratri \\nseason . However, overall sales  are still do wn by 15 -17% v /s the pre-Covid  level \\nas rural demand remain s weak.  Enquiry levels during the key festival s (Gudi \\nPadwa and Ugadi) varied greatly among  states.  We have noted 2-6% YoY growth \\nin enquiry levels in states like Gujarat, Delhi and Karnataka , while  the same \\ndeclined by 4-8% in other key states like UP, Bihar  and Maharashtra . The i nitial \\nresponse to HMCL’ s new launch Xoom (110 cc scooter) has been positi ve as it has \\naccounted for 25-30% of the overall enquiries in Mar’23 . Xoom currently has a', metadata={'page': 0, 'source': 'dataset/sample_data.pdf'}),\n",
              " Document(page_content='Motorcycles  1,37,970  1,60,522  -14.0  1,26,243  9.3 17,29,976  17,31,459  -0.1 \\nScooters  1,05,785  94,747  11.6  1,04,825  0.9 12,97,275  9,21,939  40.7  \\nMopeds  38,352  37,649  1.9 35,958  6.7 4,60,251  4,84,305  -5.0 \\nThree -Wheelers  10,070  15,036  -33.0  9,124  10.4  1,69,591  1,71,875  -1.3 \\nDomestic  2,35,861  1,98,230  19.0  2,22,745  5.9 26,07,757  20,56,387  26.8  \\nExports  56,315  1,09,724  -48.7  53,405  5.4 10,49,335  12,53,191  -16.3  \\nEicher Motors          Royal Enfield  74,155  67,670  9.6 71,544  3.6 8,36,815  6,02,268  38.9  \\nVECV  9,125  8,793  3.8 7,289  25.2  76,821  57,067  34.6  \\nEscorts Kubota  10,195  10,074  1.2 7,811  30.5  1,03,180  94,228  9.5', metadata={'page': 2, 'source': 'dataset/sample_data.pdf'}),\n",
              " Document(page_content=\"UV's  29,171  28,099  3.8 28,796  1.3 3,63,332  2,27,506  59.7  \\nHero MotoCorp  4,34,165  4,50,170  -3.6 3,94,460  10.1  52,43,369  49,44,148  6.1 \\nBajaj Auto  2,81,922  2,97,188  -5.1 2,80,226  0.6 39,16,077  43,08,433  -9.1 \\n  Two -Wheelers  2,33,703  2,56,324  -8.8 2,35,356  -0.7 34,27,405  38,36,856  -10.7  \\n  Three -Wheelers  48,219  40,864  18.0  44,870  7.5 4,88,672  4,71,577  3.6 \\nDomestic  1,64,775  1,26,752  30.0  1,53,291  7.5 20,82,735  18,01,807  15.6  \\nExports  1,17,146  1,70,436  -31.3  1,26,935  -7.7 18,33,341  25,06,626  -26.9  \\nAshok Leyland  20,894  20,123  3.8 18,571  12.5  1,89,173  1,28,326  47.4  \\nM&HCV  14,197  13,990  1.5 12,668  12.1  1,21,533  73,885  64.5  \\nLCV  6,697  6,133  9.2 5,903  13.5  67,640  54,441  24 \\nTVS Motor  2,92,177  3,07,954  -5.1 2,76,150  5.8 36,57,093  33,09,578  10.5  \\nMotorcycles  1,37,970  1,60,522  -14.0  1,26,243  9.3 17,29,976  17,31,459  -0.1 \\nScooters  1,05,785  94,747  11.6  1,04,825  0.9 12,97,275  9,21,939  40.7\", metadata={'page': 2, 'source': 'dataset/sample_data.pdf'}),\n",
              " Document(page_content='response to HMCL’ s new launch Xoom (110 cc scooter) has been positi ve as it has \\naccounted for 25-30% of the overall enquiries in Mar’23 . Xoom currently has a \\nwaiting period of 30 days  as dispatches are yet to ramp up . Overall i nventory has \\nnow come back to the normal level of 40 -45 days , with HMCL having the highest \\nat 50-55 days , followed by TVSL, BJAUT and HMSI with 25 -35 days. Inventory for \\nRE has inched up to 20 -25 days. We have noted a waiting period of 1 -1.5 months \\nfor Hunter and 3 -4 months for Super Meteor 650. We expect dispatches for \\nHMCL/BAJUT (incl 3W)/TVS (in cl 3W) to fall by 4%/5%/5% , while RE’s dispatches  \\nmay  grow 10% YoY.      \\n\\uf06e PVs: Mar’23 r etails growth is  expected to be flattish YoY with 0 -2% YoY growth. \\nThere has been some moderation  in enquiries led  by muted demand  during \\nongoing festival s and persistent weakness in  the rural  market . Moreover, rising \\ninterest rates have further hampered bookings for low-end models. Although', metadata={'page': 0, 'source': 'dataset/sample_data.pdf'}),\n",
              " Document(page_content='ongoing festival s and persistent weakness in  the rural  market . Moreover, rising \\ninterest rates have further hampered bookings for low-end models. Although \\nthe inven tory level has increased to 25 -30 days in Mar’23 v/s  20-25 days till Feb-\\nend, it has now come back to the normal level after three years. However, there \\nis still a long waiting period for SUVs, especially for high -end/AMT  variants. \\nTTMT has announced  a price hike of INR10 -15k per vehicle  for its BS6 phase -II-\\ncompliant vehicles . MM  has announced a price hike of INR15 -20k for  its petrol \\nand INR25 -30k for diesel variants,  while MSIL will announce a price hike  by early \\n Sector Update | 27 March 2023  \\n  \\nAutomobiles  \\n\"We expect (Nexa) to close \\nthis (fiscal) year at around \\n3.7 lakh units against 2.55 \\nlakh units that we did last \\nyear. We hope to sell larger \\nnumbers next year , with the \\nFronx, the Jimny (coming in) \\nand the full year effect of the \\nGrand Vitara. Next year,', metadata={'page': 0, 'source': 'dataset/sample_data.pdf'}),\n",
              " Document(page_content='Automobiles  \\n27 March 2023    2 \\nApr’23 . Despite some moderation in demand in last two months, discounts \\nremain muted.  We expect dispatches for MSIL to fall 3%, while dispatche s for \\nMM ( incl pickups)/TTMT PV to grow 16%/3% YoY.  \\n\\uf06e CVs:  Our channel checks suggest MHCV retails  to grow 10 -12% YoY  in Mar’23  led \\nby healthy fleet utilization  driven by infra -led demand and pre -buying before \\nOBD -2 transition.  However , a broad -based recovery has not yet materialized as \\nreplacement demand is yet to reflect completely.  Our interaction suggests  the \\neffect of higher borrowing rates have begun to reflect  in bookings  to some \\nextent . LCV retails, on the other hand  are expected to decline 8 -10% YoY due to \\nsubdued demand in rural. Inventory level has increased to over 30 days from  \\naverage 20 -25 days in the last two months , partly due to transition to RDE \\nnorms . While  TTMT has already announced a price hike of up to 5% for its BS6', metadata={'page': 1, 'source': 'dataset/sample_data.pdf'}),\n",
              " Document(page_content='this, retails for both MHCV and 2Ws are expected to grow while PV volume \\ngrowth is expected to  remain flattish.  We note  that most of the OEMs have \\nalready announced price hikes for their OBD -2 norm -compliant vehicles , with \\nCVs leading the pack  (up to 5%  hike ). We expect 2W retails to grow 4 -6% YoY in \\nMar’23, with  enquiry levels during festival s (Gudi Padwa and Ugadi ) varying \\ngreatly among states. On the other hand, PV retail  growth is  expected to remain \\nflattish (0 -2% YoY) . We note that Fronx and Jimn y have received bookings of \\nover 40k units so far. Demand momentum for MHCVs remain robust resulti ng in \\nretail growth of 10 -12% YoY while LCV volumes are expected to decline 8 -10% \\nYoY led by weak momentum in rural . For tractors, w e expect retails  to decline 3-\\n5% YoY , largely due to  the impact of  unseasonal rains and low yield s for key \\ncrops  such as oni on. In Mar’23, overall wholesale volumes for', metadata={'page': 0, 'source': 'dataset/sample_data.pdf'}),\n",
              " Document(page_content='Jinesh Gandhi  – Research Analyst  (Jinesh@MotilalOswal.com)  \\nResearch Analyst : Amber  Shukla  (Amber.Shukla@ Motilal Oswal.com ) | Aniket Desai (Aniket .Desai @MotilalOswal.com)  \\n \\nInvestors are advised to refer through important disclosures made at the last page of the Research Report.  \\nMotilal Oswal research is available on www.motilaloswal.com/Institutional -Equities, Bloomberg, Thomson Reuters, Factset and S&P Capital.  \\n @ \\n \\n \\nMHCV likely to outperform despite multiple challenges  \\nInitial signs of demand moderati on in PV; expect 2W volumes to grow YoY  \\n\\uf06e Our interaction with leading channel partners indicate s some moderation in \\ndemand  due to erratic rainfall during the month , especially in key Northern and \\ncentral regions and lower enquiries  during the ongoing festive season.  Despite \\nthis, retails for both MHCV and 2Ws are expected to grow while PV volume \\ngrowth is expected to  remain flattish.  We note  that most of the OEMs have', metadata={'page': 0, 'source': 'dataset/sample_data.pdf'})]"
            ]
          },
          "metadata": {},
          "execution_count": 34
        }
      ],
      "source": [
        "retriever = vectordb.as_retriever(search_kwargs={\"k\":8}) #k: 20 for more context window to llm\n",
        "docs = retriever.get_relevant_documents(user_query)\n",
        "docs #retriver gets the first layer of retrival docs"
      ]
    },
    {
      "cell_type": "markdown",
      "metadata": {
        "id": "9KscvzPA24oI"
      },
      "source": [
        "### LLM chain"
      ]
    },
    {
      "cell_type": "code",
      "source": [
        "from langchain.retrievers.contextual_compression import ContextualCompressionRetriever\n",
        "from langchain_cohere import CohereRerank\n",
        "from langchain_community.llms import Cohere\n",
        "\n",
        "compressor = CohereRerank(cohere_api_key = cohere_api_key, model = 'rerank-english-v3.0') #   top_n = 3 -> can limit the sources\n",
        "compression_retriever = ContextualCompressionRetriever(\n",
        "    base_compressor=compressor, base_retriever=retriever,\n",
        ")\n",
        "\n",
        "compressed_docs = compression_retriever.get_relevant_documents(user_query)\n",
        "compressed_docs\n",
        "# results = co.rerank(query=user_query, documents=docs, top_n=10, model='rerank-english-v3.0')"
      ],
      "metadata": {
        "colab": {
          "base_uri": "https://localhost:8080/"
        },
        "id": "bLXvrhSuZXlJ",
        "outputId": "bf64e5e0-7eea-4f60-ba39-c442e93e26e4"
      },
      "execution_count": 50,
      "outputs": [
        {
          "output_type": "execute_result",
          "data": {
            "text/plain": [
              "[Document(page_content=\"UV's  29,171  28,099  3.8 28,796  1.3 3,63,332  2,27,506  59.7  \\nHero MotoCorp  4,34,165  4,50,170  -3.6 3,94,460  10.1  52,43,369  49,44,148  6.1 \\nBajaj Auto  2,81,922  2,97,188  -5.1 2,80,226  0.6 39,16,077  43,08,433  -9.1 \\n  Two -Wheelers  2,33,703  2,56,324  -8.8 2,35,356  -0.7 34,27,405  38,36,856  -10.7  \\n  Three -Wheelers  48,219  40,864  18.0  44,870  7.5 4,88,672  4,71,577  3.6 \\nDomestic  1,64,775  1,26,752  30.0  1,53,291  7.5 20,82,735  18,01,807  15.6  \\nExports  1,17,146  1,70,436  -31.3  1,26,935  -7.7 18,33,341  25,06,626  -26.9  \\nAshok Leyland  20,894  20,123  3.8 18,571  12.5  1,89,173  1,28,326  47.4  \\nM&HCV  14,197  13,990  1.5 12,668  12.1  1,21,533  73,885  64.5  \\nLCV  6,697  6,133  9.2 5,903  13.5  67,640  54,441  24 \\nTVS Motor  2,92,177  3,07,954  -5.1 2,76,150  5.8 36,57,093  33,09,578  10.5  \\nMotorcycles  1,37,970  1,60,522  -14.0  1,26,243  9.3 17,29,976  17,31,459  -0.1 \\nScooters  1,05,785  94,747  11.6  1,04,825  0.9 12,97,275  9,21,939  40.7\", metadata={'page': 2, 'source': 'dataset/sample_data.pdf', 'relevance_score': 0.0029349518}),\n",
              " Document(page_content='Jinesh Gandhi  – Research Analyst  (Jinesh@MotilalOswal.com)  \\nResearch Analyst : Amber  Shukla  (Amber.Shukla@ Motilal Oswal.com ) | Aniket Desai (Aniket .Desai @MotilalOswal.com)  \\n \\nInvestors are advised to refer through important disclosures made at the last page of the Research Report.  \\nMotilal Oswal research is available on www.motilaloswal.com/Institutional -Equities, Bloomberg, Thomson Reuters, Factset and S&P Capital.  \\n @ \\n \\n \\nMHCV likely to outperform despite multiple challenges  \\nInitial signs of demand moderati on in PV; expect 2W volumes to grow YoY  \\n\\uf06e Our interaction with leading channel partners indicate s some moderation in \\ndemand  due to erratic rainfall during the month , especially in key Northern and \\ncentral regions and lower enquiries  during the ongoing festive season.  Despite \\nthis, retails for both MHCV and 2Ws are expected to grow while PV volume \\ngrowth is expected to  remain flattish.  We note  that most of the OEMs have', metadata={'page': 0, 'source': 'dataset/sample_data.pdf', 'relevance_score': 0.0019723359}),\n",
              " Document(page_content='Motorcycles  1,37,970  1,60,522  -14.0  1,26,243  9.3 17,29,976  17,31,459  -0.1 \\nScooters  1,05,785  94,747  11.6  1,04,825  0.9 12,97,275  9,21,939  40.7  \\nMopeds  38,352  37,649  1.9 35,958  6.7 4,60,251  4,84,305  -5.0 \\nThree -Wheelers  10,070  15,036  -33.0  9,124  10.4  1,69,591  1,71,875  -1.3 \\nDomestic  2,35,861  1,98,230  19.0  2,22,745  5.9 26,07,757  20,56,387  26.8  \\nExports  56,315  1,09,724  -48.7  53,405  5.4 10,49,335  12,53,191  -16.3  \\nEicher Motors          Royal Enfield  74,155  67,670  9.6 71,544  3.6 8,36,815  6,02,268  38.9  \\nVECV  9,125  8,793  3.8 7,289  25.2  76,821  57,067  34.6  \\nEscorts Kubota  10,195  10,074  1.2 7,811  30.5  1,03,180  94,228  9.5', metadata={'page': 2, 'source': 'dataset/sample_data.pdf', 'relevance_score': 0.00023597175})]"
            ]
          },
          "metadata": {},
          "execution_count": 50
        }
      ]
    },
    {
      "cell_type": "code",
      "execution_count": 52,
      "metadata": {
        "id": "6MSnUSES24oI"
      },
      "outputs": [],
      "source": [
        "# create the chain to answer question\n",
        "qa_chain_compressed = RetrievalQA.from_chain_type(llm=ChatOpenAI(openai_api_key=openai_api_key,model=\"gpt-3.5-turbo\", temperature=1.2 ), chain_type=\"stuff\", retriever=compression_retriever, return_source_documents=True)"
      ]
    },
    {
      "cell_type": "code",
      "source": [
        "# create the chain to answer question\n",
        "qa_chain = RetrievalQA.from_chain_type(llm=ChatOpenAI(openai_api_key=openai_api_key,model=\"gpt-3.5-turbo\", temperature=1.2 ), chain_type=\"stuff\", retriever=retriever, return_source_documents=True)"
      ],
      "metadata": {
        "id": "UIJwe8FXgMoV"
      },
      "execution_count": 48,
      "outputs": []
    },
    {
      "cell_type": "code",
      "execution_count": 40,
      "metadata": {
        "id": "lpGoJ7qn24oI"
      },
      "outputs": [],
      "source": [
        "def process_llm_response(llm_response):\n",
        "    print(\"Decision:\")\n",
        "    print(llm_response['result'])\n",
        "\n",
        "    print(\"\\n Source Documents:\")\n",
        "    for source in llm_response[\"source_documents\"]:\n",
        "        print(\"- \" + source.metadata['source'])\n",
        "\n",
        "    print(\"\\nRelevant Data:\")\n",
        "    for source in llm_response[\"source_documents\"]:\n",
        "        print(source.page_content)"
      ]
    },
    {
      "cell_type": "markdown",
      "source": [
        "compressed qa chain for efficent retrival"
      ],
      "metadata": {
        "id": "moLHpJgTgWvH"
      }
    },
    {
      "cell_type": "code",
      "execution_count": 44,
      "metadata": {
        "colab": {
          "base_uri": "https://localhost:8080/"
        },
        "id": "QoW-KIN724oI",
        "outputId": "714596d4-0712-439b-f8f5-4d6fbc6a0645"
      },
      "outputs": [
        {
          "output_type": "stream",
          "name": "stdout",
          "text": [
            "Decision:\n",
            "Based on the provided data and analysis, the 2-wheeler segment winner based on demand seems to be TVS Motor. While the overall 2-wheeler segment experienced a decline in sales, TVS Motor showed resilience with a marginal 0.1% decrease in sales in FY23 compared to the previous year. This performance is notable compared to Hero MotoCorp, which saw a 6.1% decline in sales, and Bajaj Auto, which experienced a 9.1% decline.\n",
            "\n",
            "Additionally, in terms of specific product performance within 2-wheelers, TVS Motor's scooter segment showed significant growth with an 11.6% increase in sales in Mar '23 compared to the previous year. This outperformed both the motorcycle segment, which saw a 14.0% decrease in sales, and the overall 2-wheeler segment, which experienced an 8.8% decline.\n",
            "\n",
            "Therefore, based on the data provided, TVS Motor appears to be the segment winner in the 2-wheeler category, showcasing strong performance and potential for growth even in challenging market conditions.\n",
            "\n",
            " Source Documents:\n",
            "- dataset/sample_data.pdf\n",
            "- dataset/sample_data.pdf\n",
            "- dataset/sample_data.pdf\n",
            "\n",
            "Relevant Data:\n",
            "UV's  29,171  28,099  3.8 28,796  1.3 3,63,332  2,27,506  59.7  \n",
            "Hero MotoCorp  4,34,165  4,50,170  -3.6 3,94,460  10.1  52,43,369  49,44,148  6.1 \n",
            "Bajaj Auto  2,81,922  2,97,188  -5.1 2,80,226  0.6 39,16,077  43,08,433  -9.1 \n",
            "  Two -Wheelers  2,33,703  2,56,324  -8.8 2,35,356  -0.7 34,27,405  38,36,856  -10.7  \n",
            "  Three -Wheelers  48,219  40,864  18.0  44,870  7.5 4,88,672  4,71,577  3.6 \n",
            "Domestic  1,64,775  1,26,752  30.0  1,53,291  7.5 20,82,735  18,01,807  15.6  \n",
            "Exports  1,17,146  1,70,436  -31.3  1,26,935  -7.7 18,33,341  25,06,626  -26.9  \n",
            "Ashok Leyland  20,894  20,123  3.8 18,571  12.5  1,89,173  1,28,326  47.4  \n",
            "M&HCV  14,197  13,990  1.5 12,668  12.1  1,21,533  73,885  64.5  \n",
            "LCV  6,697  6,133  9.2 5,903  13.5  67,640  54,441  24 \n",
            "TVS Motor  2,92,177  3,07,954  -5.1 2,76,150  5.8 36,57,093  33,09,578  10.5  \n",
            "Motorcycles  1,37,970  1,60,522  -14.0  1,26,243  9.3 17,29,976  17,31,459  -0.1 \n",
            "Scooters  1,05,785  94,747  11.6  1,04,825  0.9 12,97,275  9,21,939  40.7\n",
            "Jinesh Gandhi  – Research Analyst  (Jinesh@MotilalOswal.com)  \n",
            "Research Analyst : Amber  Shukla  (Amber.Shukla@ Motilal Oswal.com ) | Aniket Desai (Aniket .Desai @MotilalOswal.com)  \n",
            " \n",
            "Investors are advised to refer through important disclosures made at the last page of the Research Report.  \n",
            "Motilal Oswal research is available on www.motilaloswal.com/Institutional -Equities, Bloomberg, Thomson Reuters, Factset and S&P Capital.  \n",
            " @ \n",
            " \n",
            " \n",
            "MHCV likely to outperform despite multiple challenges  \n",
            "Initial signs of demand moderati on in PV; expect 2W volumes to grow YoY  \n",
            " Our interaction with leading channel partners indicate s some moderation in \n",
            "demand  due to erratic rainfall during the month , especially in key Northern and \n",
            "central regions and lower enquiries  during the ongoing festive season.  Despite \n",
            "this, retails for both MHCV and 2Ws are expected to grow while PV volume \n",
            "growth is expected to  remain flattish.  We note  that most of the OEMs have\n",
            "Automobiles  \n",
            "27 March 2023    3 \n",
            "Snapshot of Mar ’23 volume estimates                \n",
            "  YoY     MoM        \n",
            "Company Sales  Mar -23 Mar -22 YoY (%)  \n",
            " chg Feb-23 MoM (%) \n",
            "chg FY23E  FY22  (%) \n",
            " chg \n",
            "Maruti Suzuki  1,64,812  1,70,395  -3.3 1,72,321  -4.4 19,60,905  16,52,653  18.7  \n",
            "LCVs  3,887  3,797  2.4 3,356  15.8  37,869  33,812  12.0  \n",
            "Vans  11,901  9,221  29.1  11,352  4.8 1,31,097  1,08,345  21.0  \n",
            "Mini Segment  20,020  15,491  29.2  21,875  -8.5 2,41,349  2,11,762  14.0  \n",
            "Compact (incl Dzire Tour)  74,673  84,761  -11.9  81,325  -8.2 8,95,245  7,26,443  23.2  \n",
            "Mid-Size - CIAZ  972 1,834  -47.0  792 22.7  14,282  15,869  -10.0  \n",
            "UVs 36,931  28,795  28.3  36,414  1.4 3,95,421  3,18,046  24.3  \n",
            "Domestic  1,48,385  1,43,899  3.1 1,55,114  -4.3 17,15,264  14,14,277  21.3  \n",
            "Export  16,427  26,496  -38.0  17,207  -4.5 2,45,641  2,38,376  3.0 \n",
            "Mahindra & Mahindra  94,804  84,406  12.3  84,592  12.1  10,99,710  8,20,299  34.1\n"
          ]
        }
      ],
      "source": [
        "behaviour = '''Think like an expert finance consultant from a top tier firm. Do all the research and analysis for this document.'''\n",
        "prompt_template = 'Keep the answer crisp. Give me as much numbers as you can. Every Statement of yours should be backed with data'\n",
        "stop_prompt = f'Dont hallucinate, if u dont know the answer, tell you dont know'\n",
        "query = f\"Here is the user query : {user_query}. Remember this: {behaviour}. Give me the answers like this: {prompt_template}. Keep this in mind - {stop_prompt}\"\n",
        "llm_response = qa_chain_compressed(query)\n",
        "process_llm_response(llm_response)"
      ]
    },
    {
      "cell_type": "markdown",
      "source": [
        "best version -> heavy credits burning -> deep pockets required"
      ],
      "metadata": {
        "id": "cQwFQmFDgpqt"
      }
    },
    {
      "cell_type": "code",
      "source": [
        "llm_response = qa_chain(query)\n",
        "process_llm_response(llm_response)"
      ],
      "metadata": {
        "colab": {
          "base_uri": "https://localhost:8080/"
        },
        "id": "Tg9soINRghE9",
        "outputId": "105be0ec-aa16-4b67-dd0a-3a795b4335c0"
      },
      "execution_count": 49,
      "outputs": [
        {
          "output_type": "stream",
          "name": "stdout",
          "text": [
            "Decision:\n",
            "Based on the current market trends and research data, the segment winner in the 2-wheeler demand appears to be Hero MotoCorp. As per the report from March 2023, Hero MotoCorp is showing positive growth in two-wheeler sales volume. In comparison to other competitors like TVS Motor and Bajaj Auto, Hero MotoCorp exhibited a significant increase in sales volumes for motorcycles and scooters.\n",
            "\n",
            "Here are some data points to support this analysis:\n",
            "- Hero MotoCorp has a sales volume of 4,34,165 units, showcasing a positive growth trend compared to the previous period.\n",
            "- Bajaj Auto reported sales of 2,81,922 units, which indicated a slight decline in sales.\n",
            "- TVS Motor had sales of 2,92,177 units, showing a moderate decrease in sales volume.\n",
            "\n",
            "Considering these numbers, Hero MotoCorp stands out as a strong contender in the 2-wheeler segment due to its positive sales growth compared to its competitors in the industry.\n",
            "\n",
            " Source Documents:\n",
            "- dataset/sample_data.pdf\n",
            "- dataset/sample_data.pdf\n",
            "- dataset/sample_data.pdf\n",
            "- dataset/sample_data.pdf\n",
            "- dataset/sample_data.pdf\n",
            "- dataset/sample_data.pdf\n",
            "- dataset/sample_data.pdf\n",
            "- dataset/sample_data.pdf\n",
            "\n",
            "Relevant Data:\n",
            "Jinesh Gandhi  – Research Analyst  (Jinesh@MotilalOswal.com)  \n",
            "Research Analyst : Amber  Shukla  (Amber.Shukla@ Motilal Oswal.com ) | Aniket Desai (Aniket .Desai @MotilalOswal.com)  \n",
            " \n",
            "Investors are advised to refer through important disclosures made at the last page of the Research Report.  \n",
            "Motilal Oswal research is available on www.motilaloswal.com/Institutional -Equities, Bloomberg, Thomson Reuters, Factset and S&P Capital.  \n",
            " @ \n",
            " \n",
            " \n",
            "MHCV likely to outperform despite multiple challenges  \n",
            "Initial signs of demand moderati on in PV; expect 2W volumes to grow YoY  \n",
            " Our interaction with leading channel partners indicate s some moderation in \n",
            "demand  due to erratic rainfall during the month , especially in key Northern and \n",
            "central regions and lower enquiries  during the ongoing festive season.  Despite \n",
            "this, retails for both MHCV and 2Ws are expected to grow while PV volume \n",
            "growth is expected to  remain flattish.  We note  that most of the OEMs have\n",
            "5% YoY , largely due to  the impact of  unseasonal rains and low yield s for key \n",
            "crops  such as oni on. In Mar’23, overall wholesale volumes for \n",
            "PV/CV/tractor/3Ws are estimated to grow by 1%/ 1.5%/1 %/8% YoY, while 2Ws \n",
            "are likely to decline 4% YoY.  \n",
            " 2Ws:  Retails are expected to grow 4-6% YoY in Mar ’23 since urban demand is \n",
            "steady and inquiries have improved in certain states during the ongoing Navratri \n",
            "season . However, overall sales  are still do wn by 15 -17% v /s the pre-Covid  level \n",
            "as rural demand remain s weak.  Enquiry levels during the key festival s (Gudi \n",
            "Padwa and Ugadi) varied greatly among  states.  We have noted 2-6% YoY growth \n",
            "in enquiry levels in states like Gujarat, Delhi and Karnataka , while  the same \n",
            "declined by 4-8% in other key states like UP, Bihar  and Maharashtra . The i nitial \n",
            "response to HMCL’ s new launch Xoom (110 cc scooter) has been positi ve as it has \n",
            "accounted for 25-30% of the overall enquiries in Mar’23 . Xoom currently has a\n",
            "response to HMCL’ s new launch Xoom (110 cc scooter) has been positi ve as it has \n",
            "accounted for 25-30% of the overall enquiries in Mar’23 . Xoom currently has a \n",
            "waiting period of 30 days  as dispatches are yet to ramp up . Overall i nventory has \n",
            "now come back to the normal level of 40 -45 days , with HMCL having the highest \n",
            "at 50-55 days , followed by TVSL, BJAUT and HMSI with 25 -35 days. Inventory for \n",
            "RE has inched up to 20 -25 days. We have noted a waiting period of 1 -1.5 months \n",
            "for Hunter and 3 -4 months for Super Meteor 650. We expect dispatches for \n",
            "HMCL/BAJUT (incl 3W)/TVS (in cl 3W) to fall by 4%/5%/5% , while RE’s dispatches  \n",
            "may  grow 10% YoY.      \n",
            " PVs: Mar’23 r etails growth is  expected to be flattish YoY with 0 -2% YoY growth. \n",
            "There has been some moderation  in enquiries led  by muted demand  during \n",
            "ongoing festival s and persistent weakness in  the rural  market . Moreover, rising \n",
            "interest rates have further hampered bookings for low-end models. Although\n",
            "UV's  29,171  28,099  3.8 28,796  1.3 3,63,332  2,27,506  59.7  \n",
            "Hero MotoCorp  4,34,165  4,50,170  -3.6 3,94,460  10.1  52,43,369  49,44,148  6.1 \n",
            "Bajaj Auto  2,81,922  2,97,188  -5.1 2,80,226  0.6 39,16,077  43,08,433  -9.1 \n",
            "  Two -Wheelers  2,33,703  2,56,324  -8.8 2,35,356  -0.7 34,27,405  38,36,856  -10.7  \n",
            "  Three -Wheelers  48,219  40,864  18.0  44,870  7.5 4,88,672  4,71,577  3.6 \n",
            "Domestic  1,64,775  1,26,752  30.0  1,53,291  7.5 20,82,735  18,01,807  15.6  \n",
            "Exports  1,17,146  1,70,436  -31.3  1,26,935  -7.7 18,33,341  25,06,626  -26.9  \n",
            "Ashok Leyland  20,894  20,123  3.8 18,571  12.5  1,89,173  1,28,326  47.4  \n",
            "M&HCV  14,197  13,990  1.5 12,668  12.1  1,21,533  73,885  64.5  \n",
            "LCV  6,697  6,133  9.2 5,903  13.5  67,640  54,441  24 \n",
            "TVS Motor  2,92,177  3,07,954  -5.1 2,76,150  5.8 36,57,093  33,09,578  10.5  \n",
            "Motorcycles  1,37,970  1,60,522  -14.0  1,26,243  9.3 17,29,976  17,31,459  -0.1 \n",
            "Scooters  1,05,785  94,747  11.6  1,04,825  0.9 12,97,275  9,21,939  40.7\n",
            "Automobiles  \n",
            "27 March 2023    4 \n",
            "Comparative valuations               \n",
            "  Rating  Mcap  CMP  TP P/E (x)  EV/ EBITDA (x)  PB (x)  FY25  \n",
            "Yield (%)  EPS CAGR  \n",
            "(%) \n",
            "FY23E -25E Auto OEM's    (INR b)  (INR)  (INR)  FY23E  FY24E  FY25E  FY23E  FY24E  FY25E  FY23E  FY24E  FY25E  Div FCF \n",
            "Bajaj Auto    Neutral  1,077  3,807  4,150  17.9  15.8  14.3  13.0  11.1  10.1  4.4 4.3 4.1 5.5 5.3 11.8  \n",
            "Hero MotoCorp  Buy 462 2,308  2,982  17.2  13.8  12.4  9.1 7.2 6.3 2.8 2.7 2.5 6.1 8.6 17.8  \n",
            "TVS Motor  Neutral  497 1,047  969 34.0  25.6  22.0  18.6  14.2  12.1  8.2 6.5 5.2 0.6 5.0 24.2  \n",
            "Eicher Motors  Buy 789 2,886  3,613  28.2  21.5  17.0  22.3  18.4  15.0  5.4 4.5 3.6 0.9 5.8 28.9  \n",
            "Maruti Suzuki  Buy 2,500  8,275  10,545  31.7  22.7  19.1  19.5  14.2  12.0  4.2 3.7 3.3 1.8 3.9 28.7  \n",
            "M&M  Buy 1,362  1,138  1,524  18.4  14.6  12.8  13.1  10.0  8.4 1.5 1.3 1.1 1.5 7.2 20.2  \n",
            "Tata Motors  Buy 1,577  412 531 -70.3  15.6  12.7  7.3 3.9 3.2 3.6 2.9 2.4 0.0 9.0 #NUM!\n",
            "Automobiles  \n",
            "27 March 2023    3 \n",
            "Snapshot of Mar ’23 volume estimates                \n",
            "  YoY     MoM        \n",
            "Company Sales  Mar -23 Mar -22 YoY (%)  \n",
            " chg Feb-23 MoM (%) \n",
            "chg FY23E  FY22  (%) \n",
            " chg \n",
            "Maruti Suzuki  1,64,812  1,70,395  -3.3 1,72,321  -4.4 19,60,905  16,52,653  18.7  \n",
            "LCVs  3,887  3,797  2.4 3,356  15.8  37,869  33,812  12.0  \n",
            "Vans  11,901  9,221  29.1  11,352  4.8 1,31,097  1,08,345  21.0  \n",
            "Mini Segment  20,020  15,491  29.2  21,875  -8.5 2,41,349  2,11,762  14.0  \n",
            "Compact (incl Dzire Tour)  74,673  84,761  -11.9  81,325  -8.2 8,95,245  7,26,443  23.2  \n",
            "Mid-Size - CIAZ  972 1,834  -47.0  792 22.7  14,282  15,869  -10.0  \n",
            "UVs 36,931  28,795  28.3  36,414  1.4 3,95,421  3,18,046  24.3  \n",
            "Domestic  1,48,385  1,43,899  3.1 1,55,114  -4.3 17,15,264  14,14,277  21.3  \n",
            "Export  16,427  26,496  -38.0  17,207  -4.5 2,45,641  2,38,376  3.0 \n",
            "Mahindra & Mahindra  94,804  84,406  12.3  84,592  12.1  10,99,710  8,20,299  34.1\n",
            "Automobiles  \n",
            "27 March 2023    2 \n",
            "Apr’23 . Despite some moderation in demand in last two months, discounts \n",
            "remain muted.  We expect dispatches for MSIL to fall 3%, while dispatche s for \n",
            "MM ( incl pickups)/TTMT PV to grow 16%/3% YoY.  \n",
            " CVs:  Our channel checks suggest MHCV retails  to grow 10 -12% YoY  in Mar’23  led \n",
            "by healthy fleet utilization  driven by infra -led demand and pre -buying before \n",
            "OBD -2 transition.  However , a broad -based recovery has not yet materialized as \n",
            "replacement demand is yet to reflect completely.  Our interaction suggests  the \n",
            "effect of higher borrowing rates have begun to reflect  in bookings  to some \n",
            "extent . LCV retails, on the other hand  are expected to decline 8 -10% YoY due to \n",
            "subdued demand in rural. Inventory level has increased to over 30 days from  \n",
            "average 20 -25 days in the last two months , partly due to transition to RDE \n",
            "norms . While  TTMT has already announced a price hike of up to 5% for its BS6\n",
            "this, retails for both MHCV and 2Ws are expected to grow while PV volume \n",
            "growth is expected to  remain flattish.  We note  that most of the OEMs have \n",
            "already announced price hikes for their OBD -2 norm -compliant vehicles , with \n",
            "CVs leading the pack  (up to 5%  hike ). We expect 2W retails to grow 4 -6% YoY in \n",
            "Mar’23, with  enquiry levels during festival s (Gudi Padwa and Ugadi ) varying \n",
            "greatly among states. On the other hand, PV retail  growth is  expected to remain \n",
            "flattish (0 -2% YoY) . We note that Fronx and Jimn y have received bookings of \n",
            "over 40k units so far. Demand momentum for MHCVs remain robust resulti ng in \n",
            "retail growth of 10 -12% YoY while LCV volumes are expected to decline 8 -10% \n",
            "YoY led by weak momentum in rural . For tractors, w e expect retails  to decline 3-\n",
            "5% YoY , largely due to  the impact of  unseasonal rains and low yield s for key \n",
            "crops  such as oni on. In Mar’23, overall wholesale volumes for\n"
          ]
        }
      ]
    }
  ],
  "metadata": {
    "kernelspec": {
      "display_name": "Python 3",
      "name": "python3"
    },
    "language_info": {
      "codemirror_mode": {
        "name": "ipython",
        "version": 3
      },
      "file_extension": ".py",
      "mimetype": "text/x-python",
      "name": "python",
      "nbconvert_exporter": "python",
      "pygments_lexer": "ipython3",
      "version": "3.10.12"
    },
    "colab": {
      "provenance": [],
      "gpuType": "T4",
      "include_colab_link": true
    }
  },
  "nbformat": 4,
  "nbformat_minor": 0
}