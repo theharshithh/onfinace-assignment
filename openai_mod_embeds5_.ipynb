{
  "cells": [
    {
      "cell_type": "markdown",
      "metadata": {
        "id": "view-in-github",
        "colab_type": "text"
      },
      "source": [
        "<a href=\"https://colab.research.google.com/github/theharshithh/onfinace-assignment/blob/main/openai_mod_embeds5_.ipynb\" target=\"_parent\"><img src=\"https://colab.research.google.com/assets/colab-badge.svg\" alt=\"Open In Colab\"/></a>"
      ]
    },
    {
      "cell_type": "code",
      "execution_count": 1,
      "metadata": {
        "id": "cA__z7w124oE"
      },
      "outputs": [],
      "source": [
        "import os"
      ]
    },
    {
      "cell_type": "code",
      "execution_count": 2,
      "metadata": {
        "id": "E16GzrTO24oF",
        "colab": {
          "base_uri": "https://localhost:8080/"
        },
        "outputId": "c235f50e-7d25-47f8-ec50-b5291bfb556a"
      },
      "outputs": [
        {
          "output_type": "stream",
          "name": "stdout",
          "text": [
            "\u001b[2K     \u001b[90m━━━━━━━━━━━━━━━━━━━━━━━━━━━━━━━━━━━━━━━━\u001b[0m \u001b[32m341.4/341.4 kB\u001b[0m \u001b[31m29.3 MB/s\u001b[0m eta \u001b[36m0:00:00\u001b[0m\n",
            "\u001b[2K     \u001b[90m━━━━━━━━━━━━━━━━━━━━━━━━━━━━━━━━━━━━━━━━\u001b[0m \u001b[32m3.4/3.4 MB\u001b[0m \u001b[31m57.0 MB/s\u001b[0m eta \u001b[36m0:00:00\u001b[0m\n",
            "\u001b[2K     \u001b[90m━━━━━━━━━━━━━━━━━━━━━━━━━━━━━━━━━━━━━━━━\u001b[0m \u001b[32m1.3/1.3 MB\u001b[0m \u001b[31m52.7 MB/s\u001b[0m eta \u001b[36m0:00:00\u001b[0m\n",
            "\u001b[2K     \u001b[90m━━━━━━━━━━━━━━━━━━━━━━━━━━━━━━━━━━━━━━━━\u001b[0m \u001b[32m130.2/130.2 kB\u001b[0m \u001b[31m14.5 MB/s\u001b[0m eta \u001b[36m0:00:00\u001b[0m\n",
            "\u001b[2K     \u001b[90m━━━━━━━━━━━━━━━━━━━━━━━━━━━━━━━━━━━━━━━━\u001b[0m \u001b[32m86.8/86.8 kB\u001b[0m \u001b[31m10.8 MB/s\u001b[0m eta \u001b[36m0:00:00\u001b[0m\n",
            "\u001b[?25h  Building wheel for pypika (pyproject.toml) ... \u001b[?25l\u001b[?25hdone\n"
          ]
        }
      ],
      "source": [
        "!pip -q install langchain openai tiktoken chromadb langchain_openai"
      ]
    },
    {
      "cell_type": "code",
      "source": [
        "!pip install langchain_cohere"
      ],
      "metadata": {
        "id": "SRxYbAOrK4em"
      },
      "execution_count": null,
      "outputs": []
    },
    {
      "cell_type": "code",
      "execution_count": 4,
      "metadata": {
        "id": "aC_PvcOz24oG"
      },
      "outputs": [],
      "source": [
        "from langchain.vectorstores import Chroma\n",
        "from langchain.embeddings import OpenAIEmbeddings\n",
        "from langchain.text_splitter import RecursiveCharacterTextSplitter\n",
        "from langchain_openai import ChatOpenAI\n",
        "from langchain.chains import RetrievalQA\n",
        "from langchain.document_loaders import TextLoader\n",
        "from langchain.document_loaders import PyPDFDirectoryLoader\n",
        "# from langchain_cohere import CohereEmbeddings\n",
        "\n",
        "\n",
        "def read_doc(dir):\n",
        "    file_loader = PyPDFDirectoryLoader(dir)\n",
        "    docs = file_loader.load()\n",
        "    return docs"
      ]
    },
    {
      "cell_type": "markdown",
      "metadata": {
        "id": "fHIxTEVm24oG"
      },
      "source": [
        "loading data to /dataset dir"
      ]
    },
    {
      "cell_type": "code",
      "source": [
        "!pip install pypdf"
      ],
      "metadata": {
        "colab": {
          "base_uri": "https://localhost:8080/"
        },
        "id": "SaT9Zf4W4hy4",
        "outputId": "e074289b-1d71-4d7e-dc6e-664d207a3278"
      },
      "execution_count": 6,
      "outputs": [
        {
          "output_type": "stream",
          "name": "stdout",
          "text": [
            "Installing collected packages: pypdf\n",
            "Successfully installed pypdf-4.2.0\n"
          ]
        }
      ]
    },
    {
      "cell_type": "code",
      "execution_count": null,
      "metadata": {
        "id": "S5fL2M3j24oG"
      },
      "outputs": [],
      "source": [
        "primary_data = read_doc('dataset/')\n",
        "primary_data"
      ]
    },
    {
      "cell_type": "markdown",
      "metadata": {
        "id": "jPppZ8Nc24oH"
      },
      "source": [
        "creating chunks for the `primary_data`"
      ]
    },
    {
      "cell_type": "code",
      "execution_count": 10,
      "metadata": {
        "id": "oSdzvCZB24oH"
      },
      "outputs": [],
      "source": [
        "text_splitter = RecursiveCharacterTextSplitter(chunk_size=1000, chunk_overlap=200)\n",
        "spilit_texts = text_splitter.split_documents(primary_data)"
      ]
    },
    {
      "cell_type": "markdown",
      "metadata": {
        "id": "ii2pgiH024oH"
      },
      "source": [
        "## create the embeddings using hf ede by baai"
      ]
    },
    {
      "cell_type": "code",
      "execution_count": 11,
      "metadata": {
        "id": "D5EsshWq24oH"
      },
      "outputs": [],
      "source": [
        "# #hugging face bge embeddings\n",
        "# model_name = \"BAAI/bge-base-en\"\n",
        "# encode_kwargs = {'normalize_embeddings': True} # set True to compute cosine similarity\n",
        "\n",
        "# model_norm = HuggingFaceBgeEmbeddings(\n",
        "#     model_name=model_name,\n",
        "#     model_kwargs={'device': 'cuda'},\n",
        "#     encode_kwargs=encode_kwargs\n",
        "# )"
      ]
    },
    {
      "cell_type": "markdown",
      "metadata": {
        "id": "_ni2y9GD24oH"
      },
      "source": [
        "change of embeddings from `OpenAIEmbeddings()` to bge-embeddings"
      ]
    },
    {
      "cell_type": "code",
      "execution_count": 12,
      "metadata": {
        "id": "h-1iqLhz24oH"
      },
      "outputs": [],
      "source": [
        "persist_directory = 'db-openai_modified'\n",
        "from google.colab import userdata\n",
        "openai_api_key = userdata.get('OPENAI_API_KEY')\n",
        "#openai embeddings -> converts texts to vecs\n",
        "embedding = OpenAIEmbeddings(openai_api_key = openai_api_key, model=\"text-embedding-3-small\")\n",
        "\n",
        "#load the spilt chunk vectors into the vectordb\n",
        "vectordb = Chroma.from_documents(documents=spilit_texts, embedding=embedding, persist_directory=persist_directory)\n",
        "vectordb.persist()\n",
        "vectordb = None\n",
        "vectordb = Chroma(persist_directory=persist_directory, embedding_function=embedding)"
      ]
    },
    {
      "cell_type": "code",
      "execution_count": 13,
      "metadata": {
        "id": "lMP5adFc24oI"
      },
      "outputs": [],
      "source": [
        "vectordb = Chroma(persist_directory=persist_directory, embedding_function=embedding)"
      ]
    },
    {
      "cell_type": "code",
      "execution_count": 14,
      "metadata": {
        "id": "3trCy_oI24oI"
      },
      "outputs": [],
      "source": [
        "\n",
        "user_query = 'Considering 2 wheeler demand, who seems to be the segment winner?'"
      ]
    },
    {
      "cell_type": "code",
      "execution_count": 15,
      "metadata": {
        "colab": {
          "base_uri": "https://localhost:8080/"
        },
        "id": "vvH_lysS24oI",
        "outputId": "d29891c4-9ed1-4d9c-f52c-e5db5cf8410b"
      },
      "outputs": [
        {
          "output_type": "execute_result",
          "data": {
            "text/plain": [
              "[Document(page_content='5% YoY , largely due to  the impact of  unseasonal rains and low yield s for key \\ncrops  such as oni on. In Mar’23, overall wholesale volumes for \\nPV/CV/tractor/3Ws are estimated to grow by 1%/ 1.5%/1 %/8% YoY, while 2Ws \\nare likely to decline 4% YoY.  \\n\\uf06e 2Ws:  Retails are expected to grow 4-6% YoY in Mar ’23 since urban demand is \\nsteady and inquiries have improved in certain states during the ongoing Navratri \\nseason . However, overall sales  are still do wn by 15 -17% v /s the pre-Covid  level \\nas rural demand remain s weak.  Enquiry levels during the key festival s (Gudi \\nPadwa and Ugadi) varied greatly among  states.  We have noted 2-6% YoY growth \\nin enquiry levels in states like Gujarat, Delhi and Karnataka , while  the same \\ndeclined by 4-8% in other key states like UP, Bihar  and Maharashtra . The i nitial \\nresponse to HMCL’ s new launch Xoom (110 cc scooter) has been positi ve as it has \\naccounted for 25-30% of the overall enquiries in Mar’23 . Xoom currently has a', metadata={'page': 0, 'source': 'dataset/sample_data.pdf'}),\n",
              " Document(page_content='Motorcycles  1,37,970  1,60,522  -14.0  1,26,243  9.3 17,29,976  17,31,459  -0.1 \\nScooters  1,05,785  94,747  11.6  1,04,825  0.9 12,97,275  9,21,939  40.7  \\nMopeds  38,352  37,649  1.9 35,958  6.7 4,60,251  4,84,305  -5.0 \\nThree -Wheelers  10,070  15,036  -33.0  9,124  10.4  1,69,591  1,71,875  -1.3 \\nDomestic  2,35,861  1,98,230  19.0  2,22,745  5.9 26,07,757  20,56,387  26.8  \\nExports  56,315  1,09,724  -48.7  53,405  5.4 10,49,335  12,53,191  -16.3  \\nEicher Motors          Royal Enfield  74,155  67,670  9.6 71,544  3.6 8,36,815  6,02,268  38.9  \\nVECV  9,125  8,793  3.8 7,289  25.2  76,821  57,067  34.6  \\nEscorts Kubota  10,195  10,074  1.2 7,811  30.5  1,03,180  94,228  9.5', metadata={'page': 2, 'source': 'dataset/sample_data.pdf'}),\n",
              " Document(page_content=\"UV's  29,171  28,099  3.8 28,796  1.3 3,63,332  2,27,506  59.7  \\nHero MotoCorp  4,34,165  4,50,170  -3.6 3,94,460  10.1  52,43,369  49,44,148  6.1 \\nBajaj Auto  2,81,922  2,97,188  -5.1 2,80,226  0.6 39,16,077  43,08,433  -9.1 \\n  Two -Wheelers  2,33,703  2,56,324  -8.8 2,35,356  -0.7 34,27,405  38,36,856  -10.7  \\n  Three -Wheelers  48,219  40,864  18.0  44,870  7.5 4,88,672  4,71,577  3.6 \\nDomestic  1,64,775  1,26,752  30.0  1,53,291  7.5 20,82,735  18,01,807  15.6  \\nExports  1,17,146  1,70,436  -31.3  1,26,935  -7.7 18,33,341  25,06,626  -26.9  \\nAshok Leyland  20,894  20,123  3.8 18,571  12.5  1,89,173  1,28,326  47.4  \\nM&HCV  14,197  13,990  1.5 12,668  12.1  1,21,533  73,885  64.5  \\nLCV  6,697  6,133  9.2 5,903  13.5  67,640  54,441  24 \\nTVS Motor  2,92,177  3,07,954  -5.1 2,76,150  5.8 36,57,093  33,09,578  10.5  \\nMotorcycles  1,37,970  1,60,522  -14.0  1,26,243  9.3 17,29,976  17,31,459  -0.1 \\nScooters  1,05,785  94,747  11.6  1,04,825  0.9 12,97,275  9,21,939  40.7\", metadata={'page': 2, 'source': 'dataset/sample_data.pdf'}),\n",
              " Document(page_content='response to HMCL’ s new launch Xoom (110 cc scooter) has been positi ve as it has \\naccounted for 25-30% of the overall enquiries in Mar’23 . Xoom currently has a \\nwaiting period of 30 days  as dispatches are yet to ramp up . Overall i nventory has \\nnow come back to the normal level of 40 -45 days , with HMCL having the highest \\nat 50-55 days , followed by TVSL, BJAUT and HMSI with 25 -35 days. Inventory for \\nRE has inched up to 20 -25 days. We have noted a waiting period of 1 -1.5 months \\nfor Hunter and 3 -4 months for Super Meteor 650. We expect dispatches for \\nHMCL/BAJUT (incl 3W)/TVS (in cl 3W) to fall by 4%/5%/5% , while RE’s dispatches  \\nmay  grow 10% YoY.      \\n\\uf06e PVs: Mar’23 r etails growth is  expected to be flattish YoY with 0 -2% YoY growth. \\nThere has been some moderation  in enquiries led  by muted demand  during \\nongoing festival s and persistent weakness in  the rural  market . Moreover, rising \\ninterest rates have further hampered bookings for low-end models. Although', metadata={'page': 0, 'source': 'dataset/sample_data.pdf'})]"
            ]
          },
          "metadata": {},
          "execution_count": 15
        }
      ],
      "source": [
        "retriever = vectordb.as_retriever()\n",
        "docs = retriever.get_relevant_documents(user_query)\n",
        "#getting the relevant docs for the user query\n",
        "docs"
      ]
    },
    {
      "cell_type": "code",
      "execution_count": 16,
      "metadata": {
        "id": "BGxEISZu24oI"
      },
      "outputs": [],
      "source": [
        "retriever = vectordb.as_retriever(search_kwargs={\"k\": 5})"
      ]
    },
    {
      "cell_type": "markdown",
      "metadata": {
        "id": "9KscvzPA24oI"
      },
      "source": [
        "### LLM chain"
      ]
    },
    {
      "cell_type": "code",
      "execution_count": 17,
      "metadata": {
        "id": "6MSnUSES24oI"
      },
      "outputs": [],
      "source": [
        "# create the chain to answer questions\n",
        "qa_chain = RetrievalQA.from_chain_type(llm=ChatOpenAI(openai_api_key=openai_api_key,model=\"gpt-4-turbo\", temperature=1.2 ), chain_type=\"stuff\", retriever=retriever, return_source_documents=True)"
      ]
    },
    {
      "cell_type": "code",
      "execution_count": 18,
      "metadata": {
        "id": "lpGoJ7qn24oI"
      },
      "outputs": [],
      "source": [
        "def process_llm_response(llm_response):\n",
        "    print(\"Decision:\")\n",
        "    print(llm_response['result'])\n",
        "\n",
        "    print(\"\\n Source Documents:\")\n",
        "    for source in llm_response[\"source_documents\"]:\n",
        "        print(\"- \" + source.metadata['source'])\n",
        "\n",
        "    print(\"\\nRelevant Data:\")\n",
        "    for source in llm_response[\"source_documents\"]:\n",
        "        print(source.page_content)"
      ]
    },
    {
      "cell_type": "code",
      "execution_count": 19,
      "metadata": {
        "colab": {
          "base_uri": "https://localhost:8080/"
        },
        "id": "QoW-KIN724oI",
        "outputId": "ef7b5529-3859-4a66-99f4-3ab8734f2b28"
      },
      "outputs": [
        {
          "output_type": "stream",
          "name": "stdout",
          "text": [
            "Decision:\n",
            "Based on the detailed assessment of the current trends in the 2-wheeler (2W) sector from the data provided, Hero MotoCorp emerges as a noticeable segment winner in terms of recent performance:\n",
            "\n",
            "- **Retail Growth**: Hero MotoCorp has shown a notable improvement in enquiries during Mar ’23 driven by a strong response to the new HMCL Xoom model, which accounted for 25-30% of overall enquiries in the same period.\n",
            "- **YoY Growth in Enquiries**: In regions like Gujarat, Delhi, and Karnataka, Hero witnessed a YoY enquiry growth of 2-6%, which aligns with the urban demand stability mentioned. \n",
            "- **Inventory Level**: Hero MotoCorp maintains a higher inventory level (50-55 days) relative to its competitors, which might indicate higher readiness to meet potential demand surges post-festive season.\n",
            "- **Strong Financials Performance** (From year-end metrics relocation):\n",
            "  - Total Units Sold: Hero MotoCorp sold a impressive volume of 434,165 units in the current period (YoY change of -3.6%) which showed a recovery of +10.1% using previous performance as a benchmark. This suggests a robust demand and effective market penetration in recent months, comparing with long-term average sales. \n",
            "  - Expanded Market Capture: Hero MotoCorp's units sold has led to an overall revenue scaling by +6.1% YoY showcasing solid financial recovery and profitability.\n",
            "\n",
            "Thus, as assessed from the given data and detailed above, Hero MotoCorp currently leads the 2W sector demonstrating both strong market response to new product offerings and steady sales performance despite broader sectoral challenges. However, it's important to monitor how sustained these gains are, especially concerning consumer response post-festive season and ongoing economic shifts affecting the disposable income.\n",
            "\n",
            " Source Documents:\n",
            "- dataset/sample_data.pdf\n",
            "- dataset/sample_data.pdf\n",
            "- dataset/sample_data.pdf\n",
            "- dataset/sample_data.pdf\n",
            "- dataset/sample_data.pdf\n",
            "\n",
            "Relevant Data:\n",
            "Jinesh Gandhi  – Research Analyst  (Jinesh@MotilalOswal.com)  \n",
            "Research Analyst : Amber  Shukla  (Amber.Shukla@ Motilal Oswal.com ) | Aniket Desai (Aniket .Desai @MotilalOswal.com)  \n",
            " \n",
            "Investors are advised to refer through important disclosures made at the last page of the Research Report.  \n",
            "Motilal Oswal research is available on www.motilaloswal.com/Institutional -Equities, Bloomberg, Thomson Reuters, Factset and S&P Capital.  \n",
            " @ \n",
            " \n",
            " \n",
            "MHCV likely to outperform despite multiple challenges  \n",
            "Initial signs of demand moderati on in PV; expect 2W volumes to grow YoY  \n",
            " Our interaction with leading channel partners indicate s some moderation in \n",
            "demand  due to erratic rainfall during the month , especially in key Northern and \n",
            "central regions and lower enquiries  during the ongoing festive season.  Despite \n",
            "this, retails for both MHCV and 2Ws are expected to grow while PV volume \n",
            "growth is expected to  remain flattish.  We note  that most of the OEMs have\n",
            "5% YoY , largely due to  the impact of  unseasonal rains and low yield s for key \n",
            "crops  such as oni on. In Mar’23, overall wholesale volumes for \n",
            "PV/CV/tractor/3Ws are estimated to grow by 1%/ 1.5%/1 %/8% YoY, while 2Ws \n",
            "are likely to decline 4% YoY.  \n",
            " 2Ws:  Retails are expected to grow 4-6% YoY in Mar ’23 since urban demand is \n",
            "steady and inquiries have improved in certain states during the ongoing Navratri \n",
            "season . However, overall sales  are still do wn by 15 -17% v /s the pre-Covid  level \n",
            "as rural demand remain s weak.  Enquiry levels during the key festival s (Gudi \n",
            "Padwa and Ugadi) varied greatly among  states.  We have noted 2-6% YoY growth \n",
            "in enquiry levels in states like Gujarat, Delhi and Karnataka , while  the same \n",
            "declined by 4-8% in other key states like UP, Bihar  and Maharashtra . The i nitial \n",
            "response to HMCL’ s new launch Xoom (110 cc scooter) has been positi ve as it has \n",
            "accounted for 25-30% of the overall enquiries in Mar’23 . Xoom currently has a\n",
            "response to HMCL’ s new launch Xoom (110 cc scooter) has been positi ve as it has \n",
            "accounted for 25-30% of the overall enquiries in Mar’23 . Xoom currently has a \n",
            "waiting period of 30 days  as dispatches are yet to ramp up . Overall i nventory has \n",
            "now come back to the normal level of 40 -45 days , with HMCL having the highest \n",
            "at 50-55 days , followed by TVSL, BJAUT and HMSI with 25 -35 days. Inventory for \n",
            "RE has inched up to 20 -25 days. We have noted a waiting period of 1 -1.5 months \n",
            "for Hunter and 3 -4 months for Super Meteor 650. We expect dispatches for \n",
            "HMCL/BAJUT (incl 3W)/TVS (in cl 3W) to fall by 4%/5%/5% , while RE’s dispatches  \n",
            "may  grow 10% YoY.      \n",
            " PVs: Mar’23 r etails growth is  expected to be flattish YoY with 0 -2% YoY growth. \n",
            "There has been some moderation  in enquiries led  by muted demand  during \n",
            "ongoing festival s and persistent weakness in  the rural  market . Moreover, rising \n",
            "interest rates have further hampered bookings for low-end models. Although\n",
            "UV's  29,171  28,099  3.8 28,796  1.3 3,63,332  2,27,506  59.7  \n",
            "Hero MotoCorp  4,34,165  4,50,170  -3.6 3,94,460  10.1  52,43,369  49,44,148  6.1 \n",
            "Bajaj Auto  2,81,922  2,97,188  -5.1 2,80,226  0.6 39,16,077  43,08,433  -9.1 \n",
            "  Two -Wheelers  2,33,703  2,56,324  -8.8 2,35,356  -0.7 34,27,405  38,36,856  -10.7  \n",
            "  Three -Wheelers  48,219  40,864  18.0  44,870  7.5 4,88,672  4,71,577  3.6 \n",
            "Domestic  1,64,775  1,26,752  30.0  1,53,291  7.5 20,82,735  18,01,807  15.6  \n",
            "Exports  1,17,146  1,70,436  -31.3  1,26,935  -7.7 18,33,341  25,06,626  -26.9  \n",
            "Ashok Leyland  20,894  20,123  3.8 18,571  12.5  1,89,173  1,28,326  47.4  \n",
            "M&HCV  14,197  13,990  1.5 12,668  12.1  1,21,533  73,885  64.5  \n",
            "LCV  6,697  6,133  9.2 5,903  13.5  67,640  54,441  24 \n",
            "TVS Motor  2,92,177  3,07,954  -5.1 2,76,150  5.8 36,57,093  33,09,578  10.5  \n",
            "Motorcycles  1,37,970  1,60,522  -14.0  1,26,243  9.3 17,29,976  17,31,459  -0.1 \n",
            "Scooters  1,05,785  94,747  11.6  1,04,825  0.9 12,97,275  9,21,939  40.7\n",
            "Automobiles  \n",
            "27 March 2023    4 \n",
            "Comparative valuations               \n",
            "  Rating  Mcap  CMP  TP P/E (x)  EV/ EBITDA (x)  PB (x)  FY25  \n",
            "Yield (%)  EPS CAGR  \n",
            "(%) \n",
            "FY23E -25E Auto OEM's    (INR b)  (INR)  (INR)  FY23E  FY24E  FY25E  FY23E  FY24E  FY25E  FY23E  FY24E  FY25E  Div FCF \n",
            "Bajaj Auto    Neutral  1,077  3,807  4,150  17.9  15.8  14.3  13.0  11.1  10.1  4.4 4.3 4.1 5.5 5.3 11.8  \n",
            "Hero MotoCorp  Buy 462 2,308  2,982  17.2  13.8  12.4  9.1 7.2 6.3 2.8 2.7 2.5 6.1 8.6 17.8  \n",
            "TVS Motor  Neutral  497 1,047  969 34.0  25.6  22.0  18.6  14.2  12.1  8.2 6.5 5.2 0.6 5.0 24.2  \n",
            "Eicher Motors  Buy 789 2,886  3,613  28.2  21.5  17.0  22.3  18.4  15.0  5.4 4.5 3.6 0.9 5.8 28.9  \n",
            "Maruti Suzuki  Buy 2,500  8,275  10,545  31.7  22.7  19.1  19.5  14.2  12.0  4.2 3.7 3.3 1.8 3.9 28.7  \n",
            "M&M  Buy 1,362  1,138  1,524  18.4  14.6  12.8  13.1  10.0  8.4 1.5 1.3 1.1 1.5 7.2 20.2  \n",
            "Tata Motors  Buy 1,577  412 531 -70.3  15.6  12.7  7.3 3.9 3.2 3.6 2.9 2.4 0.0 9.0 #NUM!\n"
          ]
        }
      ],
      "source": [
        "behaviour = '''Think like an expert finance consultant from a top tier firm. Do all the research and analysis for this document.'''\n",
        "prompt_template = 'Keep the answer crisp. Give me as much numbers as you can. Every Statement of yours should be backed with data'\n",
        "stop_prompt = f'Dont hallucinate, if u dont know the answer, tell you dont know'\n",
        "query = f\"Here is the user query : {user_query}. Remember this: {behaviour}. Give me the answers like this: {prompt_template}. Keep this in mind - {stop_prompt}\"\n",
        "llm_response = qa_chain(query)\n",
        "# llm_response\n",
        "process_llm_response(llm_response)"
      ]
    }
  ],
  "metadata": {
    "kernelspec": {
      "display_name": "Python 3",
      "name": "python3"
    },
    "language_info": {
      "codemirror_mode": {
        "name": "ipython",
        "version": 3
      },
      "file_extension": ".py",
      "mimetype": "text/x-python",
      "name": "python",
      "nbconvert_exporter": "python",
      "pygments_lexer": "ipython3",
      "version": "3.10.12"
    },
    "colab": {
      "provenance": [],
      "gpuType": "T4",
      "include_colab_link": true
    }
  },
  "nbformat": 4,
  "nbformat_minor": 0
}