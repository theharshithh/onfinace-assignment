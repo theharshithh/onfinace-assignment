{
  "cells": [
    {
      "cell_type": "markdown",
      "metadata": {
        "id": "view-in-github",
        "colab_type": "text"
      },
      "source": [
        "<a href=\"https://colab.research.google.com/github/theharshithh/onfinace-assignment/blob/main/with_bge_embeds.ipynb\" target=\"_parent\"><img src=\"https://colab.research.google.com/assets/colab-badge.svg\" alt=\"Open In Colab\"/></a>"
      ]
    },
    {
      "cell_type": "code",
      "execution_count": null,
      "metadata": {
        "id": "cA__z7w124oE"
      },
      "outputs": [],
      "source": [
        "import os"
      ]
    },
    {
      "cell_type": "code",
      "execution_count": null,
      "metadata": {
        "id": "E16GzrTO24oF"
      },
      "outputs": [],
      "source": [
        "!pip -q install langchain openai tiktoken chromadb langchain_openai"
      ]
    },
    {
      "cell_type": "code",
      "execution_count": null,
      "metadata": {
        "id": "aC_PvcOz24oG"
      },
      "outputs": [],
      "source": [
        "from langchain.vectorstores import Chroma\n",
        "from langchain.embeddings import OpenAIEmbeddings\n",
        "from langchain.text_splitter import RecursiveCharacterTextSplitter\n",
        "# from langchain_openai import OpenAI depricatred\n",
        "from langchain_openai import ChatOpenAI\n",
        "from langchain.chains import RetrievalQA\n",
        "from langchain.document_loaders import TextLoader\n",
        "from langchain.document_loaders import PyPDFDirectoryLoader\n",
        "from langchain.embeddings import HuggingFaceBgeEmbeddings\n",
        "\n",
        "\n",
        "def read_doc(dir):\n",
        "    file_loader = PyPDFDirectoryLoader(dir)\n",
        "    docs = file_loader.load()\n",
        "    return docs"
      ]
    },
    {
      "cell_type": "markdown",
      "metadata": {
        "id": "fHIxTEVm24oG"
      },
      "source": [
        "loading data to /dataset dir"
      ]
    },
    {
      "cell_type": "code",
      "source": [
        "!pip install pypdf sentence_transformers"
      ],
      "metadata": {
        "colab": {
          "base_uri": "https://localhost:8080/"
        },
        "id": "SaT9Zf4W4hy4",
        "outputId": "2d0abf58-f41d-46a3-ab13-d500ba323e58"
      },
      "execution_count": null,
      "outputs": [
        {
          "output_type": "stream",
          "name": "stdout",
          "text": [
            "Requirement already satisfied: pypdf in /usr/local/lib/python3.10/dist-packages (4.2.0)\n",
            "Collecting sentence_transformers\n",
            "  Downloading sentence_transformers-2.6.1-py3-none-any.whl (163 kB)\n",
            "\u001b[2K     \u001b[90m━━━━━━━━━━━━━━━━━━━━━━━━━━━━━━━━━━━━━━━━\u001b[0m \u001b[32m163.3/163.3 kB\u001b[0m \u001b[31m5.0 MB/s\u001b[0m eta \u001b[36m0:00:00\u001b[0m\n",
            "\u001b[?25hRequirement already satisfied: typing_extensions>=4.0 in /usr/local/lib/python3.10/dist-packages (from pypdf) (4.11.0)\n",
            "Requirement already satisfied: transformers<5.0.0,>=4.32.0 in /usr/local/lib/python3.10/dist-packages (from sentence_transformers) (4.38.2)\n",
            "Requirement already satisfied: tqdm in /usr/local/lib/python3.10/dist-packages (from sentence_transformers) (4.66.2)\n",
            "Requirement already satisfied: torch>=1.11.0 in /usr/local/lib/python3.10/dist-packages (from sentence_transformers) (2.2.1+cu121)\n",
            "Requirement already satisfied: numpy in /usr/local/lib/python3.10/dist-packages (from sentence_transformers) (1.25.2)\n",
            "Requirement already satisfied: scikit-learn in /usr/local/lib/python3.10/dist-packages (from sentence_transformers) (1.2.2)\n",
            "Requirement already satisfied: scipy in /usr/local/lib/python3.10/dist-packages (from sentence_transformers) (1.11.4)\n",
            "Requirement already satisfied: huggingface-hub>=0.15.1 in /usr/local/lib/python3.10/dist-packages (from sentence_transformers) (0.20.3)\n",
            "Requirement already satisfied: Pillow in /usr/local/lib/python3.10/dist-packages (from sentence_transformers) (9.4.0)\n",
            "Requirement already satisfied: filelock in /usr/local/lib/python3.10/dist-packages (from huggingface-hub>=0.15.1->sentence_transformers) (3.13.4)\n",
            "Requirement already satisfied: fsspec>=2023.5.0 in /usr/local/lib/python3.10/dist-packages (from huggingface-hub>=0.15.1->sentence_transformers) (2023.6.0)\n",
            "Requirement already satisfied: requests in /usr/local/lib/python3.10/dist-packages (from huggingface-hub>=0.15.1->sentence_transformers) (2.31.0)\n",
            "Requirement already satisfied: pyyaml>=5.1 in /usr/local/lib/python3.10/dist-packages (from huggingface-hub>=0.15.1->sentence_transformers) (6.0.1)\n",
            "Requirement already satisfied: packaging>=20.9 in /usr/local/lib/python3.10/dist-packages (from huggingface-hub>=0.15.1->sentence_transformers) (23.2)\n",
            "Requirement already satisfied: sympy in /usr/local/lib/python3.10/dist-packages (from torch>=1.11.0->sentence_transformers) (1.12)\n",
            "Requirement already satisfied: networkx in /usr/local/lib/python3.10/dist-packages (from torch>=1.11.0->sentence_transformers) (3.3)\n",
            "Requirement already satisfied: jinja2 in /usr/local/lib/python3.10/dist-packages (from torch>=1.11.0->sentence_transformers) (3.1.3)\n",
            "Collecting nvidia-cuda-nvrtc-cu12==12.1.105 (from torch>=1.11.0->sentence_transformers)\n",
            "  Using cached nvidia_cuda_nvrtc_cu12-12.1.105-py3-none-manylinux1_x86_64.whl (23.7 MB)\n",
            "Collecting nvidia-cuda-runtime-cu12==12.1.105 (from torch>=1.11.0->sentence_transformers)\n",
            "  Using cached nvidia_cuda_runtime_cu12-12.1.105-py3-none-manylinux1_x86_64.whl (823 kB)\n",
            "Collecting nvidia-cuda-cupti-cu12==12.1.105 (from torch>=1.11.0->sentence_transformers)\n",
            "  Using cached nvidia_cuda_cupti_cu12-12.1.105-py3-none-manylinux1_x86_64.whl (14.1 MB)\n",
            "Collecting nvidia-cudnn-cu12==8.9.2.26 (from torch>=1.11.0->sentence_transformers)\n",
            "  Using cached nvidia_cudnn_cu12-8.9.2.26-py3-none-manylinux1_x86_64.whl (731.7 MB)\n",
            "Collecting nvidia-cublas-cu12==12.1.3.1 (from torch>=1.11.0->sentence_transformers)\n",
            "  Using cached nvidia_cublas_cu12-12.1.3.1-py3-none-manylinux1_x86_64.whl (410.6 MB)\n",
            "Collecting nvidia-cufft-cu12==11.0.2.54 (from torch>=1.11.0->sentence_transformers)\n",
            "  Using cached nvidia_cufft_cu12-11.0.2.54-py3-none-manylinux1_x86_64.whl (121.6 MB)\n",
            "Collecting nvidia-curand-cu12==10.3.2.106 (from torch>=1.11.0->sentence_transformers)\n",
            "  Using cached nvidia_curand_cu12-10.3.2.106-py3-none-manylinux1_x86_64.whl (56.5 MB)\n",
            "Collecting nvidia-cusolver-cu12==11.4.5.107 (from torch>=1.11.0->sentence_transformers)\n",
            "  Using cached nvidia_cusolver_cu12-11.4.5.107-py3-none-manylinux1_x86_64.whl (124.2 MB)\n",
            "Collecting nvidia-cusparse-cu12==12.1.0.106 (from torch>=1.11.0->sentence_transformers)\n",
            "  Using cached nvidia_cusparse_cu12-12.1.0.106-py3-none-manylinux1_x86_64.whl (196.0 MB)\n",
            "Collecting nvidia-nccl-cu12==2.19.3 (from torch>=1.11.0->sentence_transformers)\n",
            "  Using cached nvidia_nccl_cu12-2.19.3-py3-none-manylinux1_x86_64.whl (166.0 MB)\n",
            "Collecting nvidia-nvtx-cu12==12.1.105 (from torch>=1.11.0->sentence_transformers)\n",
            "  Using cached nvidia_nvtx_cu12-12.1.105-py3-none-manylinux1_x86_64.whl (99 kB)\n",
            "Requirement already satisfied: triton==2.2.0 in /usr/local/lib/python3.10/dist-packages (from torch>=1.11.0->sentence_transformers) (2.2.0)\n",
            "Collecting nvidia-nvjitlink-cu12 (from nvidia-cusolver-cu12==11.4.5.107->torch>=1.11.0->sentence_transformers)\n",
            "  Using cached nvidia_nvjitlink_cu12-12.4.127-py3-none-manylinux2014_x86_64.whl (21.1 MB)\n",
            "Requirement already satisfied: regex!=2019.12.17 in /usr/local/lib/python3.10/dist-packages (from transformers<5.0.0,>=4.32.0->sentence_transformers) (2023.12.25)\n",
            "Requirement already satisfied: tokenizers<0.19,>=0.14 in /usr/local/lib/python3.10/dist-packages (from transformers<5.0.0,>=4.32.0->sentence_transformers) (0.15.2)\n",
            "Requirement already satisfied: safetensors>=0.4.1 in /usr/local/lib/python3.10/dist-packages (from transformers<5.0.0,>=4.32.0->sentence_transformers) (0.4.2)\n",
            "Requirement already satisfied: joblib>=1.1.1 in /usr/local/lib/python3.10/dist-packages (from scikit-learn->sentence_transformers) (1.4.0)\n",
            "Requirement already satisfied: threadpoolctl>=2.0.0 in /usr/local/lib/python3.10/dist-packages (from scikit-learn->sentence_transformers) (3.4.0)\n",
            "Requirement already satisfied: MarkupSafe>=2.0 in /usr/local/lib/python3.10/dist-packages (from jinja2->torch>=1.11.0->sentence_transformers) (2.1.5)\n",
            "Requirement already satisfied: charset-normalizer<4,>=2 in /usr/local/lib/python3.10/dist-packages (from requests->huggingface-hub>=0.15.1->sentence_transformers) (3.3.2)\n",
            "Requirement already satisfied: idna<4,>=2.5 in /usr/local/lib/python3.10/dist-packages (from requests->huggingface-hub>=0.15.1->sentence_transformers) (3.6)\n",
            "Requirement already satisfied: urllib3<3,>=1.21.1 in /usr/local/lib/python3.10/dist-packages (from requests->huggingface-hub>=0.15.1->sentence_transformers) (2.0.7)\n",
            "Requirement already satisfied: certifi>=2017.4.17 in /usr/local/lib/python3.10/dist-packages (from requests->huggingface-hub>=0.15.1->sentence_transformers) (2024.2.2)\n",
            "Requirement already satisfied: mpmath>=0.19 in /usr/local/lib/python3.10/dist-packages (from sympy->torch>=1.11.0->sentence_transformers) (1.3.0)\n",
            "Installing collected packages: nvidia-nvtx-cu12, nvidia-nvjitlink-cu12, nvidia-nccl-cu12, nvidia-curand-cu12, nvidia-cufft-cu12, nvidia-cuda-runtime-cu12, nvidia-cuda-nvrtc-cu12, nvidia-cuda-cupti-cu12, nvidia-cublas-cu12, nvidia-cusparse-cu12, nvidia-cudnn-cu12, nvidia-cusolver-cu12, sentence_transformers\n",
            "Successfully installed nvidia-cublas-cu12-12.1.3.1 nvidia-cuda-cupti-cu12-12.1.105 nvidia-cuda-nvrtc-cu12-12.1.105 nvidia-cuda-runtime-cu12-12.1.105 nvidia-cudnn-cu12-8.9.2.26 nvidia-cufft-cu12-11.0.2.54 nvidia-curand-cu12-10.3.2.106 nvidia-cusolver-cu12-11.4.5.107 nvidia-cusparse-cu12-12.1.0.106 nvidia-nccl-cu12-2.19.3 nvidia-nvjitlink-cu12-12.4.127 nvidia-nvtx-cu12-12.1.105 sentence_transformers-2.6.1\n"
          ]
        }
      ]
    },
    {
      "cell_type": "code",
      "execution_count": null,
      "metadata": {
        "id": "S5fL2M3j24oG"
      },
      "outputs": [],
      "source": [
        "primary_data = read_doc('dataset/')\n",
        "primary_data"
      ]
    },
    {
      "cell_type": "markdown",
      "metadata": {
        "id": "jPppZ8Nc24oH"
      },
      "source": [
        "creating chunks for the `primary_data`"
      ]
    },
    {
      "cell_type": "code",
      "execution_count": null,
      "metadata": {
        "id": "oSdzvCZB24oH"
      },
      "outputs": [],
      "source": [
        "text_splitter = RecursiveCharacterTextSplitter(chunk_size=1000, chunk_overlap=200)\n",
        "spilit_texts = text_splitter.split_documents(primary_data)"
      ]
    },
    {
      "cell_type": "markdown",
      "metadata": {
        "id": "ii2pgiH024oH"
      },
      "source": [
        "## create the embeddings using hf ede by baai"
      ]
    },
    {
      "cell_type": "code",
      "execution_count": null,
      "metadata": {
        "id": "D5EsshWq24oH"
      },
      "outputs": [],
      "source": [
        "#hugging face bge embeddings\n",
        "model_name = \"BAAI/bge-base-en\"\n",
        "encode_kwargs = {'normalize_embeddings': True} # set True to compute cosine similarity\n",
        "\n",
        "model_norm = HuggingFaceBgeEmbeddings(\n",
        "    model_name=model_name,\n",
        "    model_kwargs={'device': 'cuda'},\n",
        "    encode_kwargs=encode_kwargs\n",
        ")"
      ]
    },
    {
      "cell_type": "markdown",
      "metadata": {
        "id": "_ni2y9GD24oH"
      },
      "source": [
        "change of embeddings from `OpenAIEmbeddings()` to bge-embeddings"
      ]
    },
    {
      "cell_type": "code",
      "execution_count": null,
      "metadata": {
        "id": "h-1iqLhz24oH"
      },
      "outputs": [],
      "source": [
        "persist_directory = 'db-on'\n",
        "\n",
        "#openai embeddings -> converts texts to vecs\n",
        "# embedding = OpenAIEmbeddings()\n",
        "embedding = model_norm\n",
        "#load the spilt chunk vectors into the vectordb\n",
        "vectordb = Chroma.from_documents(documents=spilit_texts, embedding=embedding, persist_directory=persist_directory)\n",
        "vectordb.persist()\n",
        "vectordb = None\n",
        "vectordb = Chroma(persist_directory=persist_directory, embedding_function=embedding)"
      ]
    },
    {
      "cell_type": "code",
      "execution_count": null,
      "metadata": {
        "id": "lMP5adFc24oI"
      },
      "outputs": [],
      "source": [
        "vectordb = Chroma(persist_directory=persist_directory, embedding_function=embedding)"
      ]
    },
    {
      "cell_type": "code",
      "execution_count": null,
      "metadata": {
        "id": "3trCy_oI24oI"
      },
      "outputs": [],
      "source": [
        "\n",
        "user_query = 'Considering 2 wheeler demand, who seems to be the segment winner?'"
      ]
    },
    {
      "cell_type": "code",
      "execution_count": null,
      "metadata": {
        "colab": {
          "base_uri": "https://localhost:8080/"
        },
        "id": "vvH_lysS24oI",
        "outputId": "53694c0f-b3e1-4f12-94b0-a2ffd4bff100"
      },
      "outputs": [
        {
          "output_type": "execute_result",
          "data": {
            "text/plain": [
              "[Document(page_content=\"UV's  29,171  28,099  3.8 28,796  1.3 3,63,332  2,27,506  59.7  \\nHero MotoCorp  4,34,165  4,50,170  -3.6 3,94,460  10.1  52,43,369  49,44,148  6.1 \\nBajaj Auto  2,81,922  2,97,188  -5.1 2,80,226  0.6 39,16,077  43,08,433  -9.1 \\n  Two -Wheelers  2,33,703  2,56,324  -8.8 2,35,356  -0.7 34,27,405  38,36,856  -10.7  \\n  Three -Wheelers  48,219  40,864  18.0  44,870  7.5 4,88,672  4,71,577  3.6 \\nDomestic  1,64,775  1,26,752  30.0  1,53,291  7.5 20,82,735  18,01,807  15.6  \\nExports  1,17,146  1,70,436  -31.3  1,26,935  -7.7 18,33,341  25,06,626  -26.9  \\nAshok Leyland  20,894  20,123  3.8 18,571  12.5  1,89,173  1,28,326  47.4  \\nM&HCV  14,197  13,990  1.5 12,668  12.1  1,21,533  73,885  64.5  \\nLCV  6,697  6,133  9.2 5,903  13.5  67,640  54,441  24 \\nTVS Motor  2,92,177  3,07,954  -5.1 2,76,150  5.8 36,57,093  33,09,578  10.5  \\nMotorcycles  1,37,970  1,60,522  -14.0  1,26,243  9.3 17,29,976  17,31,459  -0.1 \\nScooters  1,05,785  94,747  11.6  1,04,825  0.9 12,97,275  9,21,939  40.7\", metadata={'page': 2, 'source': 'dataset/sample_data.pdf'}),\n",
              " Document(page_content='this, retails for both MHCV and 2Ws are expected to grow while PV volume \\ngrowth is expected to  remain flattish.  We note  that most of the OEMs have \\nalready announced price hikes for their OBD -2 norm -compliant vehicles , with \\nCVs leading the pack  (up to 5%  hike ). We expect 2W retails to grow 4 -6% YoY in \\nMar’23, with  enquiry levels during festival s (Gudi Padwa and Ugadi ) varying \\ngreatly among states. On the other hand, PV retail  growth is  expected to remain \\nflattish (0 -2% YoY) . We note that Fronx and Jimn y have received bookings of \\nover 40k units so far. Demand momentum for MHCVs remain robust resulti ng in \\nretail growth of 10 -12% YoY while LCV volumes are expected to decline 8 -10% \\nYoY led by weak momentum in rural . For tractors, w e expect retails  to decline 3-\\n5% YoY , largely due to  the impact of  unseasonal rains and low yield s for key \\ncrops  such as oni on. In Mar’23, overall wholesale volumes for', metadata={'page': 0, 'source': 'dataset/sample_data.pdf'}),\n",
              " Document(page_content=\"Export  16,427  26,496  -38.0  17,207  -4.5 2,45,641  2,38,376  3.0 \\nMahindra & Mahindra  94,804  84,406  12.3  84,592  12.1  10,99,710  8,20,299  34.1  \\n   UV (incl. pick -ups)  57,637  49,771  15.8  52,364  10.1  6,28,612  4,29,087  46.5  \\n   LCV & M&HCV  833 829 0.5 1,087  -23.3  9,410  6,435  46.2  \\n   Three -Wheelers  6,282  4,043  55.4  5,350  17.4  59,105  30,079  96.5  \\n   Tractors  30,051  29,763  1.0 25,791  16.5  4,02,582  3,54,698  13.5  \\nTata Motors  87,709  86,561  1.3 79,705  10.0  9,51,287  7,26,191  31.0  \\n   HCV's  22,589  23,238  -2.8 17,928  26.0  1,78,195  1,44,500  23.3  \\n   LCV's  21,485  20,855  3.0 18,637  15.3  2,32,595  2,09,515  11.0  \\n   CV's  44,074  44,093  0.0 36,565  20.5  4,10,790  3,54,015  16.0  \\n   Cars  14,463  14,369  0.7 14,344  0.8 1,77,165  1,44,670  22.5  \\n   UV's  29,171  28,099  3.8 28,796  1.3 3,63,332  2,27,506  59.7  \\nHero MotoCorp  4,34,165  4,50,170  -3.6 3,94,460  10.1  52,43,369  49,44,148  6.1\", metadata={'page': 2, 'source': 'dataset/sample_data.pdf'}),\n",
              " Document(page_content='Automobiles  \\n27 March 2023    2 \\nApr’23 . Despite some moderation in demand in last two months, discounts \\nremain muted.  We expect dispatches for MSIL to fall 3%, while dispatche s for \\nMM ( incl pickups)/TTMT PV to grow 16%/3% YoY.  \\n\\uf06e CVs:  Our channel checks suggest MHCV retails  to grow 10 -12% YoY  in Mar’23  led \\nby healthy fleet utilization  driven by infra -led demand and pre -buying before \\nOBD -2 transition.  However , a broad -based recovery has not yet materialized as \\nreplacement demand is yet to reflect completely.  Our interaction suggests  the \\neffect of higher borrowing rates have begun to reflect  in bookings  to some \\nextent . LCV retails, on the other hand  are expected to decline 8 -10% YoY due to \\nsubdued demand in rural. Inventory level has increased to over 30 days from  \\naverage 20 -25 days in the last two months , partly due to transition to RDE \\nnorms . While  TTMT has already announced a price hike of up to 5% for its BS6', metadata={'page': 1, 'source': 'dataset/sample_data.pdf'})]"
            ]
          },
          "metadata": {},
          "execution_count": 18
        }
      ],
      "source": [
        "retriever = vectordb.as_retriever()\n",
        "docs = retriever.get_relevant_documents(user_query)\n",
        "#getting the relevant docs for the user query\n",
        "docs"
      ]
    },
    {
      "cell_type": "code",
      "execution_count": null,
      "metadata": {
        "id": "BGxEISZu24oI"
      },
      "outputs": [],
      "source": [
        "retriever = vectordb.as_retriever(search_kwargs={\"k\": 5})"
      ]
    },
    {
      "cell_type": "code",
      "source": [
        "from google.colab import userdata\n",
        "openai_api_key = userdata.get('OPENAI_API_KEY')"
      ],
      "metadata": {
        "id": "dkq6dF1860EN"
      },
      "execution_count": null,
      "outputs": []
    },
    {
      "cell_type": "markdown",
      "metadata": {
        "id": "9KscvzPA24oI"
      },
      "source": [
        "### LLM chain"
      ]
    },
    {
      "cell_type": "code",
      "execution_count": null,
      "metadata": {
        "id": "6MSnUSES24oI"
      },
      "outputs": [],
      "source": [
        "# create the chain to answer questions\n",
        "qa_chain = RetrievalQA.from_chain_type(llm=ChatOpenAI(openai_api_key=openai_api_key,model=\"gpt-4-turbo\", temperature=1.2 ), chain_type=\"stuff\", retriever=retriever, return_source_documents=True)"
      ]
    },
    {
      "cell_type": "code",
      "execution_count": null,
      "metadata": {
        "id": "lpGoJ7qn24oI"
      },
      "outputs": [],
      "source": [
        "def process_llm_response(llm_response):\n",
        "    print(\"Decision:\")\n",
        "    print(llm_response['result'])\n",
        "\n",
        "    print(\"\\n Source Documents:\")\n",
        "    for source in llm_response[\"source_documents\"]:\n",
        "        print(\"- \" + source.metadata['source'])\n",
        "\n",
        "    print(\"\\nRelevant Data:\")\n",
        "    for source in llm_response[\"source_documents\"]:\n",
        "        print(source.page_content)"
      ]
    },
    {
      "cell_type": "code",
      "execution_count": null,
      "metadata": {
        "colab": {
          "base_uri": "https://localhost:8080/"
        },
        "id": "QoW-KIN724oI",
        "outputId": "bd4eded2-ba76-4b27-c40e-ce2935c52e2c"
      },
      "outputs": [
        {
          "output_type": "stream",
          "name": "stdout",
          "text": [
            "Decision:\n",
            "Reviewing the sales metric data provided for various companies in the two-wheeler segment, Hero MotoCorp stands out despite a brief decline in performance. \n",
            "\n",
            "1. **Hero MotoCorp** observed significant overall sales volumes despite a year-on-year decline. They sold 434,165 units in the recent reported period compared to 450,170 units in the prior corresponding period, reflecting a decrease of roughly 3.6%. However, on a sequential basis, there was an impressive recovery (from 394,460 in a previous period), and they have achieved a cumulative growth of 6.1% year-over-year.\n",
            "\n",
            "2. In comparison, **TVS Motor** reports sales of motorcycles at 137,970, witnessing a 14% decrease while scooters improved by 11.6% to 106,785 units. The negative growth in motorcycles might signal a concerning trend, albeit compensated by the growth in the scooter segment.\n",
            "\n",
            "3. **Bajaj Auto**, in collaboration with exported sales figures, reported a year-on-year decrease by 5.1% in overall delivery.\n",
            "\n",
            "Given these figures, while Hero MotoCorp reported a downturn short term, their broader strategic picture keeps them at the forefront of the two-wheeler segment overall by sheer volume of sales and visible recovery indicators in(month-to-month improvements). This suggests resilience and a possibly larger share or retention of customer base comparing cumulative sales growth amongst their peers. However, the specifics of market segment share—possibly in more lucrative categories such as scooters that have seen growth among competitors—would require additional sales breakdown information that isn’t provided here. Thus, without more precise segment data, attributing market leadership in specific categories (like motorcycles versus scooters) would be challenging.\n",
            "\n",
            " Source Documents:\n",
            "- dataset/sample_data.pdf\n",
            "- dataset/sample_data.pdf\n",
            "- dataset/sample_data.pdf\n",
            "- dataset/sample_data.pdf\n",
            "- dataset/sample_data.pdf\n",
            "\n",
            "Relevant Data:\n",
            "UV's  29,171  28,099  3.8 28,796  1.3 3,63,332  2,27,506  59.7  \n",
            "Hero MotoCorp  4,34,165  4,50,170  -3.6 3,94,460  10.1  52,43,369  49,44,148  6.1 \n",
            "Bajaj Auto  2,81,922  2,97,188  -5.1 2,80,226  0.6 39,16,077  43,08,433  -9.1 \n",
            "  Two -Wheelers  2,33,703  2,56,324  -8.8 2,35,356  -0.7 34,27,405  38,36,856  -10.7  \n",
            "  Three -Wheelers  48,219  40,864  18.0  44,870  7.5 4,88,672  4,71,577  3.6 \n",
            "Domestic  1,64,775  1,26,752  30.0  1,53,291  7.5 20,82,735  18,01,807  15.6  \n",
            "Exports  1,17,146  1,70,436  -31.3  1,26,935  -7.7 18,33,341  25,06,626  -26.9  \n",
            "Ashok Leyland  20,894  20,123  3.8 18,571  12.5  1,89,173  1,28,326  47.4  \n",
            "M&HCV  14,197  13,990  1.5 12,668  12.1  1,21,533  73,885  64.5  \n",
            "LCV  6,697  6,133  9.2 5,903  13.5  67,640  54,441  24 \n",
            "TVS Motor  2,92,177  3,07,954  -5.1 2,76,150  5.8 36,57,093  33,09,578  10.5  \n",
            "Motorcycles  1,37,970  1,60,522  -14.0  1,26,243  9.3 17,29,976  17,31,459  -0.1 \n",
            "Scooters  1,05,785  94,747  11.6  1,04,825  0.9 12,97,275  9,21,939  40.7\n",
            "Export  16,427  26,496  -38.0  17,207  -4.5 2,45,641  2,38,376  3.0 \n",
            "Mahindra & Mahindra  94,804  84,406  12.3  84,592  12.1  10,99,710  8,20,299  34.1  \n",
            "   UV (incl. pick -ups)  57,637  49,771  15.8  52,364  10.1  6,28,612  4,29,087  46.5  \n",
            "   LCV & M&HCV  833 829 0.5 1,087  -23.3  9,410  6,435  46.2  \n",
            "   Three -Wheelers  6,282  4,043  55.4  5,350  17.4  59,105  30,079  96.5  \n",
            "   Tractors  30,051  29,763  1.0 25,791  16.5  4,02,582  3,54,698  13.5  \n",
            "Tata Motors  87,709  86,561  1.3 79,705  10.0  9,51,287  7,26,191  31.0  \n",
            "   HCV's  22,589  23,238  -2.8 17,928  26.0  1,78,195  1,44,500  23.3  \n",
            "   LCV's  21,485  20,855  3.0 18,637  15.3  2,32,595  2,09,515  11.0  \n",
            "   CV's  44,074  44,093  0.0 36,565  20.5  4,10,790  3,54,015  16.0  \n",
            "   Cars  14,463  14,369  0.7 14,344  0.8 1,77,165  1,44,670  22.5  \n",
            "   UV's  29,171  28,099  3.8 28,796  1.3 3,63,332  2,27,506  59.7  \n",
            "Hero MotoCorp  4,34,165  4,50,170  -3.6 3,94,460  10.1  52,43,369  49,44,148  6.1\n",
            "Endurance Tech  Buy 167 1,190  1,625  33.5  22.3  19.1  15.8  11.6  9.9 3.9 3.5 3.1 1.3 3.9 32.3  \n",
            "SAMIL  Buy 434 64 100 30.8  16.3  12.2  9.0 6.2 4.7 2.0 1.9 1.7 2.5 12.3  59.1  \n",
            "Mahindra CIE  Buy 129 341 450 18.9  14.5  12.4  11.3  8.8 7.3 2.5 2.2 1.9 1.3 6.0 23.3  \n",
            "CEAT  Buy 55 1,369  1,860  33.7  11.5  9.1 8.4 5.1 4.1 1.6 1.5 1.3 0.9 12.4  93.0  \n",
            "Balkrishna Ind  Neutral  374 1,937  2,035  36.9  23.8  20.1  19.6  14.2  12.1  5.0 4.4 3.8 1.8 3.5 35.4  \n",
            "MRF  Sell 354 83,603  75,000  52.4  26.8  20.2  16.2  11.0  8.9 2.4 2.2 2.0 0.2 3.2 60.9  \n",
            "Apollo Tyres  Buy 195 307 395 17.3  12.1  9.7 6.6 5.0 4.0 1.4 1.3 1.2 1.5 12.9  34.1  \n",
            "Sona BLW  Neutral  242 415 485 60.0  41.1  32.4  37.8  26.3  21.2  10.5  8.9 7.4 0.9 1.9 36.0  \n",
            "Tube Investments  Buy 468 2,495  3,194  37.4  30.4  24.5  27.1  22.5  18.1  12.2  9.6 7.5 0.4 4.3 23.5  \n",
            "MSUMI  Buy 209 47 73 42.8  25.9  21.6  28.2  17.7  14.8  15.7  11.0  8.5 2.2 4.2 41.0\n",
            "response to HMCL’ s new launch Xoom (110 cc scooter) has been positi ve as it has \n",
            "accounted for 25-30% of the overall enquiries in Mar’23 . Xoom currently has a \n",
            "waiting period of 30 days  as dispatches are yet to ramp up . Overall i nventory has \n",
            "now come back to the normal level of 40 -45 days , with HMCL having the highest \n",
            "at 50-55 days , followed by TVSL, BJAUT and HMSI with 25 -35 days. Inventory for \n",
            "RE has inched up to 20 -25 days. We have noted a waiting period of 1 -1.5 months \n",
            "for Hunter and 3 -4 months for Super Meteor 650. We expect dispatches for \n",
            "HMCL/BAJUT (incl 3W)/TVS (in cl 3W) to fall by 4%/5%/5% , while RE’s dispatches  \n",
            "may  grow 10% YoY.      \n",
            " PVs: Mar’23 r etails growth is  expected to be flattish YoY with 0 -2% YoY growth. \n",
            "There has been some moderation  in enquiries led  by muted demand  during \n",
            "ongoing festival s and persistent weakness in  the rural  market . Moreover, rising \n",
            "interest rates have further hampered bookings for low-end models. Although\n",
            "Automobiles  \n",
            "27 March 2023    2 \n",
            "Apr’23 . Despite some moderation in demand in last two months, discounts \n",
            "remain muted.  We expect dispatches for MSIL to fall 3%, while dispatche s for \n",
            "MM ( incl pickups)/TTMT PV to grow 16%/3% YoY.  \n",
            " CVs:  Our channel checks suggest MHCV retails  to grow 10 -12% YoY  in Mar’23  led \n",
            "by healthy fleet utilization  driven by infra -led demand and pre -buying before \n",
            "OBD -2 transition.  However , a broad -based recovery has not yet materialized as \n",
            "replacement demand is yet to reflect completely.  Our interaction suggests  the \n",
            "effect of higher borrowing rates have begun to reflect  in bookings  to some \n",
            "extent . LCV retails, on the other hand  are expected to decline 8 -10% YoY due to \n",
            "subdued demand in rural. Inventory level has increased to over 30 days from  \n",
            "average 20 -25 days in the last two months , partly due to transition to RDE \n",
            "norms . While  TTMT has already announced a price hike of up to 5% for its BS6\n"
          ]
        }
      ],
      "source": [
        "behaviour = '''Think like an expert finance consultant from a top tier firm. Do all the research and analysis for this document.'''\n",
        "prompt_template = 'Keep the answer crisp. Give me as much numbers as you can. Every Statement of yours should be backed with data'\n",
        "stop_prompt = f'Dont hallucinate, if u dont know the answer, tell you dont know'\n",
        "query = f\"Here is the user query : {user_query}. Remember this: {behaviour}. Give me the answers like this: {prompt_template}. Keep this in mind - {stop_prompt}\"\n",
        "llm_response = qa_chain(query)\n",
        "# llm_response\n",
        "process_llm_response(llm_response)"
      ]
    }
  ],
  "metadata": {
    "kernelspec": {
      "display_name": "Python 3",
      "name": "python3"
    },
    "language_info": {
      "codemirror_mode": {
        "name": "ipython",
        "version": 3
      },
      "file_extension": ".py",
      "mimetype": "text/x-python",
      "name": "python",
      "nbconvert_exporter": "python",
      "pygments_lexer": "ipython3",
      "version": "3.10.12"
    },
    "colab": {
      "provenance": [],
      "gpuType": "T4",
      "include_colab_link": true
    },
    "accelerator": "GPU"
  },
  "nbformat": 4,
  "nbformat_minor": 0
}
