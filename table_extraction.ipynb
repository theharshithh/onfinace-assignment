{
 "cells": [
  {
   "cell_type": "code",
   "execution_count": 1,
   "metadata": {},
   "outputs": [],
   "source": [
    "import os\n",
    "from unstructured.partition.pdf import partition_pdf\n",
    "from unstructured.staging.base import elements_to_json"
   ]
  },
  {
   "cell_type": "code",
   "execution_count": 105,
   "metadata": {},
   "outputs": [],
   "source": [
    "\n",
    "filename = \"dataset/sample_data.pdf\"\n",
    "\n",
    "elements = partition_pdf(\n",
    "    filename=filename,\n",
    "    strategy=\"hi_res\", \n",
    "    infer_table_structure=True, \n",
    "    model_name=\"yolox\"\n",
    ")\n"
   ]
  },
  {
   "cell_type": "code",
   "execution_count": 106,
   "metadata": {},
   "outputs": [
    {
     "data": {
      "text/plain": [
       "[<unstructured.documents.elements.Image at 0x7988e67dd240>,\n",
       " <unstructured.documents.elements.Image at 0x7988e724a4a0>,\n",
       " <unstructured.documents.elements.Text at 0x7988e6e8ba00>,\n",
       " <unstructured.documents.elements.NarrativeText at 0x7988e6e8b010>,\n",
       " <unstructured.documents.elements.ListItem at 0x7988e7248160>,\n",
       " <unstructured.documents.elements.Image at 0x7988e72487f0>,\n",
       " <unstructured.documents.elements.ListItem at 0x7988e724a7d0>,\n",
       " <unstructured.documents.elements.ListItem at 0x7988e7249fc0>,\n",
       " <unstructured.documents.elements.Image at 0x7988e724ba60>,\n",
       " <unstructured.documents.elements.NarrativeText at 0x7988e6e88d90>,\n",
       " <unstructured.documents.elements.Image at 0x7988e78cfca0>,\n",
       " <unstructured.documents.elements.Header at 0x7988e6772830>,\n",
       " <unstructured.documents.elements.Image at 0x7988e6772dd0>,\n",
       " <unstructured.documents.elements.NarrativeText at 0x7988e6770490>,\n",
       " <unstructured.documents.elements.Title at 0x7988e6e8ada0>,\n",
       " <unstructured.documents.elements.NarrativeText at 0x7988e6770130>,\n",
       " <unstructured.documents.elements.ListItem at 0x7988e67728c0>,\n",
       " <unstructured.documents.elements.ListItem at 0x7988e6773bb0>,\n",
       " <unstructured.documents.elements.ListItem at 0x7988e6771540>,\n",
       " <unstructured.documents.elements.Text at 0x7988e6e8ad70>,\n",
       " <unstructured.documents.elements.Title at 0x7988e6770df0>,\n",
       " <unstructured.documents.elements.Image at 0x7988e6770a90>,\n",
       " <unstructured.documents.elements.Title at 0x7988e67735b0>,\n",
       " <unstructured.documents.elements.Title at 0x7988e6e88940>,\n",
       " <unstructured.documents.elements.Title at 0x7988e6e8a1d0>,\n",
       " <unstructured.documents.elements.Table at 0x7988e67701f0>,\n",
       " <unstructured.documents.elements.Title at 0x7988e6e891b0>,\n",
       " <unstructured.documents.elements.NarrativeText at 0x7988e6e8a920>,\n",
       " <unstructured.documents.elements.Text at 0x7988e6e88df0>,\n",
       " <unstructured.documents.elements.NarrativeText at 0x7988e6e8b130>,\n",
       " <unstructured.documents.elements.Header at 0x7988e6771e10>,\n",
       " <unstructured.documents.elements.Text at 0x7988e6e8add0>,\n",
       " <unstructured.documents.elements.Title at 0x7988e6e8ab60>,\n",
       " <unstructured.documents.elements.Image at 0x7988e6e8b2b0>,\n",
       " <unstructured.documents.elements.Title at 0x7988e6e8a170>,\n",
       " <unstructured.documents.elements.Table at 0x7988e6e8b3a0>,\n",
       " <unstructured.documents.elements.Text at 0x7988e6e885e0>,\n",
       " <unstructured.documents.elements.Text at 0x7988e6e8b5e0>,\n",
       " <unstructured.documents.elements.Text at 0x7988e6e8b760>,\n",
       " <unstructured.documents.elements.Text at 0x7988e6e89ba0>,\n",
       " <unstructured.documents.elements.Text at 0x7988e6e8b550>,\n",
       " <unstructured.documents.elements.Title at 0x7988e6e89b70>,\n",
       " <unstructured.documents.elements.Text at 0x7988e6e8a260>,\n",
       " <unstructured.documents.elements.Title at 0x7988e6e886a0>,\n",
       " <unstructured.documents.elements.Text at 0x7988e6e882e0>,\n",
       " <unstructured.documents.elements.Text at 0x7988e6e88f10>,\n",
       " <unstructured.documents.elements.Text at 0x7988e6e8a4d0>,\n",
       " <unstructured.documents.elements.NarrativeText at 0x7988e6e8a5c0>,\n",
       " <unstructured.documents.elements.Header at 0x7988e6e8b850>,\n",
       " <unstructured.documents.elements.Text at 0x7988e6e89120>,\n",
       " <unstructured.documents.elements.Text at 0x7988e6e8a980>,\n",
       " <unstructured.documents.elements.Header at 0x7988e6e89960>,\n",
       " <unstructured.documents.elements.Image at 0x7988e6e89db0>,\n",
       " <unstructured.documents.elements.NarrativeText at 0x7988e6e88910>,\n",
       " <unstructured.documents.elements.Title at 0x7988e6e8ab30>,\n",
       " <unstructured.documents.elements.Header at 0x7988e6e89510>,\n",
       " <unstructured.documents.elements.Text at 0x7988e6e89ff0>,\n",
       " <unstructured.documents.elements.Title at 0x7988e75aa800>,\n",
       " <unstructured.documents.elements.Image at 0x7988e75aa920>,\n",
       " <unstructured.documents.elements.Header at 0x7988e75a8f10>,\n",
       " <unstructured.documents.elements.Table at 0x7988e75a83a0>,\n",
       " <unstructured.documents.elements.Text at 0x7988e6e88cd0>,\n",
       " <unstructured.documents.elements.NarrativeText at 0x7988e6e88640>,\n",
       " <unstructured.documents.elements.NarrativeText at 0x7988e75ab760>,\n",
       " <unstructured.documents.elements.NarrativeText at 0x7988e6e89c60>,\n",
       " <unstructured.documents.elements.NarrativeText at 0x7988e7517af0>,\n",
       " <unstructured.documents.elements.NarrativeText at 0x7988e7514610>,\n",
       " <unstructured.documents.elements.NarrativeText at 0x7988e75168c0>,\n",
       " <unstructured.documents.elements.NarrativeText at 0x7988e6e89f90>,\n",
       " <unstructured.documents.elements.NarrativeText at 0x7988e6e892a0>,\n",
       " <unstructured.documents.elements.NarrativeText at 0x7988e6e884c0>,\n",
       " <unstructured.documents.elements.NarrativeText at 0x7988e7515000>,\n",
       " <unstructured.documents.elements.NarrativeText at 0x7988e6e8b040>,\n",
       " <unstructured.documents.elements.NarrativeText at 0x7988e6e8a140>,\n",
       " <unstructured.documents.elements.Title at 0x7988e6e88100>,\n",
       " <unstructured.documents.elements.NarrativeText at 0x7988e6e8b400>,\n",
       " <unstructured.documents.elements.NarrativeText at 0x7988e7a269b0>,\n",
       " <unstructured.documents.elements.NarrativeText at 0x7988e7a27250>,\n",
       " <unstructured.documents.elements.NarrativeText at 0x7988e7a26d70>,\n",
       " <unstructured.documents.elements.NarrativeText at 0x7988e7a271c0>,\n",
       " <unstructured.documents.elements.Title at 0x7988e7a240a0>,\n",
       " <unstructured.documents.elements.NarrativeText at 0x7988e7a27100>,\n",
       " <unstructured.documents.elements.NarrativeText at 0x7988e7a263e0>,\n",
       " <unstructured.documents.elements.NarrativeText at 0x7989e2ed05e0>,\n",
       " <unstructured.documents.elements.Footer at 0x7988e75dad70>,\n",
       " <unstructured.documents.elements.Text at 0x7988e6e8bee0>]"
      ]
     },
     "execution_count": 106,
     "metadata": {},
     "output_type": "execute_result"
    }
   ],
   "source": [
    "elements"
   ]
  },
  {
   "cell_type": "code",
   "execution_count": 108,
   "metadata": {},
   "outputs": [
    {
     "data": {
      "text/plain": [
       "'<table><thead><th>ympany Sales</th><th>Mar-23</th><th>Mar-22</th><th>YOY (%) chg</th><th>Feb-23</th><th>MoM (%) chg</th><th>FY23E</th><th>ry22</th><th>(%) chg</th></thead><tr><td>aruti Suzuki</td><td>164812</td><td>1,70,395</td><td>-3.3</td><td>172,321.</td><td>-4.4</td><td>19,60,905</td><td>16,52,653</td><td>18.7</td></tr><tr><td>Vs</td><td>3,887</td><td>3,797</td><td>2.4</td><td>3356</td><td>15.8</td><td>37,869</td><td>33,812</td><td>12.0</td></tr><tr><td>ans</td><td>11,901</td><td>9,221</td><td>29.1</td><td>11,352.</td><td>«4.8</td><td>131,097</td><td>1,08,345</td><td>21.0</td></tr><tr><td>ini Segment</td><td>20,020</td><td>15,491</td><td>29.2</td><td>21,875</td><td>-8.5</td><td>2,41,349</td><td>2,11,762</td><td>14.0</td></tr><tr><td>»mpact (incl Dzire Tour)</td><td>74,673</td><td>84,761</td><td>-11.9</td><td>81,325</td><td>8.2</td><td>895,245</td><td>7,26,443</td><td>23.2</td></tr><tr><td>id-Size - CIAZ</td><td>972</td><td>1,834</td><td>-47.0</td><td>792</td><td>(22.7</td><td>14,282</td><td>15,869</td><td>-10.0</td></tr><tr><td>Vs</td><td>36,931</td><td>28,795</td><td>28.3</td><td>36,414</td><td>1.4</td><td>395,421</td><td>3,18,046</td><td>24.3</td></tr><tr><td>omestic</td><td>148,385</td><td>1,43,899</td><td>3.1</td><td>155,114</td><td>-4.3</td><td>17,15,264</td><td>14,14,277</td><td>21.3</td></tr><tr><td>port</td><td>16,427</td><td>26,496</td><td>-38.0</td><td>17,207</td><td>-4.5</td><td>245,641</td><td>2,38,376</td><td>3.0</td></tr><tr><td>ahindra &amp; Mahindra</td><td>94,804</td><td>84,406</td><td>12.3</td><td>84,592</td><td>12.1</td><td>10,993,710</td><td>8,20,299</td><td>34.1</td></tr><tr><td>UV (incl. pick-ups)</td><td>57,637</td><td>49,771</td><td>15.8</td><td>52,364</td><td>10.1</td><td>628,612</td><td>4,29,087</td><td>46.5</td></tr><tr><td>LCV &amp; M&amp;HCV</td><td>833</td><td></td><td>8290.5</td><td>1,087</td><td>23.3</td><td>9,410</td><td>6435</td><td>46.2</td></tr><tr><td>Three-Wheelers</td><td>6,282</td><td>4,043</td><td>55.4</td><td>5350</td><td>17.4</td><td>59,105</td><td>30,079</td><td>96.5</td></tr><tr><td>Tractors</td><td>30,051</td><td>29,763</td><td>1.0</td><td>25,791</td><td>16.5</td><td>4,02,582</td><td>354,698</td><td>13.5</td></tr><tr><td>ita Motors</td><td>87,709</td><td>86561</td><td>1.3</td><td>79,705</td><td>10.0</td><td>9,51,287</td><td>7,26,191</td><td>31.0</td></tr><tr><td>HCV\\'s</td><td>22,589</td><td>23,238</td><td>= -2.8</td><td>17,928</td><td>26.0</td><td>1,78,195</td><td>1,44,500</td><td>23.3</td></tr><tr><td>LCV\\'s</td><td>21,485</td><td>20,855</td><td>3.0</td><td>18,637</td><td>15.3</td><td>2,32,595</td><td>2,09,515</td><td>11.0</td></tr><tr><td>CV\\'s</td><td>44,074</td><td>44,093</td><td>0.0</td><td>36,565</td><td>20.5</td><td>4,10,790</td><td>3,54,015</td><td>16.0</td></tr><tr><td>Cars</td><td>14,463</td><td>14,369</td><td>0.7</td><td>14,344</td><td>0.8</td><td>177,165</td><td>1,44,670</td><td>22.5</td></tr><tr><td>UV\\'s</td><td>29,171</td><td>28,099</td><td>3.8</td><td>28,796</td><td>13</td><td>3,63,332</td><td>2,27,506</td><td>59.7</td></tr><tr><td>sro MotoCorp</td><td>434,165</td><td>4,50,170</td><td>—-3.6</td><td>394,460</td><td>10.1</td><td>52,43,369</td><td>49,44,148</td><td>6.1</td></tr><tr><td>,jaj Auto</td><td>281,922</td><td>2,97,188</td><td>-5.1</td><td>2,80,226</td><td>0.6</td><td>39,16,077</td><td>43,0833</td><td>-9.1</td></tr><tr><td>‘wo-Wheelers</td><td>2,33,703</td><td>—-2,56,324</td><td>—-8.8</td><td>235,356</td><td>—-0.7</td><td>34,27,405</td><td>38,36,856</td><td>-10.7</td></tr><tr><td>hree-Wheelers</td><td>48,219</td><td>40,864</td><td>18.0</td><td>44870</td><td>7.5</td><td>488,672</td><td>4,71,577</td><td>3.6</td></tr><tr><td>omestic</td><td>164,775</td><td>—1,26,752</td><td>30.0</td><td>153,291</td><td>75</td><td>20,82,735</td><td>18,01,807</td><td>15.6</td></tr><tr><td>ports</td><td>117,146</td><td>—1,70,436</td><td>~—-31.3</td><td>1,26,935</td><td>—--7.7</td><td>18,33,341</td><td>25,06,626</td><td>-26.9</td></tr><tr><td>shok Leyland</td><td>20,894</td><td>20,123</td><td>3.8</td><td>18,571</td><td>12.5</td><td>1,89,173</td><td>1,28,326</td><td>47.4</td></tr><tr><td>M&amp;HCV</td><td>14,197</td><td>13,990</td><td>1.5</td><td>12,668</td><td>12.1</td><td>1,21,533</td><td>73,885</td><td>64.5</td></tr><tr><td>LCV</td><td>6,697</td><td>6133</td><td>9.2</td><td>5903</td><td>13.5</td><td>67,640</td><td>54,441</td><td>24</td></tr><tr><td>/S Motor</td><td>292,177</td><td>3,07,954</td><td>-5.1</td><td>2,76,150</td><td>5.8</td><td>36,57,093</td><td>33,09,578</td><td>10.5</td></tr><tr><td>otorcycles</td><td>1,37,970</td><td>1,60,522</td><td>-14.0</td><td>1,26,243</td><td>9.3</td><td>17,29,976</td><td>17,31,459</td><td>-0.1</td></tr><tr><td>ooters</td><td>105,785</td><td>94,747</td><td>11.6</td><td>1,04,825</td><td>09</td><td>12,97,275</td><td>9,21,939</td><td>40.7</td></tr><tr><td>opeds</td><td>38,352</td><td>37,649</td><td>1.9</td><td>35,958</td><td>6.7</td><td>460,251</td><td>4,84,305</td><td>-5.0</td></tr><tr><td>\\\\ree-Wheelers</td><td>10,070</td><td>15,036</td><td>-33.0</td><td>9124</td><td>10.4</td><td>169,591</td><td>1,71,875</td><td>-1.3</td></tr><tr><td>smestic</td><td>235,861</td><td>1,98,230</td><td>19.0</td><td>2,22,745</td><td>5.9</td><td>26,07,757</td><td>20,56,387</td><td>26.8</td></tr><tr><td>ports</td><td>56,315</td><td>1,09,724</td><td>-48.7</td><td>53,405</td><td>5.4</td><td>10,49,335</td><td>12,53,191</td><td>-16.3</td></tr><tr><td colspan=\"9\">cher Motors</td></tr><tr><td colspan=\"9\">nyal Enfield 74,155 67,670 9.6 71544 3.6 836,815 6,02,268 38.9</td></tr><tr><td>ECV</td><td>9,125</td><td>8,793</td><td>3.8</td><td>7,289</td><td>25.2</td><td>76,821</td><td>57,067</td><td>34.6</td></tr><tr><td>corts Kubota</td><td>10,195</td><td>10,074</td><td>1.2</td><td>7811</td><td>30.5</td><td>1,03,180</td><td>94,228</td><td>9.5</td></tr></table>'"
      ]
     },
     "execution_count": 108,
     "metadata": {},
     "output_type": "execute_result"
    }
   ],
   "source": [
    "elements[25].metadata.text_as_html"
   ]
  },
  {
   "cell_type": "markdown",
   "metadata": {},
   "source": [
    "this is for table data extraction"
   ]
  },
  {
   "cell_type": "code",
   "execution_count": 119,
   "metadata": {},
   "outputs": [
    {
     "data": {
      "text/plain": [
       "['<table><thead><th>ympany Sales</th><th>Mar-23</th><th>Mar-22</th><th>YOY (%) chg</th><th>Feb-23</th><th>MoM (%) chg</th><th>FY23E</th><th>ry22</th><th>(%) chg</th></thead><tr><td>aruti Suzuki</td><td>164812</td><td>1,70,395</td><td>-3.3</td><td>172,321.</td><td>-4.4</td><td>19,60,905</td><td>16,52,653</td><td>18.7</td></tr><tr><td>Vs</td><td>3,887</td><td>3,797</td><td>2.4</td><td>3356</td><td>15.8</td><td>37,869</td><td>33,812</td><td>12.0</td></tr><tr><td>ans</td><td>11,901</td><td>9,221</td><td>29.1</td><td>11,352.</td><td>«4.8</td><td>131,097</td><td>1,08,345</td><td>21.0</td></tr><tr><td>ini Segment</td><td>20,020</td><td>15,491</td><td>29.2</td><td>21,875</td><td>-8.5</td><td>2,41,349</td><td>2,11,762</td><td>14.0</td></tr><tr><td>»mpact (incl Dzire Tour)</td><td>74,673</td><td>84,761</td><td>-11.9</td><td>81,325</td><td>8.2</td><td>895,245</td><td>7,26,443</td><td>23.2</td></tr><tr><td>id-Size - CIAZ</td><td>972</td><td>1,834</td><td>-47.0</td><td>792</td><td>(22.7</td><td>14,282</td><td>15,869</td><td>-10.0</td></tr><tr><td>Vs</td><td>36,931</td><td>28,795</td><td>28.3</td><td>36,414</td><td>1.4</td><td>395,421</td><td>3,18,046</td><td>24.3</td></tr><tr><td>omestic</td><td>148,385</td><td>1,43,899</td><td>3.1</td><td>155,114</td><td>-4.3</td><td>17,15,264</td><td>14,14,277</td><td>21.3</td></tr><tr><td>port</td><td>16,427</td><td>26,496</td><td>-38.0</td><td>17,207</td><td>-4.5</td><td>245,641</td><td>2,38,376</td><td>3.0</td></tr><tr><td>ahindra &amp; Mahindra</td><td>94,804</td><td>84,406</td><td>12.3</td><td>84,592</td><td>12.1</td><td>10,993,710</td><td>8,20,299</td><td>34.1</td></tr><tr><td>UV (incl. pick-ups)</td><td>57,637</td><td>49,771</td><td>15.8</td><td>52,364</td><td>10.1</td><td>628,612</td><td>4,29,087</td><td>46.5</td></tr><tr><td>LCV &amp; M&amp;HCV</td><td>833</td><td></td><td>8290.5</td><td>1,087</td><td>23.3</td><td>9,410</td><td>6435</td><td>46.2</td></tr><tr><td>Three-Wheelers</td><td>6,282</td><td>4,043</td><td>55.4</td><td>5350</td><td>17.4</td><td>59,105</td><td>30,079</td><td>96.5</td></tr><tr><td>Tractors</td><td>30,051</td><td>29,763</td><td>1.0</td><td>25,791</td><td>16.5</td><td>4,02,582</td><td>354,698</td><td>13.5</td></tr><tr><td>ita Motors</td><td>87,709</td><td>86561</td><td>1.3</td><td>79,705</td><td>10.0</td><td>9,51,287</td><td>7,26,191</td><td>31.0</td></tr><tr><td>HCV\\'s</td><td>22,589</td><td>23,238</td><td>= -2.8</td><td>17,928</td><td>26.0</td><td>1,78,195</td><td>1,44,500</td><td>23.3</td></tr><tr><td>LCV\\'s</td><td>21,485</td><td>20,855</td><td>3.0</td><td>18,637</td><td>15.3</td><td>2,32,595</td><td>2,09,515</td><td>11.0</td></tr><tr><td>CV\\'s</td><td>44,074</td><td>44,093</td><td>0.0</td><td>36,565</td><td>20.5</td><td>4,10,790</td><td>3,54,015</td><td>16.0</td></tr><tr><td>Cars</td><td>14,463</td><td>14,369</td><td>0.7</td><td>14,344</td><td>0.8</td><td>177,165</td><td>1,44,670</td><td>22.5</td></tr><tr><td>UV\\'s</td><td>29,171</td><td>28,099</td><td>3.8</td><td>28,796</td><td>13</td><td>3,63,332</td><td>2,27,506</td><td>59.7</td></tr><tr><td>sro MotoCorp</td><td>434,165</td><td>4,50,170</td><td>—-3.6</td><td>394,460</td><td>10.1</td><td>52,43,369</td><td>49,44,148</td><td>6.1</td></tr><tr><td>,jaj Auto</td><td>281,922</td><td>2,97,188</td><td>-5.1</td><td>2,80,226</td><td>0.6</td><td>39,16,077</td><td>43,0833</td><td>-9.1</td></tr><tr><td>‘wo-Wheelers</td><td>2,33,703</td><td>—-2,56,324</td><td>—-8.8</td><td>235,356</td><td>—-0.7</td><td>34,27,405</td><td>38,36,856</td><td>-10.7</td></tr><tr><td>hree-Wheelers</td><td>48,219</td><td>40,864</td><td>18.0</td><td>44870</td><td>7.5</td><td>488,672</td><td>4,71,577</td><td>3.6</td></tr><tr><td>omestic</td><td>164,775</td><td>—1,26,752</td><td>30.0</td><td>153,291</td><td>75</td><td>20,82,735</td><td>18,01,807</td><td>15.6</td></tr><tr><td>ports</td><td>117,146</td><td>—1,70,436</td><td>~—-31.3</td><td>1,26,935</td><td>—--7.7</td><td>18,33,341</td><td>25,06,626</td><td>-26.9</td></tr><tr><td>shok Leyland</td><td>20,894</td><td>20,123</td><td>3.8</td><td>18,571</td><td>12.5</td><td>1,89,173</td><td>1,28,326</td><td>47.4</td></tr><tr><td>M&amp;HCV</td><td>14,197</td><td>13,990</td><td>1.5</td><td>12,668</td><td>12.1</td><td>1,21,533</td><td>73,885</td><td>64.5</td></tr><tr><td>LCV</td><td>6,697</td><td>6133</td><td>9.2</td><td>5903</td><td>13.5</td><td>67,640</td><td>54,441</td><td>24</td></tr><tr><td>/S Motor</td><td>292,177</td><td>3,07,954</td><td>-5.1</td><td>2,76,150</td><td>5.8</td><td>36,57,093</td><td>33,09,578</td><td>10.5</td></tr><tr><td>otorcycles</td><td>1,37,970</td><td>1,60,522</td><td>-14.0</td><td>1,26,243</td><td>9.3</td><td>17,29,976</td><td>17,31,459</td><td>-0.1</td></tr><tr><td>ooters</td><td>105,785</td><td>94,747</td><td>11.6</td><td>1,04,825</td><td>09</td><td>12,97,275</td><td>9,21,939</td><td>40.7</td></tr><tr><td>opeds</td><td>38,352</td><td>37,649</td><td>1.9</td><td>35,958</td><td>6.7</td><td>460,251</td><td>4,84,305</td><td>-5.0</td></tr><tr><td>\\\\ree-Wheelers</td><td>10,070</td><td>15,036</td><td>-33.0</td><td>9124</td><td>10.4</td><td>169,591</td><td>1,71,875</td><td>-1.3</td></tr><tr><td>smestic</td><td>235,861</td><td>1,98,230</td><td>19.0</td><td>2,22,745</td><td>5.9</td><td>26,07,757</td><td>20,56,387</td><td>26.8</td></tr><tr><td>ports</td><td>56,315</td><td>1,09,724</td><td>-48.7</td><td>53,405</td><td>5.4</td><td>10,49,335</td><td>12,53,191</td><td>-16.3</td></tr><tr><td colspan=\"9\">cher Motors</td></tr><tr><td colspan=\"9\">nyal Enfield 74,155 67,670 9.6 71544 3.6 836,815 6,02,268 38.9</td></tr><tr><td>ECV</td><td>9,125</td><td>8,793</td><td>3.8</td><td>7,289</td><td>25.2</td><td>76,821</td><td>57,067</td><td>34.6</td></tr><tr><td>corts Kubota</td><td>10,195</td><td>10,074</td><td>1.2</td><td>7811</td><td>30.5</td><td>1,03,180</td><td>94,228</td><td>9.5</td></tr></table>',\n",
       " '<table><thead><th rowspan=\"3\">Auto OEM\\'s Bajaj Auto</th><th rowspan=\"3\">Rating Neutral</th><th rowspan=\"3\">Mcap| (INR b) 1,077</th><th rowspan=\"3\">CMP (INR) | 3,807</th><th rowspan=\"3\">TP (INR) 4,150/</th><th colspan=\"3\">P/E (x)</th><th colspan=\"3\">EV/ EBITDA (x)</th><th colspan=\"3\" rowspan=\"2\">FY25E|FY23E FY24E</th><th colspan=\"3\" rowspan=\"2\">PB (x) FY25E|FY23E FY24E FY25E|</th><th colspan=\"2\">Viel (6)</th><th rowspan=\"3\">“oe FY23E-25E 11.8</th></thead><thead><th></th><th></th><th></th><th></th><th></th><th rowspan=\"2\">|FY23E 17.9</th><th>FY24E</th><th></th><th colspan=\"3\"></th><th colspan=\"3\"></th><th>Div</th><th>FCF |</th><th></th></thead><thead><th></th><th></th><th></th><th></th><th></th><th></th><th>158</th><th></th><th>143/130</th><th>111</th><th>101/44</th><th></th><th>43</th><th>41/55</th><th></th><th>53</th><th></th></thead><tr><td>HeroMotoCorp</td><td>Buy</td><td></td><td>462_-2,308</td><td>2,982</td><td>17.2</td><td>138</td><td>124/91</td><td></td><td>7.2</td><td></td><td>63/28</td><td>27</td><td>25/61</td><td></td><td>86</td><td>178</td></tr><tr><td>IVS Motor</td><td>Neutral</td><td>497</td><td>|1,047</td><td>969</td><td>34.0</td><td>256</td><td></td><td>220/186</td><td>142</td><td>121/82</td><td></td><td>65</td><td>5.206</td><td></td><td>50</td><td>24.2</td></tr><tr><td>Eicher Motors</td><td>Buy</td><td>789</td><td>2,886</td><td>3,613</td><td>282</td><td>215</td><td></td><td>17.0|223</td><td>184</td><td>150/54</td><td></td><td>45</td><td>36/09</td><td></td><td>58</td><td>28.9</td></tr><tr><td>Maruti Suzuki</td><td>Buy</td><td>2,500</td><td>8,275</td><td>10,545</td><td>31.7</td><td>227</td><td></td><td>191/195</td><td>142</td><td>120/42</td><td></td><td>37</td><td>33/18</td><td></td><td>39</td><td>28.7</td></tr><tr><td>M&amp;M</td><td>Buy</td><td>1,362</td><td>1,138</td><td>1,524</td><td>184</td><td>146</td><td></td><td>128/131</td><td>100</td><td></td><td>84/15</td><td>13</td><td>11/15</td><td></td><td>72</td><td>20.2</td></tr><tr><td>Tata Motors</td><td>Buy</td><td>1577</td><td>412</td><td>531</td><td>-703</td><td>156</td><td>127/73</td><td></td><td>39</td><td></td><td>32/36</td><td>29</td><td>24/00</td><td></td><td>90</td><td>#NUM!</td></tr><tr><td>Ashok Leyland</td><td>Buy</td><td>395</td><td>135</td><td>186</td><td>345</td><td>173</td><td></td><td>133/149</td><td>101</td><td></td><td>81/54</td><td>50</td><td>41/15</td><td></td><td>92</td><td>61.0</td></tr><tr><td>Escorts</td><td>Neutral</td><td>226</td><td>|1,844</td><td>1,895</td><td>318</td><td>249</td><td></td><td>195/258</td><td>134</td><td>115/25</td><td></td><td>25</td><td>23/05</td><td></td><td>42</td><td>27.7</td></tr><tr><td colspan=\"17\">Auto Ancillaries</td></tr><tr><td>Bharat Forge</td><td>Buy</td><td>353</td><td>| 758</td><td>1,050</td><td>46.0</td><td>231</td><td></td><td>180/196</td><td>135</td><td>109|</td><td>5.0</td><td>43</td><td>35|08</td><td></td><td>58</td><td>59.7</td></tr><tr><td>Exide Industries</td><td>Buy</td><td>147</td><td>173</td><td>215</td><td>150</td><td>133</td><td>110/88</td><td></td><td>7.7</td><td></td><td>62/13</td><td>12</td><td>11/19</td><td></td><td>87</td><td>16.9</td></tr><tr><td>Amara Raja</td><td>Neutral</td><td>95</td><td>| 557</td><td></td><td>630/121</td><td>113</td><td>104/66</td><td></td><td>58</td><td></td><td>51/19</td><td>17</td><td>15/27</td><td></td><td>49</td><td>78</td></tr><tr><td>BOSCH</td><td>Neutral</td><td>540</td><td></td><td>18,32318,125</td><td>37.0</td><td>289</td><td>25.3</td><td>27.6</td><td>209</td><td>180\\\\47</td><td></td><td>44</td><td>40/19</td><td></td><td>25</td><td>21.0</td></tr><tr><td>EnduranceTech</td><td>Buy</td><td>167</td><td>1,190</td><td>1,625</td><td>335</td><td>223</td><td></td><td>191/158</td><td>116</td><td></td><td>99/39</td><td>35</td><td>31/13</td><td></td><td>39</td><td>32.3</td></tr><tr><td>SAMIL</td><td>Buy</td><td>434</td><td>64</td><td>100</td><td>308</td><td>163</td><td>122/90</td><td></td><td>62</td><td></td><td>47/20</td><td>19</td><td>17/25</td><td></td><td>123</td><td>59.1</td></tr><tr><td>Mahindra CIE</td><td>Buy</td><td>129</td><td>341</td><td>450</td><td>189</td><td>145</td><td></td><td>124/113</td><td>88</td><td></td><td>73/25</td><td>22</td><td>19/13</td><td></td><td>60</td><td>23.3</td></tr><tr><td>CEAT</td><td>Buy</td><td>55</td><td>1,369</td><td>1860</td><td>337</td><td>115</td><td></td><td>91/84</td><td>51</td><td>41/16</td><td></td><td>15</td><td>13/09</td><td></td><td>124</td><td>93.0</td></tr><tr><td>Balkrishna Ind</td><td>Neutral</td><td>374</td><td>| 1,937</td><td>2,035</td><td>36.9</td><td>238</td><td></td><td>201/196</td><td>14.2</td><td>121/50</td><td></td><td>44</td><td>38/18</td><td></td><td>35</td><td>35.4</td></tr><tr><td>MRF</td><td>Sell</td><td>354</td><td>83,603</td><td>75,000</td><td>52.4</td><td>268</td><td></td><td>202/162</td><td>110</td><td></td><td>89/24</td><td>22</td><td>20/02</td><td></td><td>32</td><td>60.9</td></tr><tr><td>Apollo Tyres</td><td>Buy</td><td>195</td><td>307</td><td>395</td><td>173</td><td>121</td><td></td><td>97/66</td><td>50</td><td></td><td>40/14</td><td>13</td><td>12/15</td><td></td><td>129</td><td>34.1</td></tr><tr><td>Sona BLW</td><td>Neutral</td><td>242</td><td>| 415</td><td>485</td><td>60.0</td><td>411</td><td></td><td>324/378</td><td>263</td><td></td><td>212/105</td><td>89</td><td>74/09</td><td></td><td>189</td><td>36.0</td></tr><tr><td>Tube Investments</td><td>Buy</td><td>468</td><td>2,495</td><td>3,194</td><td>37.4</td><td>304</td><td></td><td>245/271</td><td>225</td><td></td><td>181/122</td><td>96</td><td>75</td><td>|04</td><td>43</td><td>23.5</td></tr><tr><td>MSUMI</td><td>Buy</td><td>209</td><td>47</td><td>73</td><td>428</td><td>259</td><td></td><td>216/282</td><td>17.7</td><td></td><td>148/157</td><td>110</td><td>85</td><td>|22</td><td>42</td><td>41.0</td></tr></table>',\n",
       " '<table><thead><th>Explanation Rating Investment Rating</th><th>Expected return (over 12-month)</th><th></th></thead><tr><td>BUY</td><td>&gt;=15%</td><td></td></tr><tr><td>SELL</td><td>&lt;- 10%</td><td></td></tr><tr><td>NEUTRAL</td><td>&gt;- 10% to 15%</td><td></td></tr><tr><td>UNDER REVIEW.</td><td>Rating may undergo a change</td><td></td></tr></table>']"
      ]
     },
     "execution_count": 119,
     "metadata": {},
     "output_type": "execute_result"
    }
   ],
   "source": [
    "html_texts = []\n",
    "import unstructured\n",
    "\n",
    "for element in elements:\n",
    "    if isinstance(element, unstructured.documents.elements.Table):\n",
    "        html_text = element.metadata.text_as_html\n",
    "        html_texts.append(html_text)\n",
    "\n",
    "html_texts"
   ]
  },
  {
   "cell_type": "code",
   "execution_count": 65,
   "metadata": {},
   "outputs": [
    {
     "data": {
      "text/plain": [
       "'MOFSL, it’s associates, Research Analyst or their relatives may have any financial interest in the subject company. MOFSL and/or its associates and/or Research Analyst or their relatives may have actual beneficial ownership of 1% or more securities in the subject company at the end of the month immediately preceding the date of publication of the Research Report or date of the public appearance. MOFSL and its associate company(ies), their directors and Research Analyst and their relatives may have any other potential conflict of interests at the time of publication of the research report or at the time of public appearance, however the same shall have no bearing whatsoever on the specific recommendations made by the analyst(s), as the recommendations made by the analyst(s) are completely independent of the views of the associates of MOFSL even though there might exist an inherent conflict of interest in some of the stocks mentioned in the research report.'"
      ]
     },
     "execution_count": 65,
     "metadata": {},
     "output_type": "execute_result"
    }
   ],
   "source": [
    "elements[67].text"
   ]
  }
 ],
 "metadata": {
  "kernelspec": {
   "display_name": "myenv",
   "language": "python",
   "name": "python3"
  },
  "language_info": {
   "codemirror_mode": {
    "name": "ipython",
    "version": 3
   },
   "file_extension": ".py",
   "mimetype": "text/x-python",
   "name": "python",
   "nbconvert_exporter": "python",
   "pygments_lexer": "ipython3",
   "version": "3.10.12"
  }
 },
 "nbformat": 4,
 "nbformat_minor": 2
}
